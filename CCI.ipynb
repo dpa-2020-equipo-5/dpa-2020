{
 "cells": [
  {
   "cell_type": "code",
   "execution_count": 1,
   "metadata": {},
   "outputs": [
    {
     "name": "stderr",
     "output_type": "stream",
     "text": [
      "C:\\Users\\Elizabeth\\Anaconda3\\lib\\site-packages\\statsmodels\\tools\\_testing.py:19: FutureWarning: pandas.util.testing is deprecated. Use the functions in the public API at pandas.testing instead.\n",
      "  import pandas.util.testing as tm\n"
     ]
    }
   ],
   "source": [
    "import pandas as pd\n",
    "import matplotlib\n",
    "import matplotlib.pyplot as plt\n",
    "import seaborn as sns #Control figure \n",
    "import numpy as np\n",
    "import os\n",
    "matplotlib.style.use('ggplot')\n",
    "%matplotlib inline"
   ]
  },
  {
   "cell_type": "code",
   "execution_count": 2,
   "metadata": {},
   "outputs": [],
   "source": [
    "from sodapy import Socrata"
   ]
  },
  {
   "cell_type": "code",
   "execution_count": 3,
   "metadata": {},
   "outputs": [],
   "source": [
    "#MyAppToken = ''"
   ]
  },
  {
   "cell_type": "code",
   "execution_count": 4,
   "metadata": {},
   "outputs": [],
   "source": [
    "#client = Socrata(\"data.cityofnewyork.us\", MyAppToken)"
   ]
  },
  {
   "cell_type": "code",
   "execution_count": 5,
   "metadata": {},
   "outputs": [],
   "source": [
    "#results = client.get(\"dsg6-ifza\", limit=2000)"
   ]
  },
  {
   "cell_type": "code",
   "execution_count": 6,
   "metadata": {},
   "outputs": [],
   "source": [
    "#df = pd.DataFrame.from_records(results)"
   ]
  },
  {
   "cell_type": "code",
   "execution_count": 7,
   "metadata": {},
   "outputs": [],
   "source": [
    "cwd = os.getcwd() #to get current working directory\n",
    "#print(cwd)"
   ]
  },
  {
   "cell_type": "code",
   "execution_count": 8,
   "metadata": {},
   "outputs": [],
   "source": [
    "df = pd.read_csv('DOHMH_Childcare_Center_Inspections.csv', encoding = \"L1\")"
   ]
  },
  {
   "cell_type": "code",
   "execution_count": 9,
   "metadata": {},
   "outputs": [
    {
     "name": "stdout",
     "output_type": "stream",
     "text": [
      "<class 'pandas.core.frame.DataFrame'>\n",
      "RangeIndex: 52024 entries, 0 to 52023\n",
      "Data columns (total 34 columns):\n",
      " #   Column                                       Non-Null Count  Dtype  \n",
      "---  ------                                       --------------  -----  \n",
      " 0   Center Name                                  52024 non-null  object \n",
      " 1   Legal Name                                   52024 non-null  object \n",
      " 2   Building                                     52013 non-null  object \n",
      " 3   Street                                       52024 non-null  object \n",
      " 4   Borough                                      52024 non-null  object \n",
      " 5   ZipCode                                      51942 non-null  float64\n",
      " 6   Phone                                        51977 non-null  object \n",
      " 7   Permit Number                                46227 non-null  float64\n",
      " 8   Permit Expiration                            52024 non-null  object \n",
      " 9   Status                                       52024 non-null  object \n",
      " 10  Age Range                                    49708 non-null  object \n",
      " 11  Maximum Capacity                             52024 non-null  int64  \n",
      " 12  Day Care ID                                  52024 non-null  object \n",
      " 13  Program Type                                 52024 non-null  object \n",
      " 14  Facility Type                                52024 non-null  object \n",
      " 15  Child Care Type                              52024 non-null  object \n",
      " 16  Building Identification Number               52024 non-null  int64  \n",
      " 17  URL                                          25629 non-null  object \n",
      " 18  Date Permitted                               45947 non-null  object \n",
      " 19  Actual                                       45947 non-null  object \n",
      " 20  Violation Rate Percent                       51931 non-null  float64\n",
      " 21  Average Violation Rate Percent               51916 non-null  float64\n",
      " 22  Total Educational Workers                    52024 non-null  int64  \n",
      " 23  Average Total Educational Workers            52024 non-null  float64\n",
      " 24  Public Health Hazard Violation Rate          51931 non-null  float64\n",
      " 25  Average Public Health Hazard Violation Rate  51916 non-null  float64\n",
      " 26  Critical Violation Rate                      51931 non-null  float64\n",
      " 27  Average Critical Violation Rate              51916 non-null  float64\n",
      " 28  Inspection Date                              51968 non-null  object \n",
      " 29  Regulation Summary                           51968 non-null  object \n",
      " 30  Violation Category                           36358 non-null  object \n",
      " 31  Health Code Sub Section                      36358 non-null  object \n",
      " 32  Violation Status                             36358 non-null  object \n",
      " 33  Inspection Summary Result                    49242 non-null  object \n",
      "dtypes: float64(9), int64(3), object(22)\n",
      "memory usage: 13.5+ MB\n"
     ]
    }
   ],
   "source": [
    "df.info()"
   ]
  },
  {
   "cell_type": "code",
   "execution_count": 10,
   "metadata": {},
   "outputs": [],
   "source": [
    "def clean_string(astr):\n",
    "    return astr.lower().replace('.', '') \\\n",
    "        .replace(',', '') \\\n",
    "        .replace(';', '') \\\n",
    "        .replace(':', '') \\\n",
    "        .replace('á', 'a') \\\n",
    "        .replace('é', 'e') \\\n",
    "        .replace('í', 'i') \\\n",
    "        .replace('ó', 'o') \\\n",
    "        .replace('ú', 'u') \\\n",
    "        .replace(' ', '_') \\\n",
    "        .replace('ñ', 'ni')"
   ]
  },
  {
   "cell_type": "code",
   "execution_count": 11,
   "metadata": {},
   "outputs": [],
   "source": [
    "def clean_columns(df):\n",
    "    for series in df:\n",
    "        df.rename(columns={series:clean_string(series)}, inplace=True)"
   ]
  },
  {
   "cell_type": "code",
   "execution_count": 12,
   "metadata": {},
   "outputs": [],
   "source": [
    "def execute(raw_dataset_path, clean_dataset_path):\n",
    "    print(\"\\t-> Leyendo datos crudos a un DataFrame\")\n",
    "    df = pd.read_csv('DOHMH_Childcare_Center_Inspections.csv')"
   ]
  },
  {
   "cell_type": "code",
   "execution_count": 13,
   "metadata": {},
   "outputs": [
    {
     "name": "stdout",
     "output_type": "stream",
     "text": [
      "\t-> Limpando columnas\n"
     ]
    }
   ],
   "source": [
    "print(\"\\t-> Limpando columnas\")"
   ]
  },
  {
   "cell_type": "code",
   "execution_count": 14,
   "metadata": {},
   "outputs": [],
   "source": [
    "clean_columns(df)"
   ]
  },
  {
   "cell_type": "code",
   "execution_count": 15,
   "metadata": {},
   "outputs": [
    {
     "name": "stdout",
     "output_type": "stream",
     "text": [
      "<class 'pandas.core.frame.DataFrame'>\n",
      "RangeIndex: 52024 entries, 0 to 52023\n",
      "Data columns (total 34 columns):\n",
      " #   Column                                       Non-Null Count  Dtype  \n",
      "---  ------                                       --------------  -----  \n",
      " 0   center_name                                  52024 non-null  object \n",
      " 1   legal_name                                   52024 non-null  object \n",
      " 2   building                                     52013 non-null  object \n",
      " 3   street                                       52024 non-null  object \n",
      " 4   borough                                      52024 non-null  object \n",
      " 5   zipcode                                      51942 non-null  float64\n",
      " 6   phone                                        51977 non-null  object \n",
      " 7   permit_number                                46227 non-null  float64\n",
      " 8   permit_expiration                            52024 non-null  object \n",
      " 9   status                                       52024 non-null  object \n",
      " 10  age_range                                    49708 non-null  object \n",
      " 11  maximum_capacity                             52024 non-null  int64  \n",
      " 12  day_care_id                                  52024 non-null  object \n",
      " 13  program_type                                 52024 non-null  object \n",
      " 14  facility_type                                52024 non-null  object \n",
      " 15  child_care_type                              52024 non-null  object \n",
      " 16  building_identification_number               52024 non-null  int64  \n",
      " 17  url                                          25629 non-null  object \n",
      " 18  date_permitted                               45947 non-null  object \n",
      " 19  actual                                       45947 non-null  object \n",
      " 20  violation_rate_percent                       51931 non-null  float64\n",
      " 21  average_violation_rate_percent               51916 non-null  float64\n",
      " 22  total_educational_workers                    52024 non-null  int64  \n",
      " 23  average_total_educational_workers            52024 non-null  float64\n",
      " 24  public_health_hazard_violation_rate          51931 non-null  float64\n",
      " 25  average_public_health_hazard_violation_rate  51916 non-null  float64\n",
      " 26  critical_violation_rate                      51931 non-null  float64\n",
      " 27  average_critical_violation_rate              51916 non-null  float64\n",
      " 28  inspection_date                              51968 non-null  object \n",
      " 29  regulation_summary                           51968 non-null  object \n",
      " 30  violation_category                           36358 non-null  object \n",
      " 31  health_code_sub_section                      36358 non-null  object \n",
      " 32  violation_status                             36358 non-null  object \n",
      " 33  inspection_summary_result                    49242 non-null  object \n",
      "dtypes: float64(9), int64(3), object(22)\n",
      "memory usage: 13.5+ MB\n"
     ]
    }
   ],
   "source": [
    "df.info()"
   ]
  },
  {
   "cell_type": "code",
   "execution_count": 16,
   "metadata": {},
   "outputs": [
    {
     "name": "stdout",
     "output_type": "stream",
     "text": [
      "\t-> Reemplazando espacios en blanco\n"
     ]
    }
   ],
   "source": [
    "print(\"\\t-> Reemplazando espacios en blanco\")\n",
    "for col in df.select_dtypes('object'):\n",
    "    df[col] = df[col].replace('\\s+', ' ', regex=True)"
   ]
  },
  {
   "cell_type": "code",
   "execution_count": 17,
   "metadata": {},
   "outputs": [
    {
     "name": "stdout",
     "output_type": "stream",
     "text": [
      "\t-> Limpiando valores\n"
     ]
    }
   ],
   "source": [
    "print(\"\\t-> Limpiando valores\")\n",
    "for col in df.select_dtypes('object'):\n",
    "        df[col] = df[col].str.strip()\n",
    "        df[col] = df[col].str.lower()\n",
    "        df[col] = df[col].str.replace('á', 'a')\n",
    "        df[col] = df[col].str.replace('é', 'e')\n",
    "        df[col] = df[col].str.replace('í', 'i')\n",
    "        df[col] = df[col].str.replace('ó', 'o')\n",
    "        df[col] = df[col].str.replace('ú', 'u')\n",
    "        df[col] = df[col].str.replace(' ', '_')"
   ]
  },
  {
   "cell_type": "code",
   "execution_count": 18,
   "metadata": {},
   "outputs": [
    {
     "name": "stdout",
     "output_type": "stream",
     "text": [
      "\t-> Cambiando NA por np.nan\n"
     ]
    }
   ],
   "source": [
    "print(\"\\t-> Cambiando NA por np.nan\")\n",
    "for col in df.select_dtypes('object'):\n",
    "    df.loc[df[col] == 'na', col] = np.nan"
   ]
  },
  {
   "cell_type": "code",
   "execution_count": 19,
   "metadata": {},
   "outputs": [],
   "source": [
    "df.to_csv('df.csv', index=False)"
   ]
  },
  {
   "cell_type": "code",
   "execution_count": 20,
   "metadata": {},
   "outputs": [
    {
     "name": "stdout",
     "output_type": "stream",
     "text": [
      "\t-> Cuántos valores NaN tiene la base\n"
     ]
    }
   ],
   "source": [
    "print(\"\\t-> Cuántos valores NaN tiene la base\")"
   ]
  },
  {
   "cell_type": "code",
   "execution_count": 21,
   "metadata": {},
   "outputs": [
    {
     "data": {
      "text/plain": [
       "center_name                                        0\n",
       "legal_name                                         0\n",
       "building                                          11\n",
       "street                                             0\n",
       "borough                                            0\n",
       "zipcode                                           82\n",
       "phone                                             47\n",
       "permit_number                                   5797\n",
       "permit_expiration                                  0\n",
       "status                                             0\n",
       "age_range                                       2316\n",
       "maximum_capacity                                   0\n",
       "day_care_id                                        0\n",
       "program_type                                       0\n",
       "facility_type                                      0\n",
       "child_care_type                                    0\n",
       "building_identification_number                     0\n",
       "url                                            26395\n",
       "date_permitted                                  6077\n",
       "actual                                          6077\n",
       "violation_rate_percent                            93\n",
       "average_violation_rate_percent                   108\n",
       "total_educational_workers                          0\n",
       "average_total_educational_workers                  0\n",
       "public_health_hazard_violation_rate               93\n",
       "average_public_health_hazard_violation_rate      108\n",
       "critical_violation_rate                           93\n",
       "average_critical_violation_rate                  108\n",
       "inspection_date                                   56\n",
       "regulation_summary                                56\n",
       "violation_category                             15666\n",
       "health_code_sub_section                        15666\n",
       "violation_status                               15666\n",
       "inspection_summary_result                       2782\n",
       "dtype: int64"
      ]
     },
     "execution_count": 21,
     "metadata": {},
     "output_type": "execute_result"
    }
   ],
   "source": [
    "df.isnull().sum()"
   ]
  },
  {
   "cell_type": "code",
   "execution_count": 22,
   "metadata": {},
   "outputs": [
    {
     "name": "stdout",
     "output_type": "stream",
     "text": [
      "\t-> Eliminar duplicados\n"
     ]
    }
   ],
   "source": [
    "print(\"\\t-> Eliminar duplicados\")"
   ]
  },
  {
   "cell_type": "code",
   "execution_count": 23,
   "metadata": {},
   "outputs": [
    {
     "data": {
      "text/plain": [
       "12653"
      ]
     },
     "execution_count": 23,
     "metadata": {},
     "output_type": "execute_result"
    }
   ],
   "source": [
    "df.duplicated().sum()"
   ]
  },
  {
   "cell_type": "code",
   "execution_count": 24,
   "metadata": {},
   "outputs": [
    {
     "data": {
      "text/plain": [
       "(39371, 34)"
      ]
     },
     "execution_count": 24,
     "metadata": {},
     "output_type": "execute_result"
    }
   ],
   "source": [
    "df = df.drop_duplicates()\n",
    "df.shape"
   ]
  },
  {
   "cell_type": "markdown",
   "metadata": {},
   "source": [
    "### TABLA 3"
   ]
  },
  {
   "cell_type": "code",
   "execution_count": 25,
   "metadata": {},
   "outputs": [],
   "source": [
    "dummies = [\"borough\", \"status\", \"program_type\", \"facility_type\"]\n",
    "df_1 = df[[i for i in df.keys() if i not in dummies]]\n",
    "df_2 = pd.get_dummies(df[dummies])"
   ]
  },
  {
   "cell_type": "code",
   "execution_count": 26,
   "metadata": {},
   "outputs": [
    {
     "name": "stdout",
     "output_type": "stream",
     "text": [
      "<class 'pandas.core.frame.DataFrame'>\n",
      "Int64Index: 48920 entries, 0 to 52023\n",
      "Data columns (total 46 columns):\n",
      " #   Column                                       Non-Null Count  Dtype  \n",
      "---  ------                                       --------------  -----  \n",
      " 0   center_name                                  39371 non-null  object \n",
      " 1   legal_name                                   39371 non-null  object \n",
      " 2   building                                     39360 non-null  object \n",
      " 3   street                                       39371 non-null  object \n",
      " 4   zipcode                                      39321 non-null  float64\n",
      " 5   phone                                        39325 non-null  object \n",
      " 6   permit_number                                35549 non-null  float64\n",
      " 7   permit_expiration                            39371 non-null  object \n",
      " 8   age_range                                    37584 non-null  object \n",
      " 9   maximum_capacity                             39371 non-null  float64\n",
      " 10  day_care_id                                  39371 non-null  object \n",
      " 11  child_care_type                              39371 non-null  object \n",
      " 12  building_identification_number               39371 non-null  float64\n",
      " 13  url                                          19993 non-null  object \n",
      " 14  date_permitted                               35292 non-null  object \n",
      " 15  actual                                       35292 non-null  object \n",
      " 16  violation_rate_percent                       39286 non-null  float64\n",
      " 17  average_violation_rate_percent               39273 non-null  float64\n",
      " 18  total_educational_workers                    39371 non-null  float64\n",
      " 19  average_total_educational_workers            39371 non-null  float64\n",
      " 20  public_health_hazard_violation_rate          39286 non-null  float64\n",
      " 21  average_public_health_hazard_violation_rate  39273 non-null  float64\n",
      " 22  critical_violation_rate                      39286 non-null  float64\n",
      " 23  average_critical_violation_rate              39273 non-null  float64\n",
      " 24  inspection_date                              39315 non-null  object \n",
      " 25  regulation_summary                           39315 non-null  object \n",
      " 26  violation_category                           23870 non-null  object \n",
      " 27  health_code_sub_section                      23870 non-null  object \n",
      " 28  violation_status                             23870 non-null  object \n",
      " 29  inspection_summary_result                    37230 non-null  object \n",
      " 30  borough_bronx                                39371 non-null  float64\n",
      " 31  borough_brooklyn                             39371 non-null  float64\n",
      " 32  borough_manhattan                            39371 non-null  float64\n",
      " 33  borough_queens                               39371 non-null  float64\n",
      " 34  borough_staten_island                        39371 non-null  float64\n",
      " 35  status_active                                39371 non-null  float64\n",
      " 36  status_expired-in_renewal                    39371 non-null  float64\n",
      " 37  status_permitted                             39371 non-null  float64\n",
      " 38  program_type_all_age_camp                    39371 non-null  float64\n",
      " 39  program_type_infant_toddler                  39371 non-null  float64\n",
      " 40  program_type_preschool                       39371 non-null  float64\n",
      " 41  program_type_preschool_camp                  39371 non-null  float64\n",
      " 42  program_type_school_age_camp                 39371 non-null  float64\n",
      " 43  facility_type_camp                           39371 non-null  float64\n",
      " 44  facility_type_gdc                            39371 non-null  float64\n",
      " 45  facility_type_sbcc                           39371 non-null  float64\n",
      "dtypes: float64(28), object(18)\n",
      "memory usage: 17.5+ MB\n"
     ]
    }
   ],
   "source": [
    "df = pd.concat([df_1.reset_index(drop=True), df_2], axis=1)\n",
    "df.info()"
   ]
  },
  {
   "cell_type": "markdown",
   "metadata": {},
   "source": [
    "### TABLA 4"
   ]
  },
  {
   "cell_type": "code",
   "execution_count": 27,
   "metadata": {},
   "outputs": [
    {
     "name": "stdout",
     "output_type": "stream",
     "text": [
      "\t-> Reagrupar en tres variables Inspection Summary Result: reason, result_1 y result_2\n"
     ]
    }
   ],
   "source": [
    "print(\"\\t-> Reagrupar en tres variables Inspection Summary Result: reason, result_1 y result_2\")"
   ]
  },
  {
   "cell_type": "code",
   "execution_count": 28,
   "metadata": {},
   "outputs": [],
   "source": [
    "df['inspection_summary_result'] = df['inspection_summary_result'].astype('str')"
   ]
  },
  {
   "cell_type": "code",
   "execution_count": 29,
   "metadata": {},
   "outputs": [],
   "source": [
    "df_3 = pd.DataFrame(df.inspection_summary_result.str.split('_-_',1).tolist(), columns= ['reason', 'result'])"
   ]
  },
  {
   "cell_type": "code",
   "execution_count": 30,
   "metadata": {},
   "outputs": [],
   "source": [
    "df_3['result'] = df_3['result'].astype('str')"
   ]
  },
  {
   "cell_type": "code",
   "execution_count": 31,
   "metadata": {},
   "outputs": [],
   "source": [
    "df_4 = pd.DataFrame(df_3.result.str.split(';_',1).tolist(), columns = ['result_1', 'result_2'])"
   ]
  },
  {
   "cell_type": "code",
   "execution_count": 32,
   "metadata": {},
   "outputs": [],
   "source": [
    "df_3 = df_3.drop(df_3.columns[[1]], axis=1) "
   ]
  },
  {
   "cell_type": "code",
   "execution_count": 33,
   "metadata": {},
   "outputs": [],
   "source": [
    "df = pd.concat([df, df_3, df_4], axis=1)"
   ]
  },
  {
   "cell_type": "code",
   "execution_count": 34,
   "metadata": {},
   "outputs": [],
   "source": [
    "df = df.drop(df.columns[[33]], axis = 1) #Eliminar inspection_summary_result"
   ]
  },
  {
   "cell_type": "code",
   "execution_count": 35,
   "metadata": {},
   "outputs": [
    {
     "name": "stdout",
     "output_type": "stream",
     "text": [
      "<class 'pandas.core.frame.DataFrame'>\n",
      "Int64Index: 51306 entries, 0 to 52023\n",
      "Data columns (total 48 columns):\n",
      " #   Column                                       Non-Null Count  Dtype  \n",
      "---  ------                                       --------------  -----  \n",
      " 0   center_name                                  39371 non-null  object \n",
      " 1   legal_name                                   39371 non-null  object \n",
      " 2   building                                     39360 non-null  object \n",
      " 3   street                                       39371 non-null  object \n",
      " 4   zipcode                                      39321 non-null  float64\n",
      " 5   phone                                        39325 non-null  object \n",
      " 6   permit_number                                35549 non-null  float64\n",
      " 7   permit_expiration                            39371 non-null  object \n",
      " 8   age_range                                    37584 non-null  object \n",
      " 9   maximum_capacity                             39371 non-null  float64\n",
      " 10  day_care_id                                  39371 non-null  object \n",
      " 11  child_care_type                              39371 non-null  object \n",
      " 12  building_identification_number               39371 non-null  float64\n",
      " 13  url                                          19993 non-null  object \n",
      " 14  date_permitted                               35292 non-null  object \n",
      " 15  actual                                       35292 non-null  object \n",
      " 16  violation_rate_percent                       39286 non-null  float64\n",
      " 17  average_violation_rate_percent               39273 non-null  float64\n",
      " 18  total_educational_workers                    39371 non-null  float64\n",
      " 19  average_total_educational_workers            39371 non-null  float64\n",
      " 20  public_health_hazard_violation_rate          39286 non-null  float64\n",
      " 21  average_public_health_hazard_violation_rate  39273 non-null  float64\n",
      " 22  critical_violation_rate                      39286 non-null  float64\n",
      " 23  average_critical_violation_rate              39273 non-null  float64\n",
      " 24  inspection_date                              39315 non-null  object \n",
      " 25  regulation_summary                           39315 non-null  object \n",
      " 26  violation_category                           23870 non-null  object \n",
      " 27  health_code_sub_section                      23870 non-null  object \n",
      " 28  violation_status                             23870 non-null  object \n",
      " 29  inspection_summary_result                    48920 non-null  object \n",
      " 30  borough_bronx                                39371 non-null  float64\n",
      " 31  borough_brooklyn                             39371 non-null  float64\n",
      " 32  borough_manhattan                            39371 non-null  float64\n",
      " 33  borough_staten_island                        39371 non-null  float64\n",
      " 34  status_active                                39371 non-null  float64\n",
      " 35  status_expired-in_renewal                    39371 non-null  float64\n",
      " 36  status_permitted                             39371 non-null  float64\n",
      " 37  program_type_all_age_camp                    39371 non-null  float64\n",
      " 38  program_type_infant_toddler                  39371 non-null  float64\n",
      " 39  program_type_preschool                       39371 non-null  float64\n",
      " 40  program_type_preschool_camp                  39371 non-null  float64\n",
      " 41  program_type_school_age_camp                 39371 non-null  float64\n",
      " 42  facility_type_camp                           39371 non-null  float64\n",
      " 43  facility_type_gdc                            39371 non-null  float64\n",
      " 44  facility_type_sbcc                           39371 non-null  float64\n",
      " 45  reason                                       48920 non-null  object \n",
      " 46  result_1                                     48920 non-null  object \n",
      " 47  result_2                                     16146 non-null  object \n",
      "dtypes: float64(27), object(21)\n",
      "memory usage: 19.2+ MB\n"
     ]
    }
   ],
   "source": [
    "df.info()"
   ]
  },
  {
   "cell_type": "code",
   "execution_count": 36,
   "metadata": {},
   "outputs": [
    {
     "name": "stdout",
     "output_type": "stream",
     "text": [
      "\t-> A la variable reason la hacemos dummy, es decir, initial annual inspection es 1 y en otro caso es cero\n"
     ]
    }
   ],
   "source": [
    "print(\"\\t-> A la variable reason la hacemos dummy, es decir, initial annual inspection es 1 y en otro caso es cero\")"
   ]
  },
  {
   "cell_type": "code",
   "execution_count": 37,
   "metadata": {},
   "outputs": [
    {
     "data": {
      "text/plain": [
       "initial_annual_inspection                       25075\n",
       "nan                                             11690\n",
       "compliance_inspection_of_open_violations         6857\n",
       "monitoring_inspection_non-routine                5223\n",
       "NaN                                              2386\n",
       "lead_based_paint_or_lead_in_water_inspection       75\n",
       "Name: reason, dtype: int64"
      ]
     },
     "execution_count": 37,
     "metadata": {},
     "output_type": "execute_result"
    }
   ],
   "source": [
    "df.reason.value_counts(dropna=False)"
   ]
  },
  {
   "cell_type": "code",
   "execution_count": 40,
   "metadata": {},
   "outputs": [],
   "source": [
    "df['initial_annual_inspection'] = df.reason.apply(lambda x: 1 if x == \"initial_annual_inspection\" else 0)"
   ]
  },
  {
   "cell_type": "code",
   "execution_count": 41,
   "metadata": {},
   "outputs": [
    {
     "data": {
      "text/plain": [
       "0    26231\n",
       "1    25075\n",
       "Name: initial_annual_inspection, dtype: int64"
      ]
     },
     "execution_count": 41,
     "metadata": {},
     "output_type": "execute_result"
    }
   ],
   "source": [
    "df.initial_annual_inspection.value_counts(dropna=False)"
   ]
  },
  {
   "cell_type": "code",
   "execution_count": 42,
   "metadata": {},
   "outputs": [
    {
     "name": "stdout",
     "output_type": "stream",
     "text": [
      "<class 'pandas.core.frame.DataFrame'>\n",
      "Int64Index: 51306 entries, 0 to 52023\n",
      "Data columns (total 49 columns):\n",
      " #   Column                                       Non-Null Count  Dtype  \n",
      "---  ------                                       --------------  -----  \n",
      " 0   center_name                                  39371 non-null  object \n",
      " 1   legal_name                                   39371 non-null  object \n",
      " 2   building                                     39360 non-null  object \n",
      " 3   street                                       39371 non-null  object \n",
      " 4   zipcode                                      39321 non-null  float64\n",
      " 5   phone                                        39325 non-null  object \n",
      " 6   permit_number                                35549 non-null  float64\n",
      " 7   permit_expiration                            39371 non-null  object \n",
      " 8   age_range                                    37584 non-null  object \n",
      " 9   maximum_capacity                             39371 non-null  float64\n",
      " 10  day_care_id                                  39371 non-null  object \n",
      " 11  child_care_type                              39371 non-null  object \n",
      " 12  building_identification_number               39371 non-null  float64\n",
      " 13  url                                          19993 non-null  object \n",
      " 14  date_permitted                               35292 non-null  object \n",
      " 15  actual                                       35292 non-null  object \n",
      " 16  violation_rate_percent                       39286 non-null  float64\n",
      " 17  average_violation_rate_percent               39273 non-null  float64\n",
      " 18  total_educational_workers                    39371 non-null  float64\n",
      " 19  average_total_educational_workers            39371 non-null  float64\n",
      " 20  public_health_hazard_violation_rate          39286 non-null  float64\n",
      " 21  average_public_health_hazard_violation_rate  39273 non-null  float64\n",
      " 22  critical_violation_rate                      39286 non-null  float64\n",
      " 23  average_critical_violation_rate              39273 non-null  float64\n",
      " 24  inspection_date                              39315 non-null  object \n",
      " 25  regulation_summary                           39315 non-null  object \n",
      " 26  violation_category                           23870 non-null  object \n",
      " 27  health_code_sub_section                      23870 non-null  object \n",
      " 28  violation_status                             23870 non-null  object \n",
      " 29  inspection_summary_result                    48920 non-null  object \n",
      " 30  borough_bronx                                39371 non-null  float64\n",
      " 31  borough_brooklyn                             39371 non-null  float64\n",
      " 32  borough_manhattan                            39371 non-null  float64\n",
      " 33  borough_staten_island                        39371 non-null  float64\n",
      " 34  status_active                                39371 non-null  float64\n",
      " 35  status_expired-in_renewal                    39371 non-null  float64\n",
      " 36  status_permitted                             39371 non-null  float64\n",
      " 37  program_type_all_age_camp                    39371 non-null  float64\n",
      " 38  program_type_infant_toddler                  39371 non-null  float64\n",
      " 39  program_type_preschool                       39371 non-null  float64\n",
      " 40  program_type_preschool_camp                  39371 non-null  float64\n",
      " 41  program_type_school_age_camp                 39371 non-null  float64\n",
      " 42  facility_type_camp                           39371 non-null  float64\n",
      " 43  facility_type_gdc                            39371 non-null  float64\n",
      " 44  facility_type_sbcc                           39371 non-null  float64\n",
      " 45  reason                                       48920 non-null  object \n",
      " 46  result_1                                     48920 non-null  object \n",
      " 47  result_2                                     16146 non-null  object \n",
      " 48  initial_annual_inspection                    51306 non-null  int64  \n",
      "dtypes: float64(27), int64(1), object(21)\n",
      "memory usage: 19.6+ MB\n"
     ]
    }
   ],
   "source": [
    "df.info()"
   ]
  },
  {
   "cell_type": "code",
   "execution_count": 43,
   "metadata": {},
   "outputs": [],
   "source": [
    "df = df.drop(df.columns[[45]], axis=1) #Eliminamos la variable reason"
   ]
  },
  {
   "cell_type": "code",
   "execution_count": 44,
   "metadata": {},
   "outputs": [
    {
     "name": "stdout",
     "output_type": "stream",
     "text": [
      "\t-> Creamos dummies a las variables result_1 y result_2\n"
     ]
    }
   ],
   "source": [
    "print(\"\\t-> Creamos dummies a las variables result_1 y result_2\")"
   ]
  },
  {
   "cell_type": "code",
   "execution_count": 45,
   "metadata": {},
   "outputs": [],
   "source": [
    "dummies = [\"result_1\", \"result_2\"]\n",
    "df_2 = df[[i for i in df.keys() if i not in dummies]]\n",
    "df_3 = pd.get_dummies(df[dummies])"
   ]
  },
  {
   "cell_type": "code",
   "execution_count": 46,
   "metadata": {},
   "outputs": [
    {
     "name": "stdout",
     "output_type": "stream",
     "text": [
      "<class 'pandas.core.frame.DataFrame'>\n",
      "Int64Index: 51889 entries, 0 to 52023\n",
      "Data columns (total 56 columns):\n",
      " #   Column                                               Non-Null Count  Dtype  \n",
      "---  ------                                               --------------  -----  \n",
      " 0   center_name                                          39371 non-null  object \n",
      " 1   legal_name                                           39371 non-null  object \n",
      " 2   building                                             39360 non-null  object \n",
      " 3   street                                               39371 non-null  object \n",
      " 4   zipcode                                              39321 non-null  float64\n",
      " 5   phone                                                39325 non-null  object \n",
      " 6   permit_number                                        35549 non-null  float64\n",
      " 7   permit_expiration                                    39371 non-null  object \n",
      " 8   age_range                                            37584 non-null  object \n",
      " 9   maximum_capacity                                     39371 non-null  float64\n",
      " 10  day_care_id                                          39371 non-null  object \n",
      " 11  child_care_type                                      39371 non-null  object \n",
      " 12  building_identification_number                       39371 non-null  float64\n",
      " 13  url                                                  19993 non-null  object \n",
      " 14  date_permitted                                       35292 non-null  object \n",
      " 15  actual                                               35292 non-null  object \n",
      " 16  violation_rate_percent                               39286 non-null  float64\n",
      " 17  average_violation_rate_percent                       39273 non-null  float64\n",
      " 18  total_educational_workers                            39371 non-null  float64\n",
      " 19  average_total_educational_workers                    39371 non-null  float64\n",
      " 20  public_health_hazard_violation_rate                  39286 non-null  float64\n",
      " 21  average_public_health_hazard_violation_rate          39273 non-null  float64\n",
      " 22  critical_violation_rate                              39286 non-null  float64\n",
      " 23  average_critical_violation_rate                      39273 non-null  float64\n",
      " 24  inspection_date                                      39315 non-null  object \n",
      " 25  regulation_summary                                   39315 non-null  object \n",
      " 26  violation_category                                   23870 non-null  object \n",
      " 27  health_code_sub_section                              23870 non-null  object \n",
      " 28  violation_status                                     23870 non-null  object \n",
      " 29  inspection_summary_result                            48920 non-null  object \n",
      " 30  borough_bronx                                        39371 non-null  float64\n",
      " 31  borough_brooklyn                                     39371 non-null  float64\n",
      " 32  borough_manhattan                                    39371 non-null  float64\n",
      " 33  borough_staten_island                                39371 non-null  float64\n",
      " 34  status_active                                        39371 non-null  float64\n",
      " 35  status_expired-in_renewal                            39371 non-null  float64\n",
      " 36  status_permitted                                     39371 non-null  float64\n",
      " 37  program_type_all_age_camp                            39371 non-null  float64\n",
      " 38  program_type_infant_toddler                          39371 non-null  float64\n",
      " 39  program_type_preschool                               39371 non-null  float64\n",
      " 40  program_type_preschool_camp                          39371 non-null  float64\n",
      " 41  program_type_school_age_camp                         39371 non-null  float64\n",
      " 42  facility_type_camp                                   39371 non-null  float64\n",
      " 43  facility_type_gdc                                    39371 non-null  float64\n",
      " 44  facility_type_sbcc                                   39371 non-null  float64\n",
      " 45  initial_annual_inspection                            51306 non-null  float64\n",
      " 46  result_1_None                                        51306 non-null  float64\n",
      " 47  result_1_passed_inspection                           51306 non-null  float64\n",
      " 48  result_1_passed_inspection_with_no_violations        51306 non-null  float64\n",
      " 49  result_1_previously_cited_violations_corrected       51306 non-null  float64\n",
      " 50  result_1_previously_closed_program_re-opened         51306 non-null  float64\n",
      " 51  result_1_reinspection_not_required                   51306 non-null  float64\n",
      " 52  result_1_reinspection_required                       51306 non-null  float64\n",
      " 53  result_2_fines_pending                               51306 non-null  float64\n",
      " 54  result_2_program_closed                              51306 non-null  float64\n",
      " 55  result_2_violations_corrected_at_time_of_inspection  51306 non-null  float64\n",
      "dtypes: float64(38), object(18)\n",
      "memory usage: 22.6+ MB\n"
     ]
    }
   ],
   "source": [
    "df = pd.concat([df_2.reset_index(drop=True), df_3], axis=1)\n",
    "df.info()"
   ]
  },
  {
   "cell_type": "code",
   "execution_count": 47,
   "metadata": {},
   "outputs": [
    {
     "name": "stdout",
     "output_type": "stream",
     "text": [
      "\t-> Creamos variables de año, mes y día a partir de Inspection date\n"
     ]
    }
   ],
   "source": [
    "print(\"\\t-> Creamos variables de año, mes y día a partir de Inspection date\")"
   ]
  },
  {
   "cell_type": "code",
   "execution_count": 48,
   "metadata": {},
   "outputs": [],
   "source": [
    "df['inspection_date'] = pd.to_datetime(df.inspection_date, format = '%m/%d/%Y')"
   ]
  },
  {
   "cell_type": "code",
   "execution_count": 49,
   "metadata": {},
   "outputs": [],
   "source": [
    "df['inspection_year'] = df['inspection_date'].dt.year"
   ]
  },
  {
   "cell_type": "code",
   "execution_count": 50,
   "metadata": {},
   "outputs": [],
   "source": [
    "df['inspection_month_name'] = df['inspection_date'].dt.month_name()"
   ]
  },
  {
   "cell_type": "code",
   "execution_count": 51,
   "metadata": {},
   "outputs": [],
   "source": [
    "df['inspection_day_name'] = df['inspection_date'].dt.day_name()"
   ]
  },
  {
   "cell_type": "code",
   "execution_count": 52,
   "metadata": {},
   "outputs": [
    {
     "name": "stdout",
     "output_type": "stream",
     "text": [
      "\t-> Eliminamos días festivos, sábado y domingo \n"
     ]
    }
   ],
   "source": [
    "print(\"\\t-> Eliminamos días festivos, sábado y domingo \")"
   ]
  },
  {
   "cell_type": "code",
   "execution_count": 53,
   "metadata": {},
   "outputs": [],
   "source": [
    "df = df.drop(df.loc[df['inspection_day_name']== 'Saturday'].index)"
   ]
  },
  {
   "cell_type": "code",
   "execution_count": 54,
   "metadata": {},
   "outputs": [],
   "source": [
    "df = df.drop(df.loc[df['inspection_day_name']== 'Sunday'].index)"
   ]
  },
  {
   "cell_type": "code",
   "execution_count": 55,
   "metadata": {},
   "outputs": [
    {
     "name": "stdout",
     "output_type": "stream",
     "text": [
      "\t-> Poner como primer columna center_id e inspection_date\n"
     ]
    }
   ],
   "source": [
    "print(\"\\t-> Poner como primer columna center_id e inspection_date\")"
   ]
  },
  {
   "cell_type": "code",
   "execution_count": 56,
   "metadata": {},
   "outputs": [],
   "source": [
    "df.rename(columns={'day_care_id':'center_id'}, inplace=True)"
   ]
  },
  {
   "cell_type": "code",
   "execution_count": 57,
   "metadata": {},
   "outputs": [],
   "source": [
    "def order(frame,var): \n",
    "    varlist =[w for w in frame.columns if w not in var] \n",
    "    frame = frame[var+varlist] \n",
    "    return frame"
   ]
  },
  {
   "cell_type": "code",
   "execution_count": 58,
   "metadata": {},
   "outputs": [],
   "source": [
    "df = order(df,['center_id', 'inspection_date'])"
   ]
  },
  {
   "cell_type": "code",
   "execution_count": 59,
   "metadata": {},
   "outputs": [
    {
     "name": "stdout",
     "output_type": "stream",
     "text": [
      "\t-> Ordenamos la base por year, month y day en forma descendente\n"
     ]
    }
   ],
   "source": [
    "print(\"\\t-> Ordenamos la base por year, month y day en forma descendente\")"
   ]
  },
  {
   "cell_type": "code",
   "execution_count": 60,
   "metadata": {},
   "outputs": [],
   "source": [
    "df.sort_values(['inspection_date'], ascending=[False], inplace=True)"
   ]
  },
  {
   "cell_type": "code",
   "execution_count": 61,
   "metadata": {},
   "outputs": [
    {
     "name": "stdout",
     "output_type": "stream",
     "text": [
      "\t-> Creamos dummy = 1 si existió violación\n"
     ]
    }
   ],
   "source": [
    "print(\"\\t-> Creamos dummy = 1 si existió violación\")"
   ]
  },
  {
   "cell_type": "code",
   "execution_count": 62,
   "metadata": {},
   "outputs": [
    {
     "data": {
      "text/plain": [
       "NaN                     28011\n",
       "general                 12136\n",
       "critical                 8338\n",
       "public_health_hazard     3396\n",
       "Name: violation_category, dtype: int64"
      ]
     },
     "execution_count": 62,
     "metadata": {},
     "output_type": "execute_result"
    }
   ],
   "source": [
    "df.violation_category.value_counts(dropna=False)"
   ]
  },
  {
   "cell_type": "code",
   "execution_count": 63,
   "metadata": {},
   "outputs": [],
   "source": [
    "df['violation'] = df['violation_category'].apply(lambda x: not pd.isnull(x))"
   ]
  },
  {
   "cell_type": "code",
   "execution_count": 64,
   "metadata": {},
   "outputs": [],
   "source": [
    "df['violation'] = df['violation'].apply(lambda x: 1 if x == True else 0)"
   ]
  },
  {
   "cell_type": "code",
   "execution_count": 65,
   "metadata": {},
   "outputs": [
    {
     "data": {
      "text/plain": [
       "0    28011\n",
       "1    23870\n",
       "Name: violation, dtype: int64"
      ]
     },
     "execution_count": 65,
     "metadata": {},
     "output_type": "execute_result"
    }
   ],
   "source": [
    "df.violation.value_counts(dropna=False)"
   ]
  },
  {
   "cell_type": "code",
   "execution_count": 66,
   "metadata": {},
   "outputs": [
    {
     "name": "stdout",
     "output_type": "stream",
     "text": [
      "\t-> Creamos dummy = 1 si existió violación y es un problema de salud pública\n"
     ]
    }
   ],
   "source": [
    "print(\"\\t-> Creamos dummy = 1 si existió violación y es un problema de salud pública\")"
   ]
  },
  {
   "cell_type": "code",
   "execution_count": 67,
   "metadata": {},
   "outputs": [],
   "source": [
    "df['public_hazard'] = df['violation_category'].apply(lambda x: 1 if x == 'public_health_hazard' else 0)"
   ]
  },
  {
   "cell_type": "code",
   "execution_count": 68,
   "metadata": {},
   "outputs": [
    {
     "data": {
      "text/plain": [
       "0    48485\n",
       "1     3396\n",
       "Name: public_hazard, dtype: int64"
      ]
     },
     "execution_count": 68,
     "metadata": {},
     "output_type": "execute_result"
    }
   ],
   "source": [
    "df.public_hazard.value_counts(dropna=False)"
   ]
  },
  {
   "cell_type": "code",
   "execution_count": 69,
   "metadata": {},
   "outputs": [
    {
     "name": "stdout",
     "output_type": "stream",
     "text": [
      "\t-> Creamos la variable violaciones_hist_salud_publica: Número de violaciones de salud pública históricas (2016-2019) por centro\n"
     ]
    }
   ],
   "source": [
    "print(\"\\t-> Creamos la variable violaciones_hist_salud_publica: Número de violaciones de salud pública históricas (2016-2019) por centro\")"
   ]
  },
  {
   "cell_type": "code",
   "execution_count": 70,
   "metadata": {},
   "outputs": [],
   "source": [
    "df['violaciones_hist_salud_publica'] = df.public_hazard[(df.inspection_year != 2020)]"
   ]
  },
  {
   "cell_type": "code",
   "execution_count": 71,
   "metadata": {},
   "outputs": [],
   "source": [
    "df_4 = df.groupby('center_id').violaciones_hist_salud_publica.sum().reset_index()"
   ]
  },
  {
   "cell_type": "code",
   "execution_count": 72,
   "metadata": {},
   "outputs": [],
   "source": [
    "df = pd.merge(left=df,right=df_4, how='left', left_on='center_id', right_on='center_id')"
   ]
  },
  {
   "cell_type": "code",
   "execution_count": 73,
   "metadata": {},
   "outputs": [
    {
     "name": "stdout",
     "output_type": "stream",
     "text": [
      "<class 'pandas.core.frame.DataFrame'>\n",
      "Int64Index: 51881 entries, 0 to 51880\n",
      "Data columns (total 63 columns):\n",
      " #   Column                                               Non-Null Count  Dtype         \n",
      "---  ------                                               --------------  -----         \n",
      " 0   center_id                                            39363 non-null  object        \n",
      " 1   inspection_date                                      39307 non-null  datetime64[ns]\n",
      " 2   center_name                                          39363 non-null  object        \n",
      " 3   legal_name                                           39363 non-null  object        \n",
      " 4   building                                             39352 non-null  object        \n",
      " 5   street                                               39363 non-null  object        \n",
      " 6   zipcode                                              39313 non-null  float64       \n",
      " 7   phone                                                39317 non-null  object        \n",
      " 8   permit_number                                        35542 non-null  float64       \n",
      " 9   permit_expiration                                    39363 non-null  object        \n",
      " 10  age_range                                            37577 non-null  object        \n",
      " 11  maximum_capacity                                     39363 non-null  float64       \n",
      " 12  child_care_type                                      39363 non-null  object        \n",
      " 13  building_identification_number                       39363 non-null  float64       \n",
      " 14  url                                                  19989 non-null  object        \n",
      " 15  date_permitted                                       35285 non-null  object        \n",
      " 16  actual                                               35285 non-null  object        \n",
      " 17  violation_rate_percent                               39278 non-null  float64       \n",
      " 18  average_violation_rate_percent                       39265 non-null  float64       \n",
      " 19  total_educational_workers                            39363 non-null  float64       \n",
      " 20  average_total_educational_workers                    39363 non-null  float64       \n",
      " 21  public_health_hazard_violation_rate                  39278 non-null  float64       \n",
      " 22  average_public_health_hazard_violation_rate          39265 non-null  float64       \n",
      " 23  critical_violation_rate                              39278 non-null  float64       \n",
      " 24  average_critical_violation_rate                      39265 non-null  float64       \n",
      " 25  regulation_summary                                   39307 non-null  object        \n",
      " 26  violation_category                                   23870 non-null  object        \n",
      " 27  health_code_sub_section                              23870 non-null  object        \n",
      " 28  violation_status                                     23870 non-null  object        \n",
      " 29  inspection_summary_result                            48912 non-null  object        \n",
      " 30  borough_bronx                                        39364 non-null  float64       \n",
      " 31  borough_brooklyn                                     39364 non-null  float64       \n",
      " 32  borough_manhattan                                    39364 non-null  float64       \n",
      " 33  borough_staten_island                                39364 non-null  float64       \n",
      " 34  status_active                                        39364 non-null  float64       \n",
      " 35  status_expired-in_renewal                            39364 non-null  float64       \n",
      " 36  status_permitted                                     39364 non-null  float64       \n",
      " 37  program_type_all_age_camp                            39364 non-null  float64       \n",
      " 38  program_type_infant_toddler                          39364 non-null  float64       \n",
      " 39  program_type_preschool                               39364 non-null  float64       \n",
      " 40  program_type_preschool_camp                          39364 non-null  float64       \n",
      " 41  program_type_school_age_camp                         39364 non-null  float64       \n",
      " 42  facility_type_camp                                   39364 non-null  float64       \n",
      " 43  facility_type_gdc                                    39364 non-null  float64       \n",
      " 44  facility_type_sbcc                                   39364 non-null  float64       \n",
      " 45  initial_annual_inspection                            51298 non-null  float64       \n",
      " 46  result_1_None                                        51298 non-null  float64       \n",
      " 47  result_1_passed_inspection                           51298 non-null  float64       \n",
      " 48  result_1_passed_inspection_with_no_violations        51298 non-null  float64       \n",
      " 49  result_1_previously_cited_violations_corrected       51298 non-null  float64       \n",
      " 50  result_1_previously_closed_program_re-opened         51298 non-null  float64       \n",
      " 51  result_1_reinspection_not_required                   51298 non-null  float64       \n",
      " 52  result_1_reinspection_required                       51298 non-null  float64       \n",
      " 53  result_2_fines_pending                               51298 non-null  float64       \n",
      " 54  result_2_program_closed                              51298 non-null  float64       \n",
      " 55  result_2_violations_corrected_at_time_of_inspection  51298 non-null  float64       \n",
      " 56  inspection_year                                      39307 non-null  float64       \n",
      " 57  inspection_month_name                                39307 non-null  object        \n",
      " 58  inspection_day_name                                  39307 non-null  object        \n",
      " 59  violation                                            51881 non-null  int64         \n",
      " 60  public_hazard                                        51881 non-null  int64         \n",
      " 61  violaciones_hist_salud_publica_x                     48168 non-null  float64       \n",
      " 62  violaciones_hist_salud_publica_y                     39363 non-null  float64       \n",
      "dtypes: datetime64[ns](1), float64(41), int64(2), object(19)\n",
      "memory usage: 25.3+ MB\n"
     ]
    }
   ],
   "source": [
    "df.info()"
   ]
  },
  {
   "cell_type": "code",
   "execution_count": 74,
   "metadata": {},
   "outputs": [],
   "source": [
    "df = df.drop(df.columns[[61]], axis=1) #Eliminamos la variable repetida"
   ]
  },
  {
   "cell_type": "code",
   "execution_count": 75,
   "metadata": {},
   "outputs": [],
   "source": [
    "df.rename(columns={'violaciones_hist_salud_publica_y':'violaciones_hist_salud_publica'}, inplace=True)"
   ]
  },
  {
   "cell_type": "code",
   "execution_count": 76,
   "metadata": {},
   "outputs": [
    {
     "name": "stdout",
     "output_type": "stream",
     "text": [
      "\t-> Creamos la variable violaciones_2019_salud_publica: Número de violaciones de salud pública en el 2019 por centro\n"
     ]
    }
   ],
   "source": [
    "print(\"\\t-> Creamos la variable violaciones_2019_salud_publica: Número de violaciones de salud pública en el 2019 por centro\")"
   ]
  },
  {
   "cell_type": "code",
   "execution_count": 77,
   "metadata": {},
   "outputs": [],
   "source": [
    "df['violaciones_2019_salud_publica'] = df.public_hazard[(df.inspection_year == 2019)]"
   ]
  },
  {
   "cell_type": "code",
   "execution_count": 78,
   "metadata": {},
   "outputs": [],
   "source": [
    "df_5 = df.groupby('center_id').violaciones_2019_salud_publica.sum().reset_index()"
   ]
  },
  {
   "cell_type": "code",
   "execution_count": 79,
   "metadata": {},
   "outputs": [],
   "source": [
    "df = pd.merge(left=df,right=df_5, how='left', left_on='center_id', right_on='center_id')"
   ]
  },
  {
   "cell_type": "code",
   "execution_count": 80,
   "metadata": {},
   "outputs": [
    {
     "name": "stdout",
     "output_type": "stream",
     "text": [
      "<class 'pandas.core.frame.DataFrame'>\n",
      "Int64Index: 51881 entries, 0 to 51880\n",
      "Data columns (total 64 columns):\n",
      " #   Column                                               Non-Null Count  Dtype         \n",
      "---  ------                                               --------------  -----         \n",
      " 0   center_id                                            39363 non-null  object        \n",
      " 1   inspection_date                                      39307 non-null  datetime64[ns]\n",
      " 2   center_name                                          39363 non-null  object        \n",
      " 3   legal_name                                           39363 non-null  object        \n",
      " 4   building                                             39352 non-null  object        \n",
      " 5   street                                               39363 non-null  object        \n",
      " 6   zipcode                                              39313 non-null  float64       \n",
      " 7   phone                                                39317 non-null  object        \n",
      " 8   permit_number                                        35542 non-null  float64       \n",
      " 9   permit_expiration                                    39363 non-null  object        \n",
      " 10  age_range                                            37577 non-null  object        \n",
      " 11  maximum_capacity                                     39363 non-null  float64       \n",
      " 12  child_care_type                                      39363 non-null  object        \n",
      " 13  building_identification_number                       39363 non-null  float64       \n",
      " 14  url                                                  19989 non-null  object        \n",
      " 15  date_permitted                                       35285 non-null  object        \n",
      " 16  actual                                               35285 non-null  object        \n",
      " 17  violation_rate_percent                               39278 non-null  float64       \n",
      " 18  average_violation_rate_percent                       39265 non-null  float64       \n",
      " 19  total_educational_workers                            39363 non-null  float64       \n",
      " 20  average_total_educational_workers                    39363 non-null  float64       \n",
      " 21  public_health_hazard_violation_rate                  39278 non-null  float64       \n",
      " 22  average_public_health_hazard_violation_rate          39265 non-null  float64       \n",
      " 23  critical_violation_rate                              39278 non-null  float64       \n",
      " 24  average_critical_violation_rate                      39265 non-null  float64       \n",
      " 25  regulation_summary                                   39307 non-null  object        \n",
      " 26  violation_category                                   23870 non-null  object        \n",
      " 27  health_code_sub_section                              23870 non-null  object        \n",
      " 28  violation_status                                     23870 non-null  object        \n",
      " 29  inspection_summary_result                            48912 non-null  object        \n",
      " 30  borough_bronx                                        39364 non-null  float64       \n",
      " 31  borough_brooklyn                                     39364 non-null  float64       \n",
      " 32  borough_manhattan                                    39364 non-null  float64       \n",
      " 33  borough_staten_island                                39364 non-null  float64       \n",
      " 34  status_active                                        39364 non-null  float64       \n",
      " 35  status_expired-in_renewal                            39364 non-null  float64       \n",
      " 36  status_permitted                                     39364 non-null  float64       \n",
      " 37  program_type_all_age_camp                            39364 non-null  float64       \n",
      " 38  program_type_infant_toddler                          39364 non-null  float64       \n",
      " 39  program_type_preschool                               39364 non-null  float64       \n",
      " 40  program_type_preschool_camp                          39364 non-null  float64       \n",
      " 41  program_type_school_age_camp                         39364 non-null  float64       \n",
      " 42  facility_type_camp                                   39364 non-null  float64       \n",
      " 43  facility_type_gdc                                    39364 non-null  float64       \n",
      " 44  facility_type_sbcc                                   39364 non-null  float64       \n",
      " 45  initial_annual_inspection                            51298 non-null  float64       \n",
      " 46  result_1_None                                        51298 non-null  float64       \n",
      " 47  result_1_passed_inspection                           51298 non-null  float64       \n",
      " 48  result_1_passed_inspection_with_no_violations        51298 non-null  float64       \n",
      " 49  result_1_previously_cited_violations_corrected       51298 non-null  float64       \n",
      " 50  result_1_previously_closed_program_re-opened         51298 non-null  float64       \n",
      " 51  result_1_reinspection_not_required                   51298 non-null  float64       \n",
      " 52  result_1_reinspection_required                       51298 non-null  float64       \n",
      " 53  result_2_fines_pending                               51298 non-null  float64       \n",
      " 54  result_2_program_closed                              51298 non-null  float64       \n",
      " 55  result_2_violations_corrected_at_time_of_inspection  51298 non-null  float64       \n",
      " 56  inspection_year                                      39307 non-null  float64       \n",
      " 57  inspection_month_name                                39307 non-null  object        \n",
      " 58  inspection_day_name                                  39307 non-null  object        \n",
      " 59  violation                                            51881 non-null  int64         \n",
      " 60  public_hazard                                        51881 non-null  int64         \n",
      " 61  violaciones_hist_salud_publica                       39363 non-null  float64       \n",
      " 62  violaciones_2019_salud_publica_x                     13220 non-null  float64       \n",
      " 63  violaciones_2019_salud_publica_y                     39363 non-null  float64       \n",
      "dtypes: datetime64[ns](1), float64(42), int64(2), object(19)\n",
      "memory usage: 25.7+ MB\n"
     ]
    }
   ],
   "source": [
    "df.info()"
   ]
  },
  {
   "cell_type": "code",
   "execution_count": 81,
   "metadata": {},
   "outputs": [],
   "source": [
    "df = df.drop(df.columns[[62]], axis=1) #Eliminamos la variable repetida"
   ]
  },
  {
   "cell_type": "code",
   "execution_count": 82,
   "metadata": {},
   "outputs": [],
   "source": [
    "df.rename(columns={'violaciones_2019_salud_publica_y':'violaciones_2019_salud_publica'}, inplace=True)"
   ]
  },
  {
   "cell_type": "code",
   "execution_count": 83,
   "metadata": {},
   "outputs": [
    {
     "name": "stdout",
     "output_type": "stream",
     "text": [
      "\t-> Creamos la variable violaciones_hist_criticas: Número de violaciones críticas históricas anteriores (2016-2019) por centro\n"
     ]
    }
   ],
   "source": [
    "print(\"\\t-> Creamos la variable violaciones_hist_criticas: Número de violaciones críticas históricas anteriores (2016-2019) por centro\")"
   ]
  },
  {
   "cell_type": "code",
   "execution_count": 84,
   "metadata": {},
   "outputs": [],
   "source": [
    "df['violation_critical'] = df['violation_category'].apply(lambda x: 1 if x == 'critical' else 0)"
   ]
  },
  {
   "cell_type": "code",
   "execution_count": 85,
   "metadata": {},
   "outputs": [],
   "source": [
    "df['violaciones_hist_criticas'] = df.violation_critical[(df.inspection_year != 2020)]"
   ]
  },
  {
   "cell_type": "code",
   "execution_count": 86,
   "metadata": {},
   "outputs": [],
   "source": [
    "df_6 = df.groupby('center_id').violaciones_hist_criticas.sum().reset_index()"
   ]
  },
  {
   "cell_type": "code",
   "execution_count": 87,
   "metadata": {},
   "outputs": [],
   "source": [
    "df = pd.merge(left=df,right=df_6, how='left', left_on='center_id', right_on='center_id')"
   ]
  },
  {
   "cell_type": "code",
   "execution_count": 88,
   "metadata": {},
   "outputs": [
    {
     "name": "stdout",
     "output_type": "stream",
     "text": [
      "<class 'pandas.core.frame.DataFrame'>\n",
      "Int64Index: 51881 entries, 0 to 51880\n",
      "Data columns (total 66 columns):\n",
      " #   Column                                               Non-Null Count  Dtype         \n",
      "---  ------                                               --------------  -----         \n",
      " 0   center_id                                            39363 non-null  object        \n",
      " 1   inspection_date                                      39307 non-null  datetime64[ns]\n",
      " 2   center_name                                          39363 non-null  object        \n",
      " 3   legal_name                                           39363 non-null  object        \n",
      " 4   building                                             39352 non-null  object        \n",
      " 5   street                                               39363 non-null  object        \n",
      " 6   zipcode                                              39313 non-null  float64       \n",
      " 7   phone                                                39317 non-null  object        \n",
      " 8   permit_number                                        35542 non-null  float64       \n",
      " 9   permit_expiration                                    39363 non-null  object        \n",
      " 10  age_range                                            37577 non-null  object        \n",
      " 11  maximum_capacity                                     39363 non-null  float64       \n",
      " 12  child_care_type                                      39363 non-null  object        \n",
      " 13  building_identification_number                       39363 non-null  float64       \n",
      " 14  url                                                  19989 non-null  object        \n",
      " 15  date_permitted                                       35285 non-null  object        \n",
      " 16  actual                                               35285 non-null  object        \n",
      " 17  violation_rate_percent                               39278 non-null  float64       \n",
      " 18  average_violation_rate_percent                       39265 non-null  float64       \n",
      " 19  total_educational_workers                            39363 non-null  float64       \n",
      " 20  average_total_educational_workers                    39363 non-null  float64       \n",
      " 21  public_health_hazard_violation_rate                  39278 non-null  float64       \n",
      " 22  average_public_health_hazard_violation_rate          39265 non-null  float64       \n",
      " 23  critical_violation_rate                              39278 non-null  float64       \n",
      " 24  average_critical_violation_rate                      39265 non-null  float64       \n",
      " 25  regulation_summary                                   39307 non-null  object        \n",
      " 26  violation_category                                   23870 non-null  object        \n",
      " 27  health_code_sub_section                              23870 non-null  object        \n",
      " 28  violation_status                                     23870 non-null  object        \n",
      " 29  inspection_summary_result                            48912 non-null  object        \n",
      " 30  borough_bronx                                        39364 non-null  float64       \n",
      " 31  borough_brooklyn                                     39364 non-null  float64       \n",
      " 32  borough_manhattan                                    39364 non-null  float64       \n",
      " 33  borough_staten_island                                39364 non-null  float64       \n",
      " 34  status_active                                        39364 non-null  float64       \n",
      " 35  status_expired-in_renewal                            39364 non-null  float64       \n",
      " 36  status_permitted                                     39364 non-null  float64       \n",
      " 37  program_type_all_age_camp                            39364 non-null  float64       \n",
      " 38  program_type_infant_toddler                          39364 non-null  float64       \n",
      " 39  program_type_preschool                               39364 non-null  float64       \n",
      " 40  program_type_preschool_camp                          39364 non-null  float64       \n",
      " 41  program_type_school_age_camp                         39364 non-null  float64       \n",
      " 42  facility_type_camp                                   39364 non-null  float64       \n",
      " 43  facility_type_gdc                                    39364 non-null  float64       \n",
      " 44  facility_type_sbcc                                   39364 non-null  float64       \n",
      " 45  initial_annual_inspection                            51298 non-null  float64       \n",
      " 46  result_1_None                                        51298 non-null  float64       \n",
      " 47  result_1_passed_inspection                           51298 non-null  float64       \n",
      " 48  result_1_passed_inspection_with_no_violations        51298 non-null  float64       \n",
      " 49  result_1_previously_cited_violations_corrected       51298 non-null  float64       \n",
      " 50  result_1_previously_closed_program_re-opened         51298 non-null  float64       \n",
      " 51  result_1_reinspection_not_required                   51298 non-null  float64       \n",
      " 52  result_1_reinspection_required                       51298 non-null  float64       \n",
      " 53  result_2_fines_pending                               51298 non-null  float64       \n",
      " 54  result_2_program_closed                              51298 non-null  float64       \n",
      " 55  result_2_violations_corrected_at_time_of_inspection  51298 non-null  float64       \n",
      " 56  inspection_year                                      39307 non-null  float64       \n",
      " 57  inspection_month_name                                39307 non-null  object        \n",
      " 58  inspection_day_name                                  39307 non-null  object        \n",
      " 59  violation                                            51881 non-null  int64         \n",
      " 60  public_hazard                                        51881 non-null  int64         \n",
      " 61  violaciones_hist_salud_publica                       39363 non-null  float64       \n",
      " 62  violaciones_2019_salud_publica                       39363 non-null  float64       \n",
      " 63  violation_critical                                   51881 non-null  int64         \n",
      " 64  violaciones_hist_criticas_x                          48168 non-null  float64       \n",
      " 65  violaciones_hist_criticas_y                          39363 non-null  float64       \n",
      "dtypes: datetime64[ns](1), float64(43), int64(3), object(19)\n",
      "memory usage: 26.5+ MB\n"
     ]
    }
   ],
   "source": [
    "df.info()"
   ]
  },
  {
   "cell_type": "code",
   "execution_count": 89,
   "metadata": {},
   "outputs": [],
   "source": [
    "df = df.drop(df.columns[[64]], axis=1) #Eliminamos la variable repetida"
   ]
  },
  {
   "cell_type": "code",
   "execution_count": 90,
   "metadata": {},
   "outputs": [],
   "source": [
    "df.rename(columns={'violaciones_hist_criticas_y':'violaciones_hist_criticas'}, inplace=True)"
   ]
  },
  {
   "cell_type": "code",
   "execution_count": 91,
   "metadata": {},
   "outputs": [
    {
     "name": "stdout",
     "output_type": "stream",
     "text": [
      "\t-> Creamos la variable violaciones_2019_criticas: Número de violaciones críticas en el 2019 por centro\n"
     ]
    }
   ],
   "source": [
    "print(\"\\t-> Creamos la variable violaciones_2019_criticas: Número de violaciones críticas en el 2019 por centro\")"
   ]
  },
  {
   "cell_type": "code",
   "execution_count": 92,
   "metadata": {},
   "outputs": [],
   "source": [
    "df['violaciones_2019_criticas'] = df.violation_critical[(df.inspection_year == 2019)]"
   ]
  },
  {
   "cell_type": "code",
   "execution_count": 93,
   "metadata": {},
   "outputs": [],
   "source": [
    "df_7 = df.groupby('center_id').violaciones_2019_criticas.sum().reset_index()"
   ]
  },
  {
   "cell_type": "code",
   "execution_count": 94,
   "metadata": {},
   "outputs": [],
   "source": [
    "df = pd.merge(left=df,right=df_7, how='left', left_on='center_id', right_on='center_id')"
   ]
  },
  {
   "cell_type": "code",
   "execution_count": 95,
   "metadata": {},
   "outputs": [
    {
     "name": "stdout",
     "output_type": "stream",
     "text": [
      "<class 'pandas.core.frame.DataFrame'>\n",
      "Int64Index: 51881 entries, 0 to 51880\n",
      "Data columns (total 67 columns):\n",
      " #   Column                                               Non-Null Count  Dtype         \n",
      "---  ------                                               --------------  -----         \n",
      " 0   center_id                                            39363 non-null  object        \n",
      " 1   inspection_date                                      39307 non-null  datetime64[ns]\n",
      " 2   center_name                                          39363 non-null  object        \n",
      " 3   legal_name                                           39363 non-null  object        \n",
      " 4   building                                             39352 non-null  object        \n",
      " 5   street                                               39363 non-null  object        \n",
      " 6   zipcode                                              39313 non-null  float64       \n",
      " 7   phone                                                39317 non-null  object        \n",
      " 8   permit_number                                        35542 non-null  float64       \n",
      " 9   permit_expiration                                    39363 non-null  object        \n",
      " 10  age_range                                            37577 non-null  object        \n",
      " 11  maximum_capacity                                     39363 non-null  float64       \n",
      " 12  child_care_type                                      39363 non-null  object        \n",
      " 13  building_identification_number                       39363 non-null  float64       \n",
      " 14  url                                                  19989 non-null  object        \n",
      " 15  date_permitted                                       35285 non-null  object        \n",
      " 16  actual                                               35285 non-null  object        \n",
      " 17  violation_rate_percent                               39278 non-null  float64       \n",
      " 18  average_violation_rate_percent                       39265 non-null  float64       \n",
      " 19  total_educational_workers                            39363 non-null  float64       \n",
      " 20  average_total_educational_workers                    39363 non-null  float64       \n",
      " 21  public_health_hazard_violation_rate                  39278 non-null  float64       \n",
      " 22  average_public_health_hazard_violation_rate          39265 non-null  float64       \n",
      " 23  critical_violation_rate                              39278 non-null  float64       \n",
      " 24  average_critical_violation_rate                      39265 non-null  float64       \n",
      " 25  regulation_summary                                   39307 non-null  object        \n",
      " 26  violation_category                                   23870 non-null  object        \n",
      " 27  health_code_sub_section                              23870 non-null  object        \n",
      " 28  violation_status                                     23870 non-null  object        \n",
      " 29  inspection_summary_result                            48912 non-null  object        \n",
      " 30  borough_bronx                                        39364 non-null  float64       \n",
      " 31  borough_brooklyn                                     39364 non-null  float64       \n",
      " 32  borough_manhattan                                    39364 non-null  float64       \n",
      " 33  borough_staten_island                                39364 non-null  float64       \n",
      " 34  status_active                                        39364 non-null  float64       \n",
      " 35  status_expired-in_renewal                            39364 non-null  float64       \n",
      " 36  status_permitted                                     39364 non-null  float64       \n",
      " 37  program_type_all_age_camp                            39364 non-null  float64       \n",
      " 38  program_type_infant_toddler                          39364 non-null  float64       \n",
      " 39  program_type_preschool                               39364 non-null  float64       \n",
      " 40  program_type_preschool_camp                          39364 non-null  float64       \n",
      " 41  program_type_school_age_camp                         39364 non-null  float64       \n",
      " 42  facility_type_camp                                   39364 non-null  float64       \n",
      " 43  facility_type_gdc                                    39364 non-null  float64       \n",
      " 44  facility_type_sbcc                                   39364 non-null  float64       \n",
      " 45  initial_annual_inspection                            51298 non-null  float64       \n",
      " 46  result_1_None                                        51298 non-null  float64       \n",
      " 47  result_1_passed_inspection                           51298 non-null  float64       \n",
      " 48  result_1_passed_inspection_with_no_violations        51298 non-null  float64       \n",
      " 49  result_1_previously_cited_violations_corrected       51298 non-null  float64       \n",
      " 50  result_1_previously_closed_program_re-opened         51298 non-null  float64       \n",
      " 51  result_1_reinspection_not_required                   51298 non-null  float64       \n",
      " 52  result_1_reinspection_required                       51298 non-null  float64       \n",
      " 53  result_2_fines_pending                               51298 non-null  float64       \n",
      " 54  result_2_program_closed                              51298 non-null  float64       \n",
      " 55  result_2_violations_corrected_at_time_of_inspection  51298 non-null  float64       \n",
      " 56  inspection_year                                      39307 non-null  float64       \n",
      " 57  inspection_month_name                                39307 non-null  object        \n",
      " 58  inspection_day_name                                  39307 non-null  object        \n",
      " 59  violation                                            51881 non-null  int64         \n",
      " 60  public_hazard                                        51881 non-null  int64         \n",
      " 61  violaciones_hist_salud_publica                       39363 non-null  float64       \n",
      " 62  violaciones_2019_salud_publica                       39363 non-null  float64       \n",
      " 63  violation_critical                                   51881 non-null  int64         \n",
      " 64  violaciones_hist_criticas                            39363 non-null  float64       \n",
      " 65  violaciones_2019_criticas_x                          13220 non-null  float64       \n",
      " 66  violaciones_2019_criticas_y                          39363 non-null  float64       \n",
      "dtypes: datetime64[ns](1), float64(44), int64(3), object(19)\n",
      "memory usage: 26.9+ MB\n"
     ]
    }
   ],
   "source": [
    "df.info()"
   ]
  },
  {
   "cell_type": "code",
   "execution_count": 96,
   "metadata": {},
   "outputs": [],
   "source": [
    "df = df.drop(df.columns[[65]], axis=1) #Eliminamos la variable repetida"
   ]
  },
  {
   "cell_type": "code",
   "execution_count": 97,
   "metadata": {},
   "outputs": [],
   "source": [
    "df.rename(columns={'violaciones_2019_criticas_y':'violaciones_2019_criticas'}, inplace=True)"
   ]
  },
  {
   "cell_type": "code",
   "execution_count": 98,
   "metadata": {},
   "outputs": [
    {
     "name": "stdout",
     "output_type": "stream",
     "text": [
      "\t-> Creamos la variable ratio_violaciones_hist: Número de inspecciones en total de primera vez que resultaron en violación crítica o de salud pública/ número de inspecciones de primera vez por centro\n"
     ]
    }
   ],
   "source": [
    "print(\"\\t-> Creamos la variable ratio_violaciones_hist: Número de inspecciones en total de primera vez que resultaron en violación crítica o de salud pública/ número de inspecciones de primera vez por centro\")"
   ]
  },
  {
   "cell_type": "code",
   "execution_count": 99,
   "metadata": {},
   "outputs": [],
   "source": [
    "df_8 = df.loc[df['inspection_year'] != 2020]"
   ]
  },
  {
   "cell_type": "code",
   "execution_count": 100,
   "metadata": {},
   "outputs": [],
   "source": [
    "df_8 = df[df.violation_category.isin(['critical', 'public_health_hazard']) & df['initial_annual_inspection']==1]"
   ]
  },
  {
   "cell_type": "code",
   "execution_count": 101,
   "metadata": {},
   "outputs": [],
   "source": [
    "df_9 = df_8.groupby('center_id').initial_annual_inspection.sum().reset_index()"
   ]
  },
  {
   "cell_type": "code",
   "execution_count": 102,
   "metadata": {},
   "outputs": [],
   "source": [
    "df_10 = df.groupby('center_id').initial_annual_inspection.sum().reset_index()"
   ]
  },
  {
   "cell_type": "code",
   "execution_count": 103,
   "metadata": {},
   "outputs": [],
   "source": [
    "df_11 = pd.merge(left=df_10,right=df_9, how='left', left_on='center_id', right_on='center_id')"
   ]
  },
  {
   "cell_type": "code",
   "execution_count": 104,
   "metadata": {},
   "outputs": [],
   "source": [
    "df_11['ratio_violaciones_hist'] = df_11['initial_annual_inspection_y'] / df_11['initial_annual_inspection_x']"
   ]
  },
  {
   "cell_type": "code",
   "execution_count": 105,
   "metadata": {},
   "outputs": [],
   "source": [
    "df = pd.merge(left=df,right=df_11, how='left', left_on='center_id', right_on='center_id')"
   ]
  },
  {
   "cell_type": "code",
   "execution_count": 106,
   "metadata": {},
   "outputs": [
    {
     "name": "stdout",
     "output_type": "stream",
     "text": [
      "<class 'pandas.core.frame.DataFrame'>\n",
      "Int64Index: 51881 entries, 0 to 51880\n",
      "Data columns (total 69 columns):\n",
      " #   Column                                               Non-Null Count  Dtype         \n",
      "---  ------                                               --------------  -----         \n",
      " 0   center_id                                            39363 non-null  object        \n",
      " 1   inspection_date                                      39307 non-null  datetime64[ns]\n",
      " 2   center_name                                          39363 non-null  object        \n",
      " 3   legal_name                                           39363 non-null  object        \n",
      " 4   building                                             39352 non-null  object        \n",
      " 5   street                                               39363 non-null  object        \n",
      " 6   zipcode                                              39313 non-null  float64       \n",
      " 7   phone                                                39317 non-null  object        \n",
      " 8   permit_number                                        35542 non-null  float64       \n",
      " 9   permit_expiration                                    39363 non-null  object        \n",
      " 10  age_range                                            37577 non-null  object        \n",
      " 11  maximum_capacity                                     39363 non-null  float64       \n",
      " 12  child_care_type                                      39363 non-null  object        \n",
      " 13  building_identification_number                       39363 non-null  float64       \n",
      " 14  url                                                  19989 non-null  object        \n",
      " 15  date_permitted                                       35285 non-null  object        \n",
      " 16  actual                                               35285 non-null  object        \n",
      " 17  violation_rate_percent                               39278 non-null  float64       \n",
      " 18  average_violation_rate_percent                       39265 non-null  float64       \n",
      " 19  total_educational_workers                            39363 non-null  float64       \n",
      " 20  average_total_educational_workers                    39363 non-null  float64       \n",
      " 21  public_health_hazard_violation_rate                  39278 non-null  float64       \n",
      " 22  average_public_health_hazard_violation_rate          39265 non-null  float64       \n",
      " 23  critical_violation_rate                              39278 non-null  float64       \n",
      " 24  average_critical_violation_rate                      39265 non-null  float64       \n",
      " 25  regulation_summary                                   39307 non-null  object        \n",
      " 26  violation_category                                   23870 non-null  object        \n",
      " 27  health_code_sub_section                              23870 non-null  object        \n",
      " 28  violation_status                                     23870 non-null  object        \n",
      " 29  inspection_summary_result                            48912 non-null  object        \n",
      " 30  borough_bronx                                        39364 non-null  float64       \n",
      " 31  borough_brooklyn                                     39364 non-null  float64       \n",
      " 32  borough_manhattan                                    39364 non-null  float64       \n",
      " 33  borough_staten_island                                39364 non-null  float64       \n",
      " 34  status_active                                        39364 non-null  float64       \n",
      " 35  status_expired-in_renewal                            39364 non-null  float64       \n",
      " 36  status_permitted                                     39364 non-null  float64       \n",
      " 37  program_type_all_age_camp                            39364 non-null  float64       \n",
      " 38  program_type_infant_toddler                          39364 non-null  float64       \n",
      " 39  program_type_preschool                               39364 non-null  float64       \n",
      " 40  program_type_preschool_camp                          39364 non-null  float64       \n",
      " 41  program_type_school_age_camp                         39364 non-null  float64       \n",
      " 42  facility_type_camp                                   39364 non-null  float64       \n",
      " 43  facility_type_gdc                                    39364 non-null  float64       \n",
      " 44  facility_type_sbcc                                   39364 non-null  float64       \n",
      " 45  initial_annual_inspection                            51298 non-null  float64       \n",
      " 46  result_1_None                                        51298 non-null  float64       \n",
      " 47  result_1_passed_inspection                           51298 non-null  float64       \n",
      " 48  result_1_passed_inspection_with_no_violations        51298 non-null  float64       \n",
      " 49  result_1_previously_cited_violations_corrected       51298 non-null  float64       \n",
      " 50  result_1_previously_closed_program_re-opened         51298 non-null  float64       \n",
      " 51  result_1_reinspection_not_required                   51298 non-null  float64       \n",
      " 52  result_1_reinspection_required                       51298 non-null  float64       \n",
      " 53  result_2_fines_pending                               51298 non-null  float64       \n",
      " 54  result_2_program_closed                              51298 non-null  float64       \n",
      " 55  result_2_violations_corrected_at_time_of_inspection  51298 non-null  float64       \n",
      " 56  inspection_year                                      39307 non-null  float64       \n",
      " 57  inspection_month_name                                39307 non-null  object        \n",
      " 58  inspection_day_name                                  39307 non-null  object        \n",
      " 59  violation                                            51881 non-null  int64         \n",
      " 60  public_hazard                                        51881 non-null  int64         \n",
      " 61  violaciones_hist_salud_publica                       39363 non-null  float64       \n",
      " 62  violaciones_2019_salud_publica                       39363 non-null  float64       \n",
      " 63  violation_critical                                   51881 non-null  int64         \n",
      " 64  violaciones_hist_criticas                            39363 non-null  float64       \n",
      " 65  violaciones_2019_criticas                            39363 non-null  float64       \n",
      " 66  initial_annual_inspection_x                          39363 non-null  float64       \n",
      " 67  initial_annual_inspection_y                          34261 non-null  float64       \n",
      " 68  ratio_violaciones_hist                               34261 non-null  float64       \n",
      "dtypes: datetime64[ns](1), float64(46), int64(3), object(19)\n",
      "memory usage: 27.7+ MB\n"
     ]
    }
   ],
   "source": [
    "df.info()"
   ]
  },
  {
   "cell_type": "code",
   "execution_count": 107,
   "metadata": {},
   "outputs": [],
   "source": [
    "df = df.drop(df.columns[[66,67]], axis=1) #Eliminamos variables que no necesitamos "
   ]
  },
  {
   "cell_type": "code",
   "execution_count": 108,
   "metadata": {},
   "outputs": [
    {
     "name": "stdout",
     "output_type": "stream",
     "text": [
      "\t-> Creamos la variable ratio_violaciones_2019: Número de inspecciones en total de primera vez que resultaron en violación crítica o de salud pública en el 2019 / número de inspecciones de primera vez por centro\n"
     ]
    }
   ],
   "source": [
    "print(\"\\t-> Creamos la variable ratio_violaciones_2019: Número de inspecciones en total de primera vez que resultaron en violación crítica o de salud pública en el 2019 / número de inspecciones de primera vez por centro\")"
   ]
  },
  {
   "cell_type": "code",
   "execution_count": 109,
   "metadata": {},
   "outputs": [],
   "source": [
    "df_12 = df.loc[df['inspection_year'] == 2019]"
   ]
  },
  {
   "cell_type": "code",
   "execution_count": 110,
   "metadata": {},
   "outputs": [],
   "source": [
    "df_12 = df[df.violation_category.isin(['critical', 'public_health_hazard']) & df['initial_annual_inspection']==1]"
   ]
  },
  {
   "cell_type": "code",
   "execution_count": 111,
   "metadata": {},
   "outputs": [],
   "source": [
    "df_13 = df_12.groupby('center_id').initial_annual_inspection.sum().reset_index()"
   ]
  },
  {
   "cell_type": "code",
   "execution_count": 112,
   "metadata": {},
   "outputs": [],
   "source": [
    "df_14 = pd.merge(left=df_10,right=df_13, how='left', left_on='center_id', right_on='center_id')"
   ]
  },
  {
   "cell_type": "code",
   "execution_count": 113,
   "metadata": {},
   "outputs": [],
   "source": [
    "df_14['ratio_violaciones_2019'] = df_14['initial_annual_inspection_y'] / df_14['initial_annual_inspection_x']"
   ]
  },
  {
   "cell_type": "code",
   "execution_count": 114,
   "metadata": {},
   "outputs": [],
   "source": [
    "df = pd.merge(left=df,right=df_14, how='left', left_on='center_id', right_on='center_id')"
   ]
  },
  {
   "cell_type": "code",
   "execution_count": 115,
   "metadata": {},
   "outputs": [
    {
     "name": "stdout",
     "output_type": "stream",
     "text": [
      "<class 'pandas.core.frame.DataFrame'>\n",
      "Int64Index: 51881 entries, 0 to 51880\n",
      "Data columns (total 70 columns):\n",
      " #   Column                                               Non-Null Count  Dtype         \n",
      "---  ------                                               --------------  -----         \n",
      " 0   center_id                                            39363 non-null  object        \n",
      " 1   inspection_date                                      39307 non-null  datetime64[ns]\n",
      " 2   center_name                                          39363 non-null  object        \n",
      " 3   legal_name                                           39363 non-null  object        \n",
      " 4   building                                             39352 non-null  object        \n",
      " 5   street                                               39363 non-null  object        \n",
      " 6   zipcode                                              39313 non-null  float64       \n",
      " 7   phone                                                39317 non-null  object        \n",
      " 8   permit_number                                        35542 non-null  float64       \n",
      " 9   permit_expiration                                    39363 non-null  object        \n",
      " 10  age_range                                            37577 non-null  object        \n",
      " 11  maximum_capacity                                     39363 non-null  float64       \n",
      " 12  child_care_type                                      39363 non-null  object        \n",
      " 13  building_identification_number                       39363 non-null  float64       \n",
      " 14  url                                                  19989 non-null  object        \n",
      " 15  date_permitted                                       35285 non-null  object        \n",
      " 16  actual                                               35285 non-null  object        \n",
      " 17  violation_rate_percent                               39278 non-null  float64       \n",
      " 18  average_violation_rate_percent                       39265 non-null  float64       \n",
      " 19  total_educational_workers                            39363 non-null  float64       \n",
      " 20  average_total_educational_workers                    39363 non-null  float64       \n",
      " 21  public_health_hazard_violation_rate                  39278 non-null  float64       \n",
      " 22  average_public_health_hazard_violation_rate          39265 non-null  float64       \n",
      " 23  critical_violation_rate                              39278 non-null  float64       \n",
      " 24  average_critical_violation_rate                      39265 non-null  float64       \n",
      " 25  regulation_summary                                   39307 non-null  object        \n",
      " 26  violation_category                                   23870 non-null  object        \n",
      " 27  health_code_sub_section                              23870 non-null  object        \n",
      " 28  violation_status                                     23870 non-null  object        \n",
      " 29  inspection_summary_result                            48912 non-null  object        \n",
      " 30  borough_bronx                                        39364 non-null  float64       \n",
      " 31  borough_brooklyn                                     39364 non-null  float64       \n",
      " 32  borough_manhattan                                    39364 non-null  float64       \n",
      " 33  borough_staten_island                                39364 non-null  float64       \n",
      " 34  status_active                                        39364 non-null  float64       \n",
      " 35  status_expired-in_renewal                            39364 non-null  float64       \n",
      " 36  status_permitted                                     39364 non-null  float64       \n",
      " 37  program_type_all_age_camp                            39364 non-null  float64       \n",
      " 38  program_type_infant_toddler                          39364 non-null  float64       \n",
      " 39  program_type_preschool                               39364 non-null  float64       \n",
      " 40  program_type_preschool_camp                          39364 non-null  float64       \n",
      " 41  program_type_school_age_camp                         39364 non-null  float64       \n",
      " 42  facility_type_camp                                   39364 non-null  float64       \n",
      " 43  facility_type_gdc                                    39364 non-null  float64       \n",
      " 44  facility_type_sbcc                                   39364 non-null  float64       \n",
      " 45  initial_annual_inspection                            51298 non-null  float64       \n",
      " 46  result_1_None                                        51298 non-null  float64       \n",
      " 47  result_1_passed_inspection                           51298 non-null  float64       \n",
      " 48  result_1_passed_inspection_with_no_violations        51298 non-null  float64       \n",
      " 49  result_1_previously_cited_violations_corrected       51298 non-null  float64       \n",
      " 50  result_1_previously_closed_program_re-opened         51298 non-null  float64       \n",
      " 51  result_1_reinspection_not_required                   51298 non-null  float64       \n",
      " 52  result_1_reinspection_required                       51298 non-null  float64       \n",
      " 53  result_2_fines_pending                               51298 non-null  float64       \n",
      " 54  result_2_program_closed                              51298 non-null  float64       \n",
      " 55  result_2_violations_corrected_at_time_of_inspection  51298 non-null  float64       \n",
      " 56  inspection_year                                      39307 non-null  float64       \n",
      " 57  inspection_month_name                                39307 non-null  object        \n",
      " 58  inspection_day_name                                  39307 non-null  object        \n",
      " 59  violation                                            51881 non-null  int64         \n",
      " 60  public_hazard                                        51881 non-null  int64         \n",
      " 61  violaciones_hist_salud_publica                       39363 non-null  float64       \n",
      " 62  violaciones_2019_salud_publica                       39363 non-null  float64       \n",
      " 63  violation_critical                                   51881 non-null  int64         \n",
      " 64  violaciones_hist_criticas                            39363 non-null  float64       \n",
      " 65  violaciones_2019_criticas                            39363 non-null  float64       \n",
      " 66  ratio_violaciones_hist                               34261 non-null  float64       \n",
      " 67  initial_annual_inspection_x                          39363 non-null  float64       \n",
      " 68  initial_annual_inspection_y                          34261 non-null  float64       \n",
      " 69  ratio_violaciones_2019                               34261 non-null  float64       \n",
      "dtypes: datetime64[ns](1), float64(47), int64(3), object(19)\n",
      "memory usage: 28.1+ MB\n"
     ]
    }
   ],
   "source": [
    "df.info()"
   ]
  },
  {
   "cell_type": "code",
   "execution_count": 116,
   "metadata": {},
   "outputs": [],
   "source": [
    "df = df.drop(df.columns[[67,68]], axis=1) #Eliminamos variables que no necesitamos "
   ]
  }
 ],
 "metadata": {
  "kernelspec": {
   "display_name": "Python 3",
   "language": "python",
   "name": "python3"
  },
  "language_info": {
   "codemirror_mode": {
    "name": "ipython",
    "version": 3
   },
   "file_extension": ".py",
   "mimetype": "text/x-python",
   "name": "python",
   "nbconvert_exporter": "python",
   "pygments_lexer": "ipython3",
   "version": "3.7.4"
  }
 },
 "nbformat": 4,
 "nbformat_minor": 4
}
