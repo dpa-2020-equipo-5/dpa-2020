{
 "cells": [
  {
   "cell_type": "code",
   "execution_count": 67,
   "metadata": {},
   "outputs": [],
   "source": [
    "from sqlalchemy import create_engine\n",
    "import configparser\n",
    "import pickle\n",
    "import pandas as pd"
   ]
  },
  {
   "cell_type": "code",
   "execution_count": 68,
   "metadata": {},
   "outputs": [],
   "source": [
    "config = configparser.ConfigParser()\n",
    "config.read_file(open('./settings_development.ini'))"
   ]
  },
  {
   "cell_type": "code",
   "execution_count": 69,
   "metadata": {},
   "outputs": [],
   "source": [
    "engine_string = \"postgresql+psycopg2://{user}:{password}@{host}:{port}/{database}\".format(\n",
    "    user = config.get('DATABASE','user'),\n",
    "    password = config.get('DATABASE','password'),\n",
    "    host = config.get('DATABASE','host'),\n",
    "    port = 5432,\n",
    "    database = config.get('DATABASE','database'),\n",
    ")\n",
    "engine = create_engine(engine_string)"
   ]
  },
  {
   "cell_type": "code",
   "execution_count": 177,
   "metadata": {},
   "outputs": [
    {
     "name": "stdout",
     "output_type": "stream",
     "text": [
      "Hoy: 2020-03-16\n",
      "predicciones: 162\n",
      "inspecciones: 2425\n",
      "inspecciones con violación: 163\n",
      "verdaderos positivos: 4\n",
      "2.45%\n"
     ]
    }
   ],
   "source": [
    "predicciones = pd.read_sql(\"select * from predictions.predictions where date='2020-01-02'\", engine)\n",
    "inspecciones = pd.read_sql(\"select * from transformed.inspections where date(inspectiondate) >= '2020-01-02' order by date(inspectiondate)\", engine)\n",
    "print(\"Hoy:\", inspecciones.tail(1).inspectiondate.values[0].split(' ')[0])\n",
    "print(\"predicciones:\",len(predicciones))\n",
    "print(\"inspecciones:\",len(inspecciones))\n",
    "inspecciones_con_violacion = inspecciones[inspecciones['violationcategory_public_health_hazard'] == '1'].copy()\n",
    "print(\"inspecciones con violación:\",len(inspecciones_con_violacion))\n",
    "verdaderos_positivos = predicciones[predicciones['center_id'].isin(inspecciones_con_violacion.center_id)]\n",
    "print(\"verdaderos positivos:\",len(verdaderos_positivos))\n",
    "print( str(round(len(verdaderos_positivos)/len(inspecciones_con_violacion)*100, 2)) + \"%\")"
   ]
  },
  {
   "cell_type": "code",
   "execution_count": 179,
   "metadata": {},
   "outputs": [
    {
     "data": {
      "text/plain": [
       "59"
      ]
     },
     "execution_count": 179,
     "metadata": {},
     "output_type": "execute_result"
    }
   ],
   "source": [
    "len(predicciones[predicciones['center_id'].isin(inspecciones.center_id)])"
   ]
  }
 ],
 "metadata": {
  "kernelspec": {
   "display_name": "Python 3",
   "language": "python",
   "name": "python3"
  },
  "language_info": {
   "codemirror_mode": {
    "name": "ipython",
    "version": 3
   },
   "file_extension": ".py",
   "mimetype": "text/x-python",
   "name": "python",
   "nbconvert_exporter": "python",
   "pygments_lexer": "ipython3",
   "version": "3.7.7"
  }
 },
 "nbformat": 4,
 "nbformat_minor": 2
}
