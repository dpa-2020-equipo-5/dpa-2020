{
 "cells": [
  {
   "cell_type": "code",
   "execution_count": 1,
   "metadata": {},
   "outputs": [],
   "source": [
    "import pandas as pd\n",
    "import matplotlib\n",
    "import matplotlib.pyplot as plt\n",
    "import seaborn as sns #Control figure \n",
    "import numpy as np\n",
    "import os\n",
    "from datetime import date\n",
    "matplotlib.style.use('ggplot')\n",
    "%matplotlib inline"
   ]
  },
  {
   "cell_type": "code",
   "execution_count": 1,
   "metadata": {},
   "outputs": [],
   "source": [
    "import numpy as np\n",
    "import pandas as pd\n",
    "import os"
   ]
  },
  {
   "cell_type": "code",
   "execution_count": 2,
   "metadata": {},
   "outputs": [],
   "source": [
    "from sodapy import Socrata"
   ]
  },
  {
   "cell_type": "code",
   "execution_count": 3,
   "metadata": {},
   "outputs": [],
   "source": [
    "#MyAppToken = ''"
   ]
  },
  {
   "cell_type": "code",
   "execution_count": 4,
   "metadata": {},
   "outputs": [],
   "source": [
    "#client = Socrata(\"data.cityofnewyork.us\", MyAppToken)"
   ]
  },
  {
   "cell_type": "code",
   "execution_count": 5,
   "metadata": {},
   "outputs": [],
   "source": [
    "#results = client.get(\"dsg6-ifza\", limit=2000)"
   ]
  },
  {
   "cell_type": "code",
   "execution_count": 6,
   "metadata": {},
   "outputs": [],
   "source": [
    "#df = pd.DataFrame.from_records(results)"
   ]
  },
  {
   "cell_type": "code",
   "execution_count": 2,
   "metadata": {},
   "outputs": [],
   "source": [
    "cwd = os.getcwd() #to get current working directory\n",
    "#print(cwd)"
   ]
  },
  {
   "cell_type": "code",
   "execution_count": 2,
   "metadata": {},
   "outputs": [],
   "source": [
    "df = pd.read_csv('../data/DOHMH_Childcare_Center_Inspections.csv', encoding = \"L1\")"
   ]
  },
  {
   "cell_type": "code",
   "execution_count": 18,
   "metadata": {},
   "outputs": [],
   "source": [
    "#df.info()"
   ]
  },
  {
   "cell_type": "code",
   "execution_count": 3,
   "metadata": {},
   "outputs": [],
   "source": [
    "def clean_string(astr):\n",
    "    return astr.lower().replace('.', '') \\\n",
    "        .replace(',', '') \\\n",
    "        .replace(';', '') \\\n",
    "        .replace(':', '') \\\n",
    "        .replace('á', 'a') \\\n",
    "        .replace('é', 'e') \\\n",
    "        .replace('í', 'i') \\\n",
    "        .replace('ó', 'o') \\\n",
    "        .replace('ú', 'u') \\\n",
    "        .replace(' ', '_') \\\n",
    "        .replace('ñ', 'ni')"
   ]
  },
  {
   "cell_type": "code",
   "execution_count": 4,
   "metadata": {},
   "outputs": [],
   "source": [
    "def clean_columns(df):\n",
    "    for series in df:\n",
    "        df.rename(columns={series:clean_string(series)}, inplace=True)"
   ]
  },
  {
   "cell_type": "code",
   "execution_count": 6,
   "metadata": {},
   "outputs": [],
   "source": [
    "def execute(raw_dataset_path, clean_dataset_path):\n",
    "    print(\"\\t-> Leyendo datos crudos a un DataFrame\")\n",
    "    df = pd.read_csv('DOHMH_Childcare_Center_Inspections.csv')"
   ]
  },
  {
   "cell_type": "code",
   "execution_count": 5,
   "metadata": {},
   "outputs": [
    {
     "name": "stdout",
     "output_type": "stream",
     "text": [
      "\t-> Limpando columnas\n"
     ]
    }
   ],
   "source": [
    "print(\"\\t-> Limpando columnas\")"
   ]
  },
  {
   "cell_type": "code",
   "execution_count": 6,
   "metadata": {},
   "outputs": [],
   "source": [
    "clean_columns(df)"
   ]
  },
  {
   "cell_type": "code",
   "execution_count": 17,
   "metadata": {},
   "outputs": [],
   "source": [
    "#df.info()"
   ]
  },
  {
   "cell_type": "code",
   "execution_count": 7,
   "metadata": {},
   "outputs": [
    {
     "name": "stdout",
     "output_type": "stream",
     "text": [
      "\t-> Reemplazando espacios en blanco\n"
     ]
    }
   ],
   "source": [
    "print(\"\\t-> Reemplazando espacios en blanco\")\n",
    "for col in df.select_dtypes('object'):\n",
    "    df[col] = df[col].replace('\\s+', ' ', regex=True)"
   ]
  },
  {
   "cell_type": "code",
   "execution_count": 8,
   "metadata": {},
   "outputs": [
    {
     "name": "stdout",
     "output_type": "stream",
     "text": [
      "\t-> Limpiando valores\n"
     ]
    }
   ],
   "source": [
    "print(\"\\t-> Limpiando valores\")\n",
    "for col in df.select_dtypes('object'):\n",
    "        df[col] = df[col].str.strip()\n",
    "        df[col] = df[col].str.lower()\n",
    "        df[col] = df[col].str.replace('á', 'a')\n",
    "        df[col] = df[col].str.replace('é', 'e')\n",
    "        df[col] = df[col].str.replace('í', 'i')\n",
    "        df[col] = df[col].str.replace('ó', 'o')\n",
    "        df[col] = df[col].str.replace('ú', 'u')\n",
    "        df[col] = df[col].str.replace(' ', '_')"
   ]
  },
  {
   "cell_type": "code",
   "execution_count": 9,
   "metadata": {},
   "outputs": [
    {
     "name": "stdout",
     "output_type": "stream",
     "text": [
      "\t-> Cambiando NA por np.nan\n"
     ]
    }
   ],
   "source": [
    "print(\"\\t-> Cambiando NA por np.nan\")\n",
    "for col in df.select_dtypes('object'):\n",
    "    df.loc[df[col] == 'na', col] = np.nan"
   ]
  },
  {
   "cell_type": "code",
   "execution_count": 10,
   "metadata": {},
   "outputs": [
    {
     "name": "stdout",
     "output_type": "stream",
     "text": [
      "\t-> Cuántos valores NaN tiene la base\n"
     ]
    }
   ],
   "source": [
    "#print(\"\\t-> Cuántos valores NaN tiene la base\")"
   ]
  },
  {
   "cell_type": "code",
   "execution_count": null,
   "metadata": {},
   "outputs": [],
   "source": [
    "#df.isnull().sum()"
   ]
  },
  {
   "cell_type": "code",
   "execution_count": 11,
   "metadata": {},
   "outputs": [
    {
     "name": "stdout",
     "output_type": "stream",
     "text": [
      "\t-> Eliminar duplicados\n"
     ]
    }
   ],
   "source": [
    "print(\"\\t-> Eliminar duplicados\")"
   ]
  },
  {
   "cell_type": "code",
   "execution_count": 12,
   "metadata": {},
   "outputs": [
    {
     "data": {
      "text/plain": [
       "12653"
      ]
     },
     "execution_count": 12,
     "metadata": {},
     "output_type": "execute_result"
    }
   ],
   "source": [
    "df.duplicated().sum()"
   ]
  },
  {
   "cell_type": "code",
   "execution_count": 13,
   "metadata": {},
   "outputs": [
    {
     "data": {
      "text/plain": [
       "(39371, 34)"
      ]
     },
     "execution_count": 13,
     "metadata": {},
     "output_type": "execute_result"
    }
   ],
   "source": [
    "df = df.drop_duplicates()\n",
    "df.shape"
   ]
  },
  {
   "cell_type": "code",
   "execution_count": null,
   "metadata": {},
   "outputs": [],
   "source": [
    "print(\"\\t-> Guardando la base limpia como clean.csv\")"
   ]
  },
  {
   "cell_type": "code",
   "execution_count": 12,
   "metadata": {},
   "outputs": [],
   "source": [
    "df.to_csv('clean.csv', index=False)"
   ]
  },
  {
   "cell_type": "markdown",
   "metadata": {},
   "source": [
    "### TABLA 3"
   ]
  },
  {
   "cell_type": "code",
   "execution_count": 25,
   "metadata": {},
   "outputs": [],
   "source": [
    "encoded_columns = pd.get_dummies(df['borough'])"
   ]
  },
  {
   "cell_type": "code",
   "execution_count": 26,
   "metadata": {},
   "outputs": [],
   "source": [
    "df = df.join(encoded_columns)"
   ]
  },
  {
   "cell_type": "code",
   "execution_count": 27,
   "metadata": {},
   "outputs": [],
   "source": [
    "dummies = [\"status\", \"program_type\", \"facility_type\"]\n",
    "df_1 = df[[i for i in df.keys() if i not in dummies]]\n",
    "df_2 = pd.get_dummies(df[dummies])"
   ]
  },
  {
   "cell_type": "code",
   "execution_count": 28,
   "metadata": {},
   "outputs": [
    {
     "name": "stdout",
     "output_type": "stream",
     "text": [
      "<class 'pandas.core.frame.DataFrame'>\n",
      "Int64Index: 48920 entries, 0 to 52023\n",
      "Data columns (total 47 columns):\n",
      " #   Column                                       Non-Null Count  Dtype  \n",
      "---  ------                                       --------------  -----  \n",
      " 0   center_name                                  39371 non-null  object \n",
      " 1   legal_name                                   39371 non-null  object \n",
      " 2   building                                     39360 non-null  object \n",
      " 3   street                                       39371 non-null  object \n",
      " 4   borough                                      39371 non-null  object \n",
      " 5   zipcode                                      39321 non-null  float64\n",
      " 6   phone                                        39325 non-null  object \n",
      " 7   permit_number                                35549 non-null  float64\n",
      " 8   permit_expiration                            39371 non-null  object \n",
      " 9   age_range                                    37584 non-null  object \n",
      " 10  maximum_capacity                             39371 non-null  float64\n",
      " 11  day_care_id                                  39371 non-null  object \n",
      " 12  child_care_type                              39371 non-null  object \n",
      " 13  building_identification_number               39371 non-null  float64\n",
      " 14  url                                          19993 non-null  object \n",
      " 15  date_permitted                               35292 non-null  object \n",
      " 16  actual                                       35292 non-null  object \n",
      " 17  violation_rate_percent                       39286 non-null  float64\n",
      " 18  average_violation_rate_percent               39273 non-null  float64\n",
      " 19  total_educational_workers                    39371 non-null  float64\n",
      " 20  average_total_educational_workers            39371 non-null  float64\n",
      " 21  public_health_hazard_violation_rate          39286 non-null  float64\n",
      " 22  average_public_health_hazard_violation_rate  39273 non-null  float64\n",
      " 23  critical_violation_rate                      39286 non-null  float64\n",
      " 24  average_critical_violation_rate              39273 non-null  float64\n",
      " 25  inspection_date                              39315 non-null  object \n",
      " 26  regulation_summary                           39315 non-null  object \n",
      " 27  violation_category                           23870 non-null  object \n",
      " 28  health_code_sub_section                      23870 non-null  object \n",
      " 29  violation_status                             23870 non-null  object \n",
      " 30  inspection_summary_result                    37230 non-null  object \n",
      " 31  bronx                                        39371 non-null  float64\n",
      " 32  brooklyn                                     39371 non-null  float64\n",
      " 33  manhattan                                    39371 non-null  float64\n",
      " 34  queens                                       39371 non-null  float64\n",
      " 35  staten_island                                39371 non-null  float64\n",
      " 36  status_active                                39371 non-null  float64\n",
      " 37  status_expired-in_renewal                    39371 non-null  float64\n",
      " 38  status_permitted                             39371 non-null  float64\n",
      " 39  program_type_all_age_camp                    39371 non-null  float64\n",
      " 40  program_type_infant_toddler                  39371 non-null  float64\n",
      " 41  program_type_preschool                       39371 non-null  float64\n",
      " 42  program_type_preschool_camp                  39371 non-null  float64\n",
      " 43  program_type_school_age_camp                 39371 non-null  float64\n",
      " 44  facility_type_camp                           39371 non-null  float64\n",
      " 45  facility_type_gdc                            39371 non-null  float64\n",
      " 46  facility_type_sbcc                           39371 non-null  float64\n",
      "dtypes: float64(28), object(19)\n",
      "memory usage: 17.9+ MB\n"
     ]
    }
   ],
   "source": [
    "df = pd.concat([df_1.reset_index(drop=True), df_2], axis=1)\n",
    "df.info()"
   ]
  },
  {
   "cell_type": "markdown",
   "metadata": {},
   "source": [
    "### TABLA 4"
   ]
  },
  {
   "cell_type": "code",
   "execution_count": 29,
   "metadata": {},
   "outputs": [
    {
     "name": "stdout",
     "output_type": "stream",
     "text": [
      "\t-> Reagrupar en tres variables Inspection Summary Result: reason, result_1 y result_2\n"
     ]
    }
   ],
   "source": [
    "print(\"\\t-> Reagrupar en tres variables Inspection Summary Result: reason, result_1 y result_2\")"
   ]
  },
  {
   "cell_type": "code",
   "execution_count": 30,
   "metadata": {},
   "outputs": [],
   "source": [
    "df['inspection_summary_result'] = df['inspection_summary_result'].astype('str')"
   ]
  },
  {
   "cell_type": "code",
   "execution_count": 31,
   "metadata": {},
   "outputs": [],
   "source": [
    "df_3 = pd.DataFrame(df.inspection_summary_result.str.split('_-_',1).tolist(), columns= ['reason', 'result'])"
   ]
  },
  {
   "cell_type": "code",
   "execution_count": 32,
   "metadata": {},
   "outputs": [],
   "source": [
    "df_3['result'] = df_3['result'].astype('str')"
   ]
  },
  {
   "cell_type": "code",
   "execution_count": 33,
   "metadata": {},
   "outputs": [],
   "source": [
    "df_4 = pd.DataFrame(df_3.result.str.split(';_',1).tolist(), columns = ['result_1', 'result_2'])"
   ]
  },
  {
   "cell_type": "code",
   "execution_count": 34,
   "metadata": {},
   "outputs": [],
   "source": [
    "df_3 = df_3.drop(df_3.columns[[1]], axis=1) "
   ]
  },
  {
   "cell_type": "code",
   "execution_count": 35,
   "metadata": {},
   "outputs": [],
   "source": [
    "df = pd.concat([df, df_3, df_4], axis=1)"
   ]
  },
  {
   "cell_type": "code",
   "execution_count": 36,
   "metadata": {},
   "outputs": [],
   "source": [
    "df = df.drop(['inspection_summary_result'], axis = 1) #Eliminar inspection_summary_result"
   ]
  },
  {
   "cell_type": "code",
   "execution_count": 37,
   "metadata": {},
   "outputs": [
    {
     "name": "stdout",
     "output_type": "stream",
     "text": [
      "\t-> A la variable reason la hacemos dummy, es decir, initial annual inspection es 1 y en otro caso es cero\n"
     ]
    }
   ],
   "source": [
    "print(\"\\t-> A la variable reason la hacemos dummy, es decir, initial annual inspection es 1 y en otro caso es cero\")"
   ]
  },
  {
   "cell_type": "code",
   "execution_count": 38,
   "metadata": {},
   "outputs": [
    {
     "data": {
      "text/plain": [
       "initial_annual_inspection                       25075\n",
       "nan                                             11690\n",
       "compliance_inspection_of_open_violations         6857\n",
       "monitoring_inspection_non-routine                5223\n",
       "NaN                                              2386\n",
       "lead_based_paint_or_lead_in_water_inspection       75\n",
       "Name: reason, dtype: int64"
      ]
     },
     "execution_count": 38,
     "metadata": {},
     "output_type": "execute_result"
    }
   ],
   "source": [
    "df.reason.value_counts(dropna=False)"
   ]
  },
  {
   "cell_type": "code",
   "execution_count": 39,
   "metadata": {},
   "outputs": [],
   "source": [
    "df['initial_annual_inspection'] = df.reason.apply(lambda x: 1 if x == \"initial_annual_inspection\" else 0)"
   ]
  },
  {
   "cell_type": "code",
   "execution_count": 40,
   "metadata": {},
   "outputs": [
    {
     "data": {
      "text/plain": [
       "0    26231\n",
       "1    25075\n",
       "Name: initial_annual_inspection, dtype: int64"
      ]
     },
     "execution_count": 40,
     "metadata": {},
     "output_type": "execute_result"
    }
   ],
   "source": [
    "df.initial_annual_inspection.value_counts(dropna=False)"
   ]
  },
  {
   "cell_type": "code",
   "execution_count": 41,
   "metadata": {},
   "outputs": [],
   "source": [
    "df = df.drop(['reason'], axis=1) #Eliminamos la variable reason"
   ]
  },
  {
   "cell_type": "code",
   "execution_count": 42,
   "metadata": {},
   "outputs": [
    {
     "name": "stdout",
     "output_type": "stream",
     "text": [
      "\t-> Creamos dummies a las variables result_1 y result_2\n"
     ]
    }
   ],
   "source": [
    "print(\"\\t-> Creamos dummies a las variables result_1 y result_2\")"
   ]
  },
  {
   "cell_type": "code",
   "execution_count": 43,
   "metadata": {},
   "outputs": [],
   "source": [
    "dummies = [\"result_1\", \"result_2\"]\n",
    "df_2 = df[[i for i in df.keys() if i not in dummies]]\n",
    "df_3 = pd.get_dummies(df[dummies])"
   ]
  },
  {
   "cell_type": "code",
   "execution_count": 44,
   "metadata": {},
   "outputs": [
    {
     "name": "stdout",
     "output_type": "stream",
     "text": [
      "<class 'pandas.core.frame.DataFrame'>\n",
      "Int64Index: 51889 entries, 0 to 52023\n",
      "Data columns (total 57 columns):\n",
      " #   Column                                               Non-Null Count  Dtype  \n",
      "---  ------                                               --------------  -----  \n",
      " 0   center_name                                          39371 non-null  object \n",
      " 1   legal_name                                           39371 non-null  object \n",
      " 2   building                                             39360 non-null  object \n",
      " 3   street                                               39371 non-null  object \n",
      " 4   borough                                              39371 non-null  object \n",
      " 5   zipcode                                              39321 non-null  float64\n",
      " 6   phone                                                39325 non-null  object \n",
      " 7   permit_number                                        35549 non-null  float64\n",
      " 8   permit_expiration                                    39371 non-null  object \n",
      " 9   age_range                                            37584 non-null  object \n",
      " 10  maximum_capacity                                     39371 non-null  float64\n",
      " 11  day_care_id                                          39371 non-null  object \n",
      " 12  child_care_type                                      39371 non-null  object \n",
      " 13  building_identification_number                       39371 non-null  float64\n",
      " 14  url                                                  19993 non-null  object \n",
      " 15  date_permitted                                       35292 non-null  object \n",
      " 16  actual                                               35292 non-null  object \n",
      " 17  violation_rate_percent                               39286 non-null  float64\n",
      " 18  average_violation_rate_percent                       39273 non-null  float64\n",
      " 19  total_educational_workers                            39371 non-null  float64\n",
      " 20  average_total_educational_workers                    39371 non-null  float64\n",
      " 21  public_health_hazard_violation_rate                  39286 non-null  float64\n",
      " 22  average_public_health_hazard_violation_rate          39273 non-null  float64\n",
      " 23  critical_violation_rate                              39286 non-null  float64\n",
      " 24  average_critical_violation_rate                      39273 non-null  float64\n",
      " 25  inspection_date                                      39315 non-null  object \n",
      " 26  regulation_summary                                   39315 non-null  object \n",
      " 27  violation_category                                   23870 non-null  object \n",
      " 28  health_code_sub_section                              23870 non-null  object \n",
      " 29  violation_status                                     23870 non-null  object \n",
      " 30  bronx                                                39371 non-null  float64\n",
      " 31  brooklyn                                             39371 non-null  float64\n",
      " 32  manhattan                                            39371 non-null  float64\n",
      " 33  queens                                               39371 non-null  float64\n",
      " 34  staten_island                                        39371 non-null  float64\n",
      " 35  status_active                                        39371 non-null  float64\n",
      " 36  status_expired-in_renewal                            39371 non-null  float64\n",
      " 37  status_permitted                                     39371 non-null  float64\n",
      " 38  program_type_all_age_camp                            39371 non-null  float64\n",
      " 39  program_type_infant_toddler                          39371 non-null  float64\n",
      " 40  program_type_preschool                               39371 non-null  float64\n",
      " 41  program_type_preschool_camp                          39371 non-null  float64\n",
      " 42  program_type_school_age_camp                         39371 non-null  float64\n",
      " 43  facility_type_camp                                   39371 non-null  float64\n",
      " 44  facility_type_gdc                                    39371 non-null  float64\n",
      " 45  facility_type_sbcc                                   39371 non-null  float64\n",
      " 46  initial_annual_inspection                            51306 non-null  float64\n",
      " 47  result_1_None                                        51306 non-null  float64\n",
      " 48  result_1_passed_inspection                           51306 non-null  float64\n",
      " 49  result_1_passed_inspection_with_no_violations        51306 non-null  float64\n",
      " 50  result_1_previously_cited_violations_corrected       51306 non-null  float64\n",
      " 51  result_1_previously_closed_program_re-opened         51306 non-null  float64\n",
      " 52  result_1_reinspection_not_required                   51306 non-null  float64\n",
      " 53  result_1_reinspection_required                       51306 non-null  float64\n",
      " 54  result_2_fines_pending                               51306 non-null  float64\n",
      " 55  result_2_program_closed                              51306 non-null  float64\n",
      " 56  result_2_violations_corrected_at_time_of_inspection  51306 non-null  float64\n",
      "dtypes: float64(39), object(18)\n",
      "memory usage: 23.0+ MB\n"
     ]
    }
   ],
   "source": [
    "df = pd.concat([df_2.reset_index(drop=True), df_3], axis=1)\n",
    "df.info()"
   ]
  },
  {
   "cell_type": "code",
   "execution_count": 45,
   "metadata": {},
   "outputs": [
    {
     "name": "stdout",
     "output_type": "stream",
     "text": [
      "\t-> Creamos variables de año, mes y día a partir de Inspection date\n"
     ]
    }
   ],
   "source": [
    "print(\"\\t-> Creamos variables de año, mes y día a partir de Inspection date\")"
   ]
  },
  {
   "cell_type": "code",
   "execution_count": 46,
   "metadata": {},
   "outputs": [],
   "source": [
    "df['inspection_date'] = pd.to_datetime(df.inspection_date, format = '%m/%d/%Y')"
   ]
  },
  {
   "cell_type": "code",
   "execution_count": 47,
   "metadata": {},
   "outputs": [],
   "source": [
    "df['inspection_year'] = df['inspection_date'].dt.year"
   ]
  },
  {
   "cell_type": "code",
   "execution_count": 48,
   "metadata": {},
   "outputs": [],
   "source": [
    "df['inspection_month_name'] = df['inspection_date'].dt.month_name()"
   ]
  },
  {
   "cell_type": "code",
   "execution_count": 49,
   "metadata": {},
   "outputs": [],
   "source": [
    "df['inspection_day_name'] = df['inspection_date'].dt.day_name()"
   ]
  },
  {
   "cell_type": "code",
   "execution_count": 50,
   "metadata": {},
   "outputs": [
    {
     "name": "stdout",
     "output_type": "stream",
     "text": [
      "\t-> Eliminamos días festivos, sábado y domingo \n"
     ]
    }
   ],
   "source": [
    "print(\"\\t-> Eliminamos días festivos, sábado y domingo \")"
   ]
  },
  {
   "cell_type": "code",
   "execution_count": 51,
   "metadata": {},
   "outputs": [],
   "source": [
    "df = df.drop(df.loc[df['inspection_day_name']== 'Saturday'].index)"
   ]
  },
  {
   "cell_type": "code",
   "execution_count": 52,
   "metadata": {},
   "outputs": [],
   "source": [
    "df = df.drop(df.loc[df['inspection_day_name']== 'Sunday'].index)"
   ]
  },
  {
   "cell_type": "code",
   "execution_count": 53,
   "metadata": {},
   "outputs": [
    {
     "name": "stdout",
     "output_type": "stream",
     "text": [
      "\t-> Poner como primer columna center_id e inspection_date\n"
     ]
    }
   ],
   "source": [
    "print(\"\\t-> Poner como primer columna center_id e inspection_date\")"
   ]
  },
  {
   "cell_type": "code",
   "execution_count": 54,
   "metadata": {},
   "outputs": [],
   "source": [
    "df.rename(columns={'day_care_id':'center_id'}, inplace=True)"
   ]
  },
  {
   "cell_type": "code",
   "execution_count": 55,
   "metadata": {},
   "outputs": [],
   "source": [
    "def order(frame,var): \n",
    "    varlist =[w for w in frame.columns if w not in var] \n",
    "    frame = frame[var+varlist] \n",
    "    return frame"
   ]
  },
  {
   "cell_type": "code",
   "execution_count": 56,
   "metadata": {},
   "outputs": [],
   "source": [
    "df = order(df,['center_id', 'inspection_date'])"
   ]
  },
  {
   "cell_type": "code",
   "execution_count": 57,
   "metadata": {},
   "outputs": [
    {
     "name": "stdout",
     "output_type": "stream",
     "text": [
      "\t-> Ordenamos la base por year, month y day en forma descendente\n"
     ]
    }
   ],
   "source": [
    "print(\"\\t-> Ordenamos la base por year, month y day en forma descendente\")"
   ]
  },
  {
   "cell_type": "code",
   "execution_count": 58,
   "metadata": {},
   "outputs": [],
   "source": [
    "df.sort_values(['inspection_date'], ascending=[False], inplace=True)"
   ]
  },
  {
   "cell_type": "code",
   "execution_count": 59,
   "metadata": {},
   "outputs": [
    {
     "name": "stdout",
     "output_type": "stream",
     "text": [
      "\t-> Creamos dummy = 1 si existió violación\n"
     ]
    }
   ],
   "source": [
    "print(\"\\t-> Creamos dummy = 1 si existió violación\")"
   ]
  },
  {
   "cell_type": "code",
   "execution_count": 60,
   "metadata": {},
   "outputs": [
    {
     "data": {
      "text/plain": [
       "NaN                     28011\n",
       "general                 12136\n",
       "critical                 8338\n",
       "public_health_hazard     3396\n",
       "Name: violation_category, dtype: int64"
      ]
     },
     "execution_count": 60,
     "metadata": {},
     "output_type": "execute_result"
    }
   ],
   "source": [
    "df.violation_category.value_counts(dropna=False)"
   ]
  },
  {
   "cell_type": "code",
   "execution_count": 61,
   "metadata": {},
   "outputs": [],
   "source": [
    "df['violation'] = df['violation_category'].apply(lambda x: not pd.isnull(x))"
   ]
  },
  {
   "cell_type": "code",
   "execution_count": 62,
   "metadata": {},
   "outputs": [],
   "source": [
    "df['violation'] = df['violation'].apply(lambda x: 1 if x == True else 0)"
   ]
  },
  {
   "cell_type": "code",
   "execution_count": 63,
   "metadata": {},
   "outputs": [
    {
     "data": {
      "text/plain": [
       "0    28011\n",
       "1    23870\n",
       "Name: violation, dtype: int64"
      ]
     },
     "execution_count": 63,
     "metadata": {},
     "output_type": "execute_result"
    }
   ],
   "source": [
    "df.violation.value_counts(dropna=False)"
   ]
  },
  {
   "cell_type": "code",
   "execution_count": 64,
   "metadata": {},
   "outputs": [
    {
     "name": "stdout",
     "output_type": "stream",
     "text": [
      "\t-> Creamos dummy = 1 si existió violación y es un problema de salud pública\n"
     ]
    }
   ],
   "source": [
    "print(\"\\t-> Creamos dummy = 1 si existió violación y es un problema de salud pública\")"
   ]
  },
  {
   "cell_type": "code",
   "execution_count": 65,
   "metadata": {},
   "outputs": [],
   "source": [
    "df['public_hazard'] = df['violation_category'].apply(lambda x: 1 if x == 'public_health_hazard' else 0)"
   ]
  },
  {
   "cell_type": "code",
   "execution_count": 66,
   "metadata": {},
   "outputs": [
    {
     "data": {
      "text/plain": [
       "0    48485\n",
       "1     3396\n",
       "Name: public_hazard, dtype: int64"
      ]
     },
     "execution_count": 66,
     "metadata": {},
     "output_type": "execute_result"
    }
   ],
   "source": [
    "df.public_hazard.value_counts(dropna=False)"
   ]
  },
  {
   "cell_type": "code",
   "execution_count": 67,
   "metadata": {},
   "outputs": [
    {
     "name": "stdout",
     "output_type": "stream",
     "text": [
      "\t-> Creamos la variable violaciones_hist_salud_publica: Número de violaciones de salud pública históricas (2016-2019) por centro\n"
     ]
    }
   ],
   "source": [
    "print(\"\\t-> Creamos la variable violaciones_hist_salud_publica: Número de violaciones de salud pública históricas (2016-2019) por centro\")"
   ]
  },
  {
   "cell_type": "code",
   "execution_count": 68,
   "metadata": {},
   "outputs": [],
   "source": [
    "df['violaciones_hist_salud_publica'] = df.public_hazard[(df.inspection_year != 2020)]"
   ]
  },
  {
   "cell_type": "code",
   "execution_count": 69,
   "metadata": {},
   "outputs": [],
   "source": [
    "df_4 = df.groupby('center_id').violaciones_hist_salud_publica.sum().reset_index()"
   ]
  },
  {
   "cell_type": "code",
   "execution_count": 70,
   "metadata": {},
   "outputs": [],
   "source": [
    "df = pd.merge(left=df,right=df_4, how='left', left_on='center_id', right_on='center_id')"
   ]
  },
  {
   "cell_type": "code",
   "execution_count": 71,
   "metadata": {},
   "outputs": [],
   "source": [
    "df = df.drop(['violaciones_hist_salud_publica_x'], axis=1) #Eliminamos la variable repetida"
   ]
  },
  {
   "cell_type": "code",
   "execution_count": 72,
   "metadata": {},
   "outputs": [],
   "source": [
    "df.rename(columns={'violaciones_hist_salud_publica_y':'violaciones_hist_salud_publica'}, inplace=True)"
   ]
  },
  {
   "cell_type": "code",
   "execution_count": 73,
   "metadata": {},
   "outputs": [
    {
     "name": "stdout",
     "output_type": "stream",
     "text": [
      "\t-> Creamos la variable violaciones_2019_salud_publica: Número de violaciones de salud pública en el 2019 por centro\n"
     ]
    }
   ],
   "source": [
    "print(\"\\t-> Creamos la variable violaciones_2019_salud_publica: Número de violaciones de salud pública en el 2019 por centro\")"
   ]
  },
  {
   "cell_type": "code",
   "execution_count": 74,
   "metadata": {},
   "outputs": [],
   "source": [
    "df['violaciones_2019_salud_publica'] = df.public_hazard[(df.inspection_year == 2019)]"
   ]
  },
  {
   "cell_type": "code",
   "execution_count": 75,
   "metadata": {},
   "outputs": [],
   "source": [
    "df_5 = df.groupby('center_id').violaciones_2019_salud_publica.sum().reset_index()"
   ]
  },
  {
   "cell_type": "code",
   "execution_count": 76,
   "metadata": {},
   "outputs": [],
   "source": [
    "df = pd.merge(left=df,right=df_5, how='left', left_on='center_id', right_on='center_id')"
   ]
  },
  {
   "cell_type": "code",
   "execution_count": 77,
   "metadata": {},
   "outputs": [],
   "source": [
    "df = df.drop(['violaciones_2019_salud_publica_x'], axis=1) #Eliminamos la variable repetida"
   ]
  },
  {
   "cell_type": "code",
   "execution_count": 78,
   "metadata": {},
   "outputs": [],
   "source": [
    "df.rename(columns={'violaciones_2019_salud_publica_y':'violaciones_2019_salud_publica'}, inplace=True)"
   ]
  },
  {
   "cell_type": "code",
   "execution_count": 79,
   "metadata": {},
   "outputs": [
    {
     "name": "stdout",
     "output_type": "stream",
     "text": [
      "\t-> Creamos la variable violaciones_hist_criticas: Número de violaciones críticas históricas anteriores (2016-2019) por centro\n"
     ]
    }
   ],
   "source": [
    "print(\"\\t-> Creamos la variable violaciones_hist_criticas: Número de violaciones críticas históricas anteriores (2016-2019) por centro\")"
   ]
  },
  {
   "cell_type": "code",
   "execution_count": 80,
   "metadata": {},
   "outputs": [],
   "source": [
    "df['violation_critical'] = df['violation_category'].apply(lambda x: 1 if x == 'critical' else 0)"
   ]
  },
  {
   "cell_type": "code",
   "execution_count": 81,
   "metadata": {},
   "outputs": [],
   "source": [
    "df['violaciones_hist_criticas'] = df.violation_critical[(df.inspection_year != 2020)]"
   ]
  },
  {
   "cell_type": "code",
   "execution_count": 82,
   "metadata": {},
   "outputs": [],
   "source": [
    "df_6 = df.groupby('center_id').violaciones_hist_criticas.sum().reset_index()"
   ]
  },
  {
   "cell_type": "code",
   "execution_count": 83,
   "metadata": {},
   "outputs": [],
   "source": [
    "df = pd.merge(left=df,right=df_6, how='left', left_on='center_id', right_on='center_id')"
   ]
  },
  {
   "cell_type": "code",
   "execution_count": 84,
   "metadata": {},
   "outputs": [],
   "source": [
    "df = df.drop(['violaciones_hist_criticas_x'], axis=1) #Eliminamos la variable repetida"
   ]
  },
  {
   "cell_type": "code",
   "execution_count": 85,
   "metadata": {},
   "outputs": [],
   "source": [
    "df.rename(columns={'violaciones_hist_criticas_y':'violaciones_hist_criticas'}, inplace=True)"
   ]
  },
  {
   "cell_type": "code",
   "execution_count": 86,
   "metadata": {},
   "outputs": [
    {
     "name": "stdout",
     "output_type": "stream",
     "text": [
      "\t-> Creamos la variable violaciones_2019_criticas: Número de violaciones críticas en el 2019 por centro\n"
     ]
    }
   ],
   "source": [
    "print(\"\\t-> Creamos la variable violaciones_2019_criticas: Número de violaciones críticas en el 2019 por centro\")"
   ]
  },
  {
   "cell_type": "code",
   "execution_count": 87,
   "metadata": {},
   "outputs": [],
   "source": [
    "df['violaciones_2019_criticas'] = df.violation_critical[(df.inspection_year == 2019)]"
   ]
  },
  {
   "cell_type": "code",
   "execution_count": 88,
   "metadata": {},
   "outputs": [],
   "source": [
    "df_7 = df.groupby('center_id').violaciones_2019_criticas.sum().reset_index()"
   ]
  },
  {
   "cell_type": "code",
   "execution_count": 89,
   "metadata": {},
   "outputs": [],
   "source": [
    "df = pd.merge(left=df,right=df_7, how='left', left_on='center_id', right_on='center_id')"
   ]
  },
  {
   "cell_type": "code",
   "execution_count": 90,
   "metadata": {},
   "outputs": [],
   "source": [
    "df = df.drop(['violaciones_2019_criticas_x'], axis=1) #Eliminamos la variable repetida"
   ]
  },
  {
   "cell_type": "code",
   "execution_count": 91,
   "metadata": {},
   "outputs": [],
   "source": [
    "df.rename(columns={'violaciones_2019_criticas_y':'violaciones_2019_criticas'}, inplace=True)"
   ]
  },
  {
   "cell_type": "code",
   "execution_count": 92,
   "metadata": {},
   "outputs": [
    {
     "name": "stdout",
     "output_type": "stream",
     "text": [
      "\t-> Creamos la variable ratio_violaciones_hist: Número de inspecciones en total de primera vez que resultaron en violación crítica o de salud pública/ número de inspecciones de primera vez por centro\n"
     ]
    }
   ],
   "source": [
    "print(\"\\t-> Creamos la variable ratio_violaciones_hist: Número de inspecciones en total de primera vez que resultaron en violación crítica o de salud pública/ número de inspecciones de primera vez por centro\")"
   ]
  },
  {
   "cell_type": "code",
   "execution_count": 93,
   "metadata": {},
   "outputs": [],
   "source": [
    "df_8 = df.loc[df['inspection_year'] != 2020]"
   ]
  },
  {
   "cell_type": "code",
   "execution_count": 94,
   "metadata": {},
   "outputs": [],
   "source": [
    "df_9 = df_8[df_8.violation_category.isin(['critical', 'public_health_hazard']) & df_8['initial_annual_inspection']==1]"
   ]
  },
  {
   "cell_type": "code",
   "execution_count": 95,
   "metadata": {},
   "outputs": [],
   "source": [
    "df_10 = df_9.groupby('center_id').initial_annual_inspection.sum().reset_index()"
   ]
  },
  {
   "cell_type": "code",
   "execution_count": 96,
   "metadata": {},
   "outputs": [],
   "source": [
    "df_11 = df.groupby('center_id').initial_annual_inspection.sum().reset_index()"
   ]
  },
  {
   "cell_type": "code",
   "execution_count": 97,
   "metadata": {},
   "outputs": [],
   "source": [
    "df_12 = pd.merge(left=df_11,right=df_10, how='left', left_on='center_id', right_on='center_id')"
   ]
  },
  {
   "cell_type": "code",
   "execution_count": 98,
   "metadata": {},
   "outputs": [],
   "source": [
    "df_12['ratio_violaciones_hist'] = df_12['initial_annual_inspection_y'] / df_12['initial_annual_inspection_x']"
   ]
  },
  {
   "cell_type": "code",
   "execution_count": 99,
   "metadata": {},
   "outputs": [],
   "source": [
    "df = pd.merge(left=df,right=df_12, how='left', left_on='center_id', right_on='center_id')"
   ]
  },
  {
   "cell_type": "code",
   "execution_count": 100,
   "metadata": {},
   "outputs": [],
   "source": [
    "df = df.drop(['initial_annual_inspection_x', 'initial_annual_inspection_y'], axis=1) #Eliminamos variables que no necesitamos "
   ]
  },
  {
   "cell_type": "code",
   "execution_count": 101,
   "metadata": {},
   "outputs": [
    {
     "name": "stdout",
     "output_type": "stream",
     "text": [
      "\t-> Creamos la variable ratio_violaciones_2019: Número de inspecciones en total de primera vez que resultaron en violación crítica o de salud pública en el 2019 / número de inspecciones de primera vez por centro\n"
     ]
    }
   ],
   "source": [
    "print(\"\\t-> Creamos la variable ratio_violaciones_2019: Número de inspecciones en total de primera vez que resultaron en violación crítica o de salud pública en el 2019 / número de inspecciones de primera vez por centro\")"
   ]
  },
  {
   "cell_type": "code",
   "execution_count": 102,
   "metadata": {},
   "outputs": [],
   "source": [
    "df_13 = df.loc[df['inspection_year'] == 2019]"
   ]
  },
  {
   "cell_type": "code",
   "execution_count": 103,
   "metadata": {},
   "outputs": [],
   "source": [
    "df_14 = df_13[df_13.violation_category.isin(['critical', 'public_health_hazard']) & df_13['initial_annual_inspection']==1]"
   ]
  },
  {
   "cell_type": "code",
   "execution_count": 104,
   "metadata": {},
   "outputs": [],
   "source": [
    "df_15 = df_14.groupby('center_id').initial_annual_inspection.sum().reset_index()"
   ]
  },
  {
   "cell_type": "code",
   "execution_count": 105,
   "metadata": {},
   "outputs": [],
   "source": [
    "df_16 = pd.merge(left=df_11,right=df_15, how='left', left_on='center_id', right_on='center_id')"
   ]
  },
  {
   "cell_type": "code",
   "execution_count": 106,
   "metadata": {},
   "outputs": [],
   "source": [
    "df_16['ratio_violaciones_2019'] = df_16['initial_annual_inspection_y'] / df_16['initial_annual_inspection_x']"
   ]
  },
  {
   "cell_type": "code",
   "execution_count": 107,
   "metadata": {},
   "outputs": [],
   "source": [
    "df = pd.merge(left=df,right=df_16, how='left', left_on='center_id', right_on='center_id')"
   ]
  },
  {
   "cell_type": "code",
   "execution_count": 108,
   "metadata": {},
   "outputs": [],
   "source": [
    "df = df.drop(['initial_annual_inspection_x','initial_annual_inspection_y'], axis=1) #Eliminamos variables que no necesitamos "
   ]
  },
  {
   "cell_type": "code",
   "execution_count": 109,
   "metadata": {},
   "outputs": [
    {
     "name": "stdout",
     "output_type": "stream",
     "text": [
      "\t-> Creamos la variable prom_violaciones_hist_borough: Promedio de violaciones históricas por distrito\n"
     ]
    }
   ],
   "source": [
    "print(\"\\t-> Creamos la variable prom_violaciones_hist_borough: Promedio de violaciones históricas por distrito\")"
   ]
  },
  {
   "cell_type": "code",
   "execution_count": 110,
   "metadata": {},
   "outputs": [],
   "source": [
    "df_17 = df.loc[df['inspection_year'] != 2020]"
   ]
  },
  {
   "cell_type": "code",
   "execution_count": 111,
   "metadata": {},
   "outputs": [],
   "source": [
    "df_18 = df_17.groupby('borough').violation.mean().reset_index()"
   ]
  },
  {
   "cell_type": "code",
   "execution_count": 112,
   "metadata": {},
   "outputs": [],
   "source": [
    "df = pd.merge(left=df,right=df_18, how='left', left_on='borough', right_on='borough')"
   ]
  },
  {
   "cell_type": "code",
   "execution_count": 113,
   "metadata": {},
   "outputs": [],
   "source": [
    "df.rename(columns={'violation_y':'prom_violaciones_hist_borough'}, inplace=True)"
   ]
  },
  {
   "cell_type": "code",
   "execution_count": 114,
   "metadata": {},
   "outputs": [],
   "source": [
    "df.rename(columns={'violation_x':'violation'}, inplace=True)"
   ]
  },
  {
   "cell_type": "code",
   "execution_count": 115,
   "metadata": {},
   "outputs": [
    {
     "name": "stdout",
     "output_type": "stream",
     "text": [
      "\t-> Creamos la variable prom_violaciones_2019_borough: Promedio de violaciones en el 2019 por distrito\n"
     ]
    }
   ],
   "source": [
    "print(\"\\t-> Creamos la variable prom_violaciones_2019_borough: Promedio de violaciones en el 2019 por distrito\")"
   ]
  },
  {
   "cell_type": "code",
   "execution_count": 116,
   "metadata": {},
   "outputs": [],
   "source": [
    "df_19 = df.loc[df['inspection_year'] == 2019]"
   ]
  },
  {
   "cell_type": "code",
   "execution_count": 117,
   "metadata": {},
   "outputs": [],
   "source": [
    "df_20 = df_19.groupby('borough').violation.mean().reset_index()"
   ]
  },
  {
   "cell_type": "code",
   "execution_count": 118,
   "metadata": {},
   "outputs": [],
   "source": [
    "df = pd.merge(left=df,right=df_20, how='left', left_on='borough', right_on='borough')"
   ]
  },
  {
   "cell_type": "code",
   "execution_count": 119,
   "metadata": {},
   "outputs": [],
   "source": [
    "df.rename(columns={'violation_y':'prom_violaciones_2019_borough'}, inplace=True)"
   ]
  },
  {
   "cell_type": "code",
   "execution_count": 120,
   "metadata": {},
   "outputs": [],
   "source": [
    "df.rename(columns={'violation_x':'violation'}, inplace=True)"
   ]
  },
  {
   "cell_type": "code",
   "execution_count": 121,
   "metadata": {},
   "outputs": [
    {
     "name": "stdout",
     "output_type": "stream",
     "text": [
      "\t-> Creamos la variable ratio_violaciones_hist_sp: Número de violaciones de salud pública de primera vez por centro históricas (2017-2019)/ número de violaciones de primera vez de todo tipo por centro históricas (2017-2019) \n"
     ]
    }
   ],
   "source": [
    "print(\"\\t-> Creamos la variable ratio_violaciones_hist_sp: Número de violaciones de salud pública de primera vez por centro históricas (2017-2019)/ número de violaciones de primera vez de todo tipo por centro históricas (2017-2019) \")"
   ]
  },
  {
   "cell_type": "code",
   "execution_count": 122,
   "metadata": {},
   "outputs": [],
   "source": [
    "df_21 = df.loc[df['inspection_year'] != 2020]"
   ]
  },
  {
   "cell_type": "code",
   "execution_count": 123,
   "metadata": {},
   "outputs": [],
   "source": [
    "df_22 = df_21.loc[df_21['initial_annual_inspection'] == 1]"
   ]
  },
  {
   "cell_type": "code",
   "execution_count": 124,
   "metadata": {},
   "outputs": [],
   "source": [
    "df_23 = df_22.groupby('center_id').public_hazard.sum().reset_index()"
   ]
  },
  {
   "cell_type": "code",
   "execution_count": 125,
   "metadata": {},
   "outputs": [],
   "source": [
    "df_24 = df_22.groupby('center_id').violation.sum().reset_index()"
   ]
  },
  {
   "cell_type": "code",
   "execution_count": 126,
   "metadata": {},
   "outputs": [],
   "source": [
    "df_25 = pd.merge(left=df_23,right=df_24, how='left', left_on='center_id', right_on='center_id')"
   ]
  },
  {
   "cell_type": "code",
   "execution_count": 127,
   "metadata": {},
   "outputs": [],
   "source": [
    "df_25['ratio_violaciones_hist_sp'] = df_25['public_hazard'] / df_25['violation']"
   ]
  },
  {
   "cell_type": "code",
   "execution_count": 128,
   "metadata": {},
   "outputs": [],
   "source": [
    "df = pd.merge(left=df,right=df_25, how='left', left_on='center_id', right_on='center_id')"
   ]
  },
  {
   "cell_type": "code",
   "execution_count": 129,
   "metadata": {},
   "outputs": [],
   "source": [
    "df = df.drop(['public_hazard_y','violation_y'], axis=1) #Eliminamos variables que no necesitamos "
   ]
  },
  {
   "cell_type": "code",
   "execution_count": 130,
   "metadata": {},
   "outputs": [],
   "source": [
    "df.rename(columns={'violation_x':'violation'}, inplace=True)"
   ]
  },
  {
   "cell_type": "code",
   "execution_count": 131,
   "metadata": {},
   "outputs": [],
   "source": [
    "df.rename(columns={'public_hazard_x':'public_hazard'}, inplace=True)"
   ]
  },
  {
   "cell_type": "code",
   "execution_count": 132,
   "metadata": {},
   "outputs": [
    {
     "name": "stdout",
     "output_type": "stream",
     "text": [
      "\t-> Creamos la variable ratio_violaciones_2019_sp: Número de violaciones de salud pública de primera vez por centro en el 2019 / número de violaciones de primera vez de todo tipo por centro en el 2019 \n"
     ]
    }
   ],
   "source": [
    "print(\"\\t-> Creamos la variable ratio_violaciones_2019_sp: Número de violaciones de salud pública de primera vez por centro en el 2019 / número de violaciones de primera vez de todo tipo por centro en el 2019 \")"
   ]
  },
  {
   "cell_type": "code",
   "execution_count": 133,
   "metadata": {},
   "outputs": [],
   "source": [
    "df_26 = df.loc[df['inspection_year'] == 2019]"
   ]
  },
  {
   "cell_type": "code",
   "execution_count": 134,
   "metadata": {},
   "outputs": [],
   "source": [
    "df_27 = df_26.loc[df_26['initial_annual_inspection'] == 1]"
   ]
  },
  {
   "cell_type": "code",
   "execution_count": 135,
   "metadata": {},
   "outputs": [],
   "source": [
    "df_28 = df_27.groupby('center_id').public_hazard.sum().reset_index()"
   ]
  },
  {
   "cell_type": "code",
   "execution_count": 136,
   "metadata": {},
   "outputs": [],
   "source": [
    "df_29 = df_27.groupby('center_id').violation.sum().reset_index()"
   ]
  },
  {
   "cell_type": "code",
   "execution_count": 137,
   "metadata": {},
   "outputs": [],
   "source": [
    "df_30 = pd.merge(left=df_28,right=df_29, how='left', left_on='center_id', right_on='center_id')"
   ]
  },
  {
   "cell_type": "code",
   "execution_count": 138,
   "metadata": {},
   "outputs": [],
   "source": [
    "df_30['ratio_violaciones_2019_sp'] = df_30['public_hazard'] / df_30['violation']"
   ]
  },
  {
   "cell_type": "code",
   "execution_count": 139,
   "metadata": {},
   "outputs": [],
   "source": [
    "df = pd.merge(left=df,right=df_30, how='left', left_on='center_id', right_on='center_id')"
   ]
  },
  {
   "cell_type": "code",
   "execution_count": 140,
   "metadata": {},
   "outputs": [],
   "source": [
    "df = df.drop(['public_hazard_y','violation_y'], axis=1) #Eliminamos variables que no necesitamos "
   ]
  },
  {
   "cell_type": "code",
   "execution_count": 141,
   "metadata": {},
   "outputs": [],
   "source": [
    "df.rename(columns={'violation_x':'violation'}, inplace=True)"
   ]
  },
  {
   "cell_type": "code",
   "execution_count": 142,
   "metadata": {},
   "outputs": [],
   "source": [
    "df.rename(columns={'public_hazard_x':'public_hazard'}, inplace=True)"
   ]
  },
  {
   "cell_type": "code",
   "execution_count": 143,
   "metadata": {},
   "outputs": [
    {
     "name": "stdout",
     "output_type": "stream",
     "text": [
      "\t-> Creamos la variable ratio_violaciones_hist_criticas: Número de violaciones críticas de primera vez por centro históricas (2017-2019)/ número de violaciones de primera vez de todo tipo por centro históricas (2017-2019)\n"
     ]
    }
   ],
   "source": [
    "print(\"\\t-> Creamos la variable ratio_violaciones_hist_criticas: Número de violaciones críticas de primera vez por centro históricas (2017-2019)/ número de violaciones de primera vez de todo tipo por centro históricas (2017-2019)\")"
   ]
  },
  {
   "cell_type": "code",
   "execution_count": 144,
   "metadata": {},
   "outputs": [],
   "source": [
    "df_31 = df.loc[df['inspection_year'] != 2020]"
   ]
  },
  {
   "cell_type": "code",
   "execution_count": 145,
   "metadata": {},
   "outputs": [],
   "source": [
    "df_32 = df_31.loc[df_31['initial_annual_inspection'] == 1]"
   ]
  },
  {
   "cell_type": "code",
   "execution_count": 146,
   "metadata": {},
   "outputs": [],
   "source": [
    "df_33 = df_32.groupby('center_id').violation_critical.sum().reset_index()"
   ]
  },
  {
   "cell_type": "code",
   "execution_count": 147,
   "metadata": {},
   "outputs": [],
   "source": [
    "df_34 = df_32.groupby('center_id').violation.sum().reset_index()"
   ]
  },
  {
   "cell_type": "code",
   "execution_count": 148,
   "metadata": {},
   "outputs": [],
   "source": [
    "df_35 = pd.merge(left=df_33,right=df_34, how='left', left_on='center_id', right_on='center_id')"
   ]
  },
  {
   "cell_type": "code",
   "execution_count": 149,
   "metadata": {},
   "outputs": [],
   "source": [
    "df_35['ratio_violaciones_hist_criticas'] = df_35['violation_critical'] / df_35['violation']"
   ]
  },
  {
   "cell_type": "code",
   "execution_count": 150,
   "metadata": {},
   "outputs": [],
   "source": [
    "df = pd.merge(left=df,right=df_35, how='left', left_on='center_id', right_on='center_id')"
   ]
  },
  {
   "cell_type": "code",
   "execution_count": 151,
   "metadata": {},
   "outputs": [],
   "source": [
    "df = df.drop(['violation_critical_y','violation_y'], axis=1) #Eliminamos variables que no necesitamos "
   ]
  },
  {
   "cell_type": "code",
   "execution_count": 152,
   "metadata": {},
   "outputs": [],
   "source": [
    "df.rename(columns={'violation_x':'violation'}, inplace=True)"
   ]
  },
  {
   "cell_type": "code",
   "execution_count": 153,
   "metadata": {},
   "outputs": [],
   "source": [
    "df.rename(columns={'violation_critical_x':'violation_critical'}, inplace=True)"
   ]
  },
  {
   "cell_type": "code",
   "execution_count": 154,
   "metadata": {},
   "outputs": [
    {
     "name": "stdout",
     "output_type": "stream",
     "text": [
      "\t-> Creamos la variable ratio_violaciones_2019_criticas: Número de violaciones críticas de primera vez por centro en el 2019/ número de violaciones de primera vez de todo tipo por centro en el 2019\n"
     ]
    }
   ],
   "source": [
    "print(\"\\t-> Creamos la variable ratio_violaciones_2019_criticas: Número de violaciones críticas de primera vez por centro en el 2019/ número de violaciones de primera vez de todo tipo por centro en el 2019\")"
   ]
  },
  {
   "cell_type": "code",
   "execution_count": 155,
   "metadata": {},
   "outputs": [],
   "source": [
    "df_36 = df.loc[df['inspection_year'] == 2019]"
   ]
  },
  {
   "cell_type": "code",
   "execution_count": 156,
   "metadata": {},
   "outputs": [],
   "source": [
    "df_37 = df_36.loc[df_36['initial_annual_inspection'] == 1]"
   ]
  },
  {
   "cell_type": "code",
   "execution_count": 157,
   "metadata": {},
   "outputs": [],
   "source": [
    "df_38 = df_37.groupby('center_id').violation_critical.sum().reset_index()"
   ]
  },
  {
   "cell_type": "code",
   "execution_count": 158,
   "metadata": {},
   "outputs": [],
   "source": [
    "df_39 = df_37.groupby('center_id').violation.sum().reset_index()"
   ]
  },
  {
   "cell_type": "code",
   "execution_count": 159,
   "metadata": {},
   "outputs": [],
   "source": [
    "df_40 = pd.merge(left=df_38,right=df_39, how='left', left_on='center_id', right_on='center_id')"
   ]
  },
  {
   "cell_type": "code",
   "execution_count": 160,
   "metadata": {},
   "outputs": [],
   "source": [
    "df_40['ratio_violaciones_2019_criticas'] = df_40['violation_critical'] / df_40['violation']"
   ]
  },
  {
   "cell_type": "code",
   "execution_count": 161,
   "metadata": {},
   "outputs": [],
   "source": [
    "df = pd.merge(left=df,right=df_40, how='left', left_on='center_id', right_on='center_id')"
   ]
  },
  {
   "cell_type": "code",
   "execution_count": 162,
   "metadata": {},
   "outputs": [],
   "source": [
    "df = df.drop(['violation_critical_y','violation_y'], axis=1) #Eliminamos variables que no necesitamos "
   ]
  },
  {
   "cell_type": "code",
   "execution_count": 163,
   "metadata": {},
   "outputs": [],
   "source": [
    "df.rename(columns={'violation_x':'violation'}, inplace=True)"
   ]
  },
  {
   "cell_type": "code",
   "execution_count": 164,
   "metadata": {},
   "outputs": [],
   "source": [
    "df.rename(columns={'violation_critical_x':'violation_critical'}, inplace=True)"
   ]
  },
  {
   "cell_type": "code",
   "execution_count": 165,
   "metadata": {},
   "outputs": [
    {
     "name": "stdout",
     "output_type": "stream",
     "text": [
      "<class 'pandas.core.frame.DataFrame'>\n",
      "Int64Index: 51881 entries, 0 to 51880\n",
      "Data columns (total 75 columns):\n",
      " #   Column                                               Non-Null Count  Dtype         \n",
      "---  ------                                               --------------  -----         \n",
      " 0   center_id                                            39363 non-null  object        \n",
      " 1   inspection_date                                      39307 non-null  datetime64[ns]\n",
      " 2   center_name                                          39363 non-null  object        \n",
      " 3   legal_name                                           39363 non-null  object        \n",
      " 4   building                                             39352 non-null  object        \n",
      " 5   street                                               39363 non-null  object        \n",
      " 6   borough                                              39363 non-null  object        \n",
      " 7   zipcode                                              39313 non-null  float64       \n",
      " 8   phone                                                39317 non-null  object        \n",
      " 9   permit_number                                        35542 non-null  float64       \n",
      " 10  permit_expiration                                    39363 non-null  object        \n",
      " 11  age_range                                            37577 non-null  object        \n",
      " 12  maximum_capacity                                     39363 non-null  float64       \n",
      " 13  child_care_type                                      39363 non-null  object        \n",
      " 14  building_identification_number                       39363 non-null  float64       \n",
      " 15  url                                                  19989 non-null  object        \n",
      " 16  date_permitted                                       35285 non-null  object        \n",
      " 17  actual                                               35285 non-null  object        \n",
      " 18  violation_rate_percent                               39278 non-null  float64       \n",
      " 19  average_violation_rate_percent                       39265 non-null  float64       \n",
      " 20  total_educational_workers                            39363 non-null  float64       \n",
      " 21  average_total_educational_workers                    39363 non-null  float64       \n",
      " 22  public_health_hazard_violation_rate                  39278 non-null  float64       \n",
      " 23  average_public_health_hazard_violation_rate          39265 non-null  float64       \n",
      " 24  critical_violation_rate                              39278 non-null  float64       \n",
      " 25  average_critical_violation_rate                      39265 non-null  float64       \n",
      " 26  regulation_summary                                   39307 non-null  object        \n",
      " 27  violation_category                                   23870 non-null  object        \n",
      " 28  health_code_sub_section                              23870 non-null  object        \n",
      " 29  violation_status                                     23870 non-null  object        \n",
      " 30  bronx                                                39363 non-null  float64       \n",
      " 31  brooklyn                                             39363 non-null  float64       \n",
      " 32  manhattan                                            39363 non-null  float64       \n",
      " 33  queens                                               39363 non-null  float64       \n",
      " 34  staten_island                                        39363 non-null  float64       \n",
      " 35  status_active                                        39364 non-null  float64       \n",
      " 36  status_expired-in_renewal                            39364 non-null  float64       \n",
      " 37  status_permitted                                     39364 non-null  float64       \n",
      " 38  program_type_all_age_camp                            39364 non-null  float64       \n",
      " 39  program_type_infant_toddler                          39364 non-null  float64       \n",
      " 40  program_type_preschool                               39364 non-null  float64       \n",
      " 41  program_type_preschool_camp                          39364 non-null  float64       \n",
      " 42  program_type_school_age_camp                         39364 non-null  float64       \n",
      " 43  facility_type_camp                                   39364 non-null  float64       \n",
      " 44  facility_type_gdc                                    39364 non-null  float64       \n",
      " 45  facility_type_sbcc                                   39364 non-null  float64       \n",
      " 46  initial_annual_inspection                            51298 non-null  float64       \n",
      " 47  result_1_None                                        51298 non-null  float64       \n",
      " 48  result_1_passed_inspection                           51298 non-null  float64       \n",
      " 49  result_1_passed_inspection_with_no_violations        51298 non-null  float64       \n",
      " 50  result_1_previously_cited_violations_corrected       51298 non-null  float64       \n",
      " 51  result_1_previously_closed_program_re-opened         51298 non-null  float64       \n",
      " 52  result_1_reinspection_not_required                   51298 non-null  float64       \n",
      " 53  result_1_reinspection_required                       51298 non-null  float64       \n",
      " 54  result_2_fines_pending                               51298 non-null  float64       \n",
      " 55  result_2_program_closed                              51298 non-null  float64       \n",
      " 56  result_2_violations_corrected_at_time_of_inspection  51298 non-null  float64       \n",
      " 57  inspection_year                                      39307 non-null  float64       \n",
      " 58  inspection_month_name                                39307 non-null  object        \n",
      " 59  inspection_day_name                                  39307 non-null  object        \n",
      " 60  violation                                            51881 non-null  int64         \n",
      " 61  public_hazard                                        51881 non-null  int64         \n",
      " 62  violaciones_hist_salud_publica                       39363 non-null  float64       \n",
      " 63  violaciones_2019_salud_publica                       39363 non-null  float64       \n",
      " 64  violation_critical                                   51881 non-null  int64         \n",
      " 65  violaciones_hist_criticas                            39363 non-null  float64       \n",
      " 66  violaciones_2019_criticas                            39363 non-null  float64       \n",
      " 67  ratio_violaciones_hist                               33339 non-null  float64       \n",
      " 68  ratio_violaciones_2019                               18890 non-null  float64       \n",
      " 69  prom_violaciones_hist_borough                        39363 non-null  float64       \n",
      " 70  prom_violaciones_2019_borough                        39363 non-null  float64       \n",
      " 71  ratio_violaciones_hist_sp                            37296 non-null  float64       \n",
      " 72  ratio_violaciones_2019_sp                            27857 non-null  float64       \n",
      " 73  ratio_violaciones_hist_criticas                      37296 non-null  float64       \n",
      " 74  ratio_violaciones_2019_criticas                      27857 non-null  float64       \n",
      "dtypes: datetime64[ns](1), float64(52), int64(3), object(19)\n",
      "memory usage: 30.1+ MB\n"
     ]
    }
   ],
   "source": [
    "df.info()"
   ]
  },
  {
   "cell_type": "code",
   "execution_count": 166,
   "metadata": {},
   "outputs": [],
   "source": [
    "df = df.set_index(['center_id', 'inspection_date'])"
   ]
  },
  {
   "cell_type": "code",
   "execution_count": 167,
   "metadata": {},
   "outputs": [],
   "source": [
    "df = df.drop(df.columns[[0,1,2,3,4,5,6,7,8,9,11,12,13,14,15,17,19,21,23,24,25,26,27,56,57]], axis=1) #Eliminamos variables que no necesitamos "
   ]
  },
  {
   "cell_type": "code",
   "execution_count": 168,
   "metadata": {},
   "outputs": [],
   "source": [
    "df = df.fillna(0)"
   ]
  },
  {
   "cell_type": "markdown",
   "metadata": {},
   "source": [
    "Modelo Random Forest"
   ]
  },
  {
   "cell_type": "markdown",
   "metadata": {},
   "source": [
    "- Para el entrenamiento se usaron todos los datos del 2017-2019 y para validación los datos correspondientes a lo que va del año 2020."
   ]
  },
  {
   "cell_type": "markdown",
   "metadata": {},
   "source": [
    "- Mediante una gráfica de barras se verifica si la muestra esta balanceada o no y se observa que no está balanceada."
   ]
  },
  {
   "cell_type": "code",
   "execution_count": 169,
   "metadata": {},
   "outputs": [
    {
     "data": {
      "text/plain": [
       "<matplotlib.axes._subplots.AxesSubplot at 0x24b0feed6c8>"
      ]
     },
     "execution_count": 169,
     "metadata": {},
     "output_type": "execute_result"
    },
    {
     "data": {
      "image/png": "[encoded data removed]",
      "text/plain": [
       "<Figure size 432x288 with 1 Axes>"
      ]
     },
     "metadata": {
      "needs_background": "light"
     },
     "output_type": "display_data"
    }
   ],
   "source": [
    "sns.countplot(x='public_hazard', data=df, palette=\"Set3\")"
   ]
  },
  {
   "cell_type": "markdown",
   "metadata": {},
   "source": [
    "- Así que se utiliza _over-sampling_ para balancear la muestra."
   ]
  },
  {
   "cell_type": "code",
   "execution_count": 170,
   "metadata": {},
   "outputs": [],
   "source": [
    "count_class_0, count_class_1 = df.public_hazard.value_counts()"
   ]
  },
  {
   "cell_type": "code",
   "execution_count": 171,
   "metadata": {},
   "outputs": [],
   "source": [
    "df_class_0 = df[df['public_hazard'] == 0]\n",
    "df_class_1 = df[df['public_hazard'] == 1]"
   ]
  },
  {
   "cell_type": "code",
   "execution_count": 172,
   "metadata": {},
   "outputs": [
    {
     "data": {
      "text/plain": [
       "48485"
      ]
     },
     "execution_count": 172,
     "metadata": {},
     "output_type": "execute_result"
    }
   ],
   "source": [
    "count_class_0"
   ]
  },
  {
   "cell_type": "code",
   "execution_count": 173,
   "metadata": {},
   "outputs": [
    {
     "data": {
      "text/plain": [
       "3396"
      ]
     },
     "execution_count": 173,
     "metadata": {},
     "output_type": "execute_result"
    }
   ],
   "source": [
    "count_class_1"
   ]
  },
  {
   "cell_type": "code",
   "execution_count": 174,
   "metadata": {},
   "outputs": [
    {
     "data": {
      "text/html": [
       "<div>\n",
       "<style scoped>\n",
       "    .dataframe tbody tr th:only-of-type {\n",
       "        vertical-align: middle;\n",
       "    }\n",
       "\n",
       "    .dataframe tbody tr th {\n",
       "        vertical-align: top;\n",
       "    }\n",
       "\n",
       "    .dataframe thead th {\n",
       "        text-align: right;\n",
       "    }\n",
       "</style>\n",
       "<table border=\"1\" class=\"dataframe\">\n",
       "  <thead>\n",
       "    <tr style=\"text-align: right;\">\n",
       "      <th></th>\n",
       "      <th></th>\n",
       "      <th>maximum_capacity</th>\n",
       "      <th>violation_rate_percent</th>\n",
       "      <th>total_educational_workers</th>\n",
       "      <th>public_health_hazard_violation_rate</th>\n",
       "      <th>critical_violation_rate</th>\n",
       "      <th>bronx</th>\n",
       "      <th>brooklyn</th>\n",
       "      <th>manhattan</th>\n",
       "      <th>queens</th>\n",
       "      <th>staten_island</th>\n",
       "      <th>...</th>\n",
       "      <th>violaciones_hist_criticas</th>\n",
       "      <th>violaciones_2019_criticas</th>\n",
       "      <th>ratio_violaciones_hist</th>\n",
       "      <th>ratio_violaciones_2019</th>\n",
       "      <th>prom_violaciones_hist_borough</th>\n",
       "      <th>prom_violaciones_2019_borough</th>\n",
       "      <th>ratio_violaciones_hist_sp</th>\n",
       "      <th>ratio_violaciones_2019_sp</th>\n",
       "      <th>ratio_violaciones_hist_criticas</th>\n",
       "      <th>ratio_violaciones_2019_criticas</th>\n",
       "    </tr>\n",
       "    <tr>\n",
       "      <th>center_id</th>\n",
       "      <th>inspection_date</th>\n",
       "      <th></th>\n",
       "      <th></th>\n",
       "      <th></th>\n",
       "      <th></th>\n",
       "      <th></th>\n",
       "      <th></th>\n",
       "      <th></th>\n",
       "      <th></th>\n",
       "      <th></th>\n",
       "      <th></th>\n",
       "      <th></th>\n",
       "      <th></th>\n",
       "      <th></th>\n",
       "      <th></th>\n",
       "      <th></th>\n",
       "      <th></th>\n",
       "      <th></th>\n",
       "      <th></th>\n",
       "      <th></th>\n",
       "      <th></th>\n",
       "      <th></th>\n",
       "    </tr>\n",
       "  </thead>\n",
       "  <tbody>\n",
       "    <tr>\n",
       "      <th>dc1643</th>\n",
       "      <th>2020-03-12</th>\n",
       "      <td>56.0</td>\n",
       "      <td>75.0</td>\n",
       "      <td>8.0</td>\n",
       "      <td>25.0</td>\n",
       "      <td>75.0</td>\n",
       "      <td>1.0</td>\n",
       "      <td>0.0</td>\n",
       "      <td>0.0</td>\n",
       "      <td>0.0</td>\n",
       "      <td>0.0</td>\n",
       "      <td>...</td>\n",
       "      <td>16.0</td>\n",
       "      <td>3.0</td>\n",
       "      <td>0.521739</td>\n",
       "      <td>0.000000</td>\n",
       "      <td>0.713809</td>\n",
       "      <td>0.678596</td>\n",
       "      <td>0.043478</td>\n",
       "      <td>0.0</td>\n",
       "      <td>0.478261</td>\n",
       "      <td>0.0</td>\n",
       "    </tr>\n",
       "    <tr>\n",
       "      <th>dc2838</th>\n",
       "      <th>2020-03-12</th>\n",
       "      <td>64.0</td>\n",
       "      <td>50.0</td>\n",
       "      <td>13.0</td>\n",
       "      <td>25.0</td>\n",
       "      <td>50.0</td>\n",
       "      <td>0.0</td>\n",
       "      <td>0.0</td>\n",
       "      <td>0.0</td>\n",
       "      <td>1.0</td>\n",
       "      <td>0.0</td>\n",
       "      <td>...</td>\n",
       "      <td>8.0</td>\n",
       "      <td>3.0</td>\n",
       "      <td>0.555556</td>\n",
       "      <td>0.444444</td>\n",
       "      <td>0.620931</td>\n",
       "      <td>0.574044</td>\n",
       "      <td>0.142857</td>\n",
       "      <td>0.2</td>\n",
       "      <td>0.571429</td>\n",
       "      <td>0.6</td>\n",
       "    </tr>\n",
       "    <tr>\n",
       "      <th rowspan=\"3\" valign=\"top\">dc2997</th>\n",
       "      <th>2020-03-12</th>\n",
       "      <td>80.0</td>\n",
       "      <td>37.5</td>\n",
       "      <td>17.0</td>\n",
       "      <td>25.0</td>\n",
       "      <td>25.0</td>\n",
       "      <td>0.0</td>\n",
       "      <td>0.0</td>\n",
       "      <td>1.0</td>\n",
       "      <td>0.0</td>\n",
       "      <td>0.0</td>\n",
       "      <td>...</td>\n",
       "      <td>3.0</td>\n",
       "      <td>0.0</td>\n",
       "      <td>0.133333</td>\n",
       "      <td>0.000000</td>\n",
       "      <td>0.587783</td>\n",
       "      <td>0.545004</td>\n",
       "      <td>0.250000</td>\n",
       "      <td>0.0</td>\n",
       "      <td>0.250000</td>\n",
       "      <td>0.0</td>\n",
       "    </tr>\n",
       "    <tr>\n",
       "      <th>2020-03-12</th>\n",
       "      <td>80.0</td>\n",
       "      <td>37.5</td>\n",
       "      <td>17.0</td>\n",
       "      <td>25.0</td>\n",
       "      <td>25.0</td>\n",
       "      <td>0.0</td>\n",
       "      <td>0.0</td>\n",
       "      <td>1.0</td>\n",
       "      <td>0.0</td>\n",
       "      <td>0.0</td>\n",
       "      <td>...</td>\n",
       "      <td>3.0</td>\n",
       "      <td>0.0</td>\n",
       "      <td>0.133333</td>\n",
       "      <td>0.000000</td>\n",
       "      <td>0.587783</td>\n",
       "      <td>0.545004</td>\n",
       "      <td>0.250000</td>\n",
       "      <td>0.0</td>\n",
       "      <td>0.250000</td>\n",
       "      <td>0.0</td>\n",
       "    </tr>\n",
       "    <tr>\n",
       "      <th>2020-03-12</th>\n",
       "      <td>80.0</td>\n",
       "      <td>37.5</td>\n",
       "      <td>17.0</td>\n",
       "      <td>25.0</td>\n",
       "      <td>25.0</td>\n",
       "      <td>0.0</td>\n",
       "      <td>0.0</td>\n",
       "      <td>1.0</td>\n",
       "      <td>0.0</td>\n",
       "      <td>0.0</td>\n",
       "      <td>...</td>\n",
       "      <td>3.0</td>\n",
       "      <td>0.0</td>\n",
       "      <td>0.133333</td>\n",
       "      <td>0.000000</td>\n",
       "      <td>0.587783</td>\n",
       "      <td>0.545004</td>\n",
       "      <td>0.250000</td>\n",
       "      <td>0.0</td>\n",
       "      <td>0.250000</td>\n",
       "      <td>0.0</td>\n",
       "    </tr>\n",
       "  </tbody>\n",
       "</table>\n",
       "<p>5 rows × 48 columns</p>\n",
       "</div>"
      ],
      "text/plain": [
       "                           maximum_capacity  violation_rate_percent  \\\n",
       "center_id inspection_date                                             \n",
       "dc1643    2020-03-12                   56.0                    75.0   \n",
       "dc2838    2020-03-12                   64.0                    50.0   \n",
       "dc2997    2020-03-12                   80.0                    37.5   \n",
       "          2020-03-12                   80.0                    37.5   \n",
       "          2020-03-12                   80.0                    37.5   \n",
       "\n",
       "                           total_educational_workers  \\\n",
       "center_id inspection_date                              \n",
       "dc1643    2020-03-12                             8.0   \n",
       "dc2838    2020-03-12                            13.0   \n",
       "dc2997    2020-03-12                            17.0   \n",
       "          2020-03-12                            17.0   \n",
       "          2020-03-12                            17.0   \n",
       "\n",
       "                           public_health_hazard_violation_rate  \\\n",
       "center_id inspection_date                                        \n",
       "dc1643    2020-03-12                                      25.0   \n",
       "dc2838    2020-03-12                                      25.0   \n",
       "dc2997    2020-03-12                                      25.0   \n",
       "          2020-03-12                                      25.0   \n",
       "          2020-03-12                                      25.0   \n",
       "\n",
       "                           critical_violation_rate  bronx  brooklyn  \\\n",
       "center_id inspection_date                                             \n",
       "dc1643    2020-03-12                          75.0    1.0       0.0   \n",
       "dc2838    2020-03-12                          50.0    0.0       0.0   \n",
       "dc2997    2020-03-12                          25.0    0.0       0.0   \n",
       "          2020-03-12                          25.0    0.0       0.0   \n",
       "          2020-03-12                          25.0    0.0       0.0   \n",
       "\n",
       "                           manhattan  queens  staten_island  ...  \\\n",
       "center_id inspection_date                                    ...   \n",
       "dc1643    2020-03-12             0.0     0.0            0.0  ...   \n",
       "dc2838    2020-03-12             0.0     1.0            0.0  ...   \n",
       "dc2997    2020-03-12             1.0     0.0            0.0  ...   \n",
       "          2020-03-12             1.0     0.0            0.0  ...   \n",
       "          2020-03-12             1.0     0.0            0.0  ...   \n",
       "\n",
       "                           violaciones_hist_criticas  \\\n",
       "center_id inspection_date                              \n",
       "dc1643    2020-03-12                            16.0   \n",
       "dc2838    2020-03-12                             8.0   \n",
       "dc2997    2020-03-12                             3.0   \n",
       "          2020-03-12                             3.0   \n",
       "          2020-03-12                             3.0   \n",
       "\n",
       "                           violaciones_2019_criticas  ratio_violaciones_hist  \\\n",
       "center_id inspection_date                                                      \n",
       "dc1643    2020-03-12                             3.0                0.521739   \n",
       "dc2838    2020-03-12                             3.0                0.555556   \n",
       "dc2997    2020-03-12                             0.0                0.133333   \n",
       "          2020-03-12                             0.0                0.133333   \n",
       "          2020-03-12                             0.0                0.133333   \n",
       "\n",
       "                           ratio_violaciones_2019  \\\n",
       "center_id inspection_date                           \n",
       "dc1643    2020-03-12                     0.000000   \n",
       "dc2838    2020-03-12                     0.444444   \n",
       "dc2997    2020-03-12                     0.000000   \n",
       "          2020-03-12                     0.000000   \n",
       "          2020-03-12                     0.000000   \n",
       "\n",
       "                           prom_violaciones_hist_borough  \\\n",
       "center_id inspection_date                                  \n",
       "dc1643    2020-03-12                            0.713809   \n",
       "dc2838    2020-03-12                            0.620931   \n",
       "dc2997    2020-03-12                            0.587783   \n",
       "          2020-03-12                            0.587783   \n",
       "          2020-03-12                            0.587783   \n",
       "\n",
       "                           prom_violaciones_2019_borough  \\\n",
       "center_id inspection_date                                  \n",
       "dc1643    2020-03-12                            0.678596   \n",
       "dc2838    2020-03-12                            0.574044   \n",
       "dc2997    2020-03-12                            0.545004   \n",
       "          2020-03-12                            0.545004   \n",
       "          2020-03-12                            0.545004   \n",
       "\n",
       "                           ratio_violaciones_hist_sp  \\\n",
       "center_id inspection_date                              \n",
       "dc1643    2020-03-12                        0.043478   \n",
       "dc2838    2020-03-12                        0.142857   \n",
       "dc2997    2020-03-12                        0.250000   \n",
       "          2020-03-12                        0.250000   \n",
       "          2020-03-12                        0.250000   \n",
       "\n",
       "                           ratio_violaciones_2019_sp  \\\n",
       "center_id inspection_date                              \n",
       "dc1643    2020-03-12                             0.0   \n",
       "dc2838    2020-03-12                             0.2   \n",
       "dc2997    2020-03-12                             0.0   \n",
       "          2020-03-12                             0.0   \n",
       "          2020-03-12                             0.0   \n",
       "\n",
       "                           ratio_violaciones_hist_criticas  \\\n",
       "center_id inspection_date                                    \n",
       "dc1643    2020-03-12                              0.478261   \n",
       "dc2838    2020-03-12                              0.571429   \n",
       "dc2997    2020-03-12                              0.250000   \n",
       "          2020-03-12                              0.250000   \n",
       "          2020-03-12                              0.250000   \n",
       "\n",
       "                           ratio_violaciones_2019_criticas  \n",
       "center_id inspection_date                                   \n",
       "dc1643    2020-03-12                                   0.0  \n",
       "dc2838    2020-03-12                                   0.6  \n",
       "dc2997    2020-03-12                                   0.0  \n",
       "          2020-03-12                                   0.0  \n",
       "          2020-03-12                                   0.0  \n",
       "\n",
       "[5 rows x 48 columns]"
      ]
     },
     "execution_count": 174,
     "metadata": {},
     "output_type": "execute_result"
    }
   ],
   "source": [
    "df_class_0_over = df_class_0.sample(count_class_1, replace=True)\n",
    "df_test_over = pd.concat([df_class_1, df_class_0_over], axis=0)\n",
    "df_test_over.head()"
   ]
  },
  {
   "cell_type": "code",
   "execution_count": 175,
   "metadata": {},
   "outputs": [
    {
     "name": "stdout",
     "output_type": "stream",
     "text": [
      "Random over-sampling:\n",
      "1    3396\n",
      "0    3396\n",
      "Name: public_hazard, dtype: int64\n"
     ]
    },
    {
     "data": {
      "image/png": "[encoded data removed]",
      "text/plain": [
       "<Figure size 432x288 with 1 Axes>"
      ]
     },
     "metadata": {
      "needs_background": "light"
     },
     "output_type": "display_data"
    }
   ],
   "source": [
    "print('Random over-sampling:')\n",
    "print(df_test_over.public_hazard.value_counts())\n",
    "\n",
    "df_test_over.public_hazard.value_counts().plot(kind='bar', title='Count (public_hazard)');"
   ]
  },
  {
   "cell_type": "code",
   "execution_count": 176,
   "metadata": {},
   "outputs": [],
   "source": [
    "df_train = df_test_over.loc[df_test_over['inspection_year'] != 2020] "
   ]
  },
  {
   "cell_type": "code",
   "execution_count": 177,
   "metadata": {},
   "outputs": [],
   "source": [
    "df_test = df_test_over.loc[df_test_over['inspection_year'] == 2020]"
   ]
  },
  {
   "cell_type": "code",
   "execution_count": 178,
   "metadata": {},
   "outputs": [],
   "source": [
    "Y_train = df_train[['public_hazard']]"
   ]
  },
  {
   "cell_type": "code",
   "execution_count": 179,
   "metadata": {},
   "outputs": [],
   "source": [
    "Y_test = df_test[['public_hazard']]"
   ]
  },
  {
   "cell_type": "code",
   "execution_count": 180,
   "metadata": {},
   "outputs": [],
   "source": [
    "X_train = df_train[[i for i in df_train.keys() if i not in Y_train]]"
   ]
  },
  {
   "cell_type": "code",
   "execution_count": 181,
   "metadata": {},
   "outputs": [],
   "source": [
    "X_test = df_test[[i for i in df_test.keys() if i not in Y_test]]"
   ]
  },
  {
   "cell_type": "code",
   "execution_count": 182,
   "metadata": {},
   "outputs": [],
   "source": [
    "import sklearn as sk\n",
    "from sklearn import preprocessing\n",
    "from sklearn.ensemble import RandomForestClassifier\n",
    "from sklearn import metrics\n",
    "from sklearn.metrics import mean_squared_error"
   ]
  },
  {
   "cell_type": "code",
   "execution_count": 183,
   "metadata": {},
   "outputs": [
    {
     "data": {
      "text/plain": [
       "RandomForestClassifier(bootstrap=True, class_weight='balanced',\n",
       "                       criterion='gini', max_depth=8, max_features='auto',\n",
       "                       max_leaf_nodes=None, min_impurity_decrease=0.0,\n",
       "                       min_impurity_split=None, min_samples_leaf=1,\n",
       "                       min_samples_split=2, min_weight_fraction_leaf=0.0,\n",
       "                       n_estimators=600, n_jobs=None, oob_score=False,\n",
       "                       random_state=None, verbose=0, warm_start=False)"
      ]
     },
     "execution_count": 183,
     "metadata": {},
     "output_type": "execute_result"
    }
   ],
   "source": [
    "np.random.seed(0)\n",
    "rforest = RandomForestClassifier(n_estimators=600, class_weight=\"balanced\", max_depth=8, criterion='gini')\n",
    "rforest.fit(X_train,Y_train.values.ravel())"
   ]
  },
  {
   "cell_type": "code",
   "execution_count": 184,
   "metadata": {},
   "outputs": [],
   "source": [
    "Y_pred = rforest.predict(X_test)"
   ]
  },
  {
   "cell_type": "code",
   "execution_count": 185,
   "metadata": {},
   "outputs": [
    {
     "name": "stdout",
     "output_type": "stream",
     "text": [
      "Accuracy: 0.734\n",
      "Precision: 0.752923782311117\n",
      "Recall: 0.7460606060606061\n"
     ]
    }
   ],
   "source": [
    "print(\"Accuracy:\",metrics.accuracy_score(Y_test, Y_pred))\n",
    "print(\"Precision:\",metrics.precision_score(Y_test, Y_pred, average='macro'))\n",
    "print(\"Recall:\",metrics.recall_score(Y_test, Y_pred, average='macro'))"
   ]
  },
  {
   "cell_type": "code",
   "execution_count": 186,
   "metadata": {},
   "outputs": [
    {
     "name": "stdout",
     "output_type": "stream",
     "text": [
      "Mean squared error: 0.27\n"
     ]
    }
   ],
   "source": [
    "print(\"Mean squared error: %.2f\" % mean_squared_error(Y_test, Y_pred))"
   ]
  },
  {
   "cell_type": "code",
   "execution_count": 187,
   "metadata": {},
   "outputs": [],
   "source": [
    "rforest_matrix=metrics.confusion_matrix(Y_test,Y_pred)"
   ]
  },
  {
   "cell_type": "code",
   "execution_count": 188,
   "metadata": {},
   "outputs": [
    {
     "data": {
      "text/html": [
       "<div>\n",
       "<style scoped>\n",
       "    .dataframe tbody tr th:only-of-type {\n",
       "        vertical-align: middle;\n",
       "    }\n",
       "\n",
       "    .dataframe tbody tr th {\n",
       "        vertical-align: top;\n",
       "    }\n",
       "\n",
       "    .dataframe thead th {\n",
       "        text-align: right;\n",
       "    }\n",
       "</style>\n",
       "<table border=\"1\" class=\"dataframe\">\n",
       "  <thead>\n",
       "    <tr style=\"text-align: right;\">\n",
       "      <th></th>\n",
       "      <th>0</th>\n",
       "      <th>1</th>\n",
       "    </tr>\n",
       "  </thead>\n",
       "  <tbody>\n",
       "    <tr>\n",
       "      <th>0</th>\n",
       "      <td>195</td>\n",
       "      <td>30</td>\n",
       "    </tr>\n",
       "    <tr>\n",
       "      <th>1</th>\n",
       "      <td>103</td>\n",
       "      <td>172</td>\n",
       "    </tr>\n",
       "  </tbody>\n",
       "</table>\n",
       "</div>"
      ],
      "text/plain": [
       "     0    1\n",
       "0  195   30\n",
       "1  103  172"
      ]
     },
     "execution_count": 188,
     "metadata": {},
     "output_type": "execute_result"
    }
   ],
   "source": [
    "pd.DataFrame(rforest_matrix)"
   ]
  },
  {
   "cell_type": "code",
   "execution_count": 189,
   "metadata": {},
   "outputs": [
    {
     "data": {
      "text/plain": [
       "Text(0.5, 257.44, 'Predicted label')"
      ]
     },
     "execution_count": 189,
     "metadata": {},
     "output_type": "execute_result"
    },
    {
     "data": {
      "image/png": "[encoded data removed]",
      "text/plain": [
       "<Figure size 432x288 with 2 Axes>"
      ]
     },
     "metadata": {
      "needs_background": "light"
     },
     "output_type": "display_data"
    }
   ],
   "source": [
    "class_names=[0,1] \n",
    "fig, ax = plt.subplots()\n",
    "tick_marks = np.arange(len(class_names))\n",
    "plt.xticks(tick_marks, class_names)\n",
    "plt.yticks(tick_marks, class_names)\n",
    "sns.heatmap(pd.DataFrame(rforest_matrix), annot=True, cmap=\"YlGnBu\" ,fmt='g')\n",
    "ax.xaxis.set_label_position(\"top\")\n",
    "plt.tight_layout()\n",
    "plt.title('Confusion matrix', y=1.1)\n",
    "plt.ylabel('Actual label')\n",
    "plt.xlabel('Predicted label')"
   ]
  },
  {
   "cell_type": "code",
   "execution_count": 190,
   "metadata": {},
   "outputs": [
    {
     "data": {
      "text/html": [
       "<div>\n",
       "<style scoped>\n",
       "    .dataframe tbody tr th:only-of-type {\n",
       "        vertical-align: middle;\n",
       "    }\n",
       "\n",
       "    .dataframe tbody tr th {\n",
       "        vertical-align: top;\n",
       "    }\n",
       "\n",
       "    .dataframe thead th {\n",
       "        text-align: right;\n",
       "    }\n",
       "</style>\n",
       "<table border=\"1\" class=\"dataframe\">\n",
       "  <thead>\n",
       "    <tr style=\"text-align: right;\">\n",
       "      <th></th>\n",
       "      <th>features</th>\n",
       "      <th>importance</th>\n",
       "    </tr>\n",
       "  </thead>\n",
       "  <tbody>\n",
       "    <tr>\n",
       "      <th>33</th>\n",
       "      <td>violation</td>\n",
       "      <td>0.191263</td>\n",
       "    </tr>\n",
       "    <tr>\n",
       "      <th>34</th>\n",
       "      <td>violaciones_hist_salud_publica</td>\n",
       "      <td>0.141880</td>\n",
       "    </tr>\n",
       "    <tr>\n",
       "      <th>36</th>\n",
       "      <td>violation_critical</td>\n",
       "      <td>0.118787</td>\n",
       "    </tr>\n",
       "    <tr>\n",
       "      <th>28</th>\n",
       "      <td>result_1_reinspection_required</td>\n",
       "      <td>0.110555</td>\n",
       "    </tr>\n",
       "    <tr>\n",
       "      <th>43</th>\n",
       "      <td>ratio_violaciones_hist_sp</td>\n",
       "      <td>0.066485</td>\n",
       "    </tr>\n",
       "    <tr>\n",
       "      <th>3</th>\n",
       "      <td>public_health_hazard_violation_rate</td>\n",
       "      <td>0.051476</td>\n",
       "    </tr>\n",
       "    <tr>\n",
       "      <th>29</th>\n",
       "      <td>result_2_fines_pending</td>\n",
       "      <td>0.046208</td>\n",
       "    </tr>\n",
       "    <tr>\n",
       "      <th>24</th>\n",
       "      <td>result_1_passed_inspection_with_no_violations</td>\n",
       "      <td>0.029731</td>\n",
       "    </tr>\n",
       "    <tr>\n",
       "      <th>32</th>\n",
       "      <td>inspection_year</td>\n",
       "      <td>0.028401</td>\n",
       "    </tr>\n",
       "    <tr>\n",
       "      <th>39</th>\n",
       "      <td>ratio_violaciones_hist</td>\n",
       "      <td>0.027112</td>\n",
       "    </tr>\n",
       "    <tr>\n",
       "      <th>1</th>\n",
       "      <td>violation_rate_percent</td>\n",
       "      <td>0.022764</td>\n",
       "    </tr>\n",
       "    <tr>\n",
       "      <th>35</th>\n",
       "      <td>violaciones_2019_salud_publica</td>\n",
       "      <td>0.019597</td>\n",
       "    </tr>\n",
       "    <tr>\n",
       "      <th>21</th>\n",
       "      <td>initial_annual_inspection</td>\n",
       "      <td>0.019250</td>\n",
       "    </tr>\n",
       "    <tr>\n",
       "      <th>41</th>\n",
       "      <td>prom_violaciones_hist_borough</td>\n",
       "      <td>0.016736</td>\n",
       "    </tr>\n",
       "    <tr>\n",
       "      <th>27</th>\n",
       "      <td>result_1_reinspection_not_required</td>\n",
       "      <td>0.014802</td>\n",
       "    </tr>\n",
       "    <tr>\n",
       "      <th>42</th>\n",
       "      <td>prom_violaciones_2019_borough</td>\n",
       "      <td>0.012465</td>\n",
       "    </tr>\n",
       "    <tr>\n",
       "      <th>37</th>\n",
       "      <td>violaciones_hist_criticas</td>\n",
       "      <td>0.012272</td>\n",
       "    </tr>\n",
       "    <tr>\n",
       "      <th>45</th>\n",
       "      <td>ratio_violaciones_hist_criticas</td>\n",
       "      <td>0.009246</td>\n",
       "    </tr>\n",
       "    <tr>\n",
       "      <th>2</th>\n",
       "      <td>total_educational_workers</td>\n",
       "      <td>0.008258</td>\n",
       "    </tr>\n",
       "    <tr>\n",
       "      <th>4</th>\n",
       "      <td>critical_violation_rate</td>\n",
       "      <td>0.006874</td>\n",
       "    </tr>\n",
       "    <tr>\n",
       "      <th>22</th>\n",
       "      <td>result_1_None</td>\n",
       "      <td>0.006228</td>\n",
       "    </tr>\n",
       "    <tr>\n",
       "      <th>0</th>\n",
       "      <td>maximum_capacity</td>\n",
       "      <td>0.005626</td>\n",
       "    </tr>\n",
       "    <tr>\n",
       "      <th>25</th>\n",
       "      <td>result_1_previously_cited_violations_corrected</td>\n",
       "      <td>0.005554</td>\n",
       "    </tr>\n",
       "    <tr>\n",
       "      <th>44</th>\n",
       "      <td>ratio_violaciones_2019_sp</td>\n",
       "      <td>0.005489</td>\n",
       "    </tr>\n",
       "    <tr>\n",
       "      <th>31</th>\n",
       "      <td>result_2_violations_corrected_at_time_of_inspe...</td>\n",
       "      <td>0.005459</td>\n",
       "    </tr>\n",
       "    <tr>\n",
       "      <th>38</th>\n",
       "      <td>violaciones_2019_criticas</td>\n",
       "      <td>0.003369</td>\n",
       "    </tr>\n",
       "    <tr>\n",
       "      <th>40</th>\n",
       "      <td>ratio_violaciones_2019</td>\n",
       "      <td>0.003108</td>\n",
       "    </tr>\n",
       "    <tr>\n",
       "      <th>46</th>\n",
       "      <td>ratio_violaciones_2019_criticas</td>\n",
       "      <td>0.001881</td>\n",
       "    </tr>\n",
       "    <tr>\n",
       "      <th>30</th>\n",
       "      <td>result_2_program_closed</td>\n",
       "      <td>0.001241</td>\n",
       "    </tr>\n",
       "    <tr>\n",
       "      <th>5</th>\n",
       "      <td>bronx</td>\n",
       "      <td>0.000981</td>\n",
       "    </tr>\n",
       "    <tr>\n",
       "      <th>12</th>\n",
       "      <td>status_permitted</td>\n",
       "      <td>0.000674</td>\n",
       "    </tr>\n",
       "    <tr>\n",
       "      <th>15</th>\n",
       "      <td>program_type_preschool</td>\n",
       "      <td>0.000650</td>\n",
       "    </tr>\n",
       "    <tr>\n",
       "      <th>11</th>\n",
       "      <td>status_expired-in_renewal</td>\n",
       "      <td>0.000626</td>\n",
       "    </tr>\n",
       "    <tr>\n",
       "      <th>8</th>\n",
       "      <td>queens</td>\n",
       "      <td>0.000555</td>\n",
       "    </tr>\n",
       "    <tr>\n",
       "      <th>6</th>\n",
       "      <td>brooklyn</td>\n",
       "      <td>0.000549</td>\n",
       "    </tr>\n",
       "    <tr>\n",
       "      <th>19</th>\n",
       "      <td>facility_type_gdc</td>\n",
       "      <td>0.000548</td>\n",
       "    </tr>\n",
       "    <tr>\n",
       "      <th>7</th>\n",
       "      <td>manhattan</td>\n",
       "      <td>0.000520</td>\n",
       "    </tr>\n",
       "    <tr>\n",
       "      <th>14</th>\n",
       "      <td>program_type_infant_toddler</td>\n",
       "      <td>0.000512</td>\n",
       "    </tr>\n",
       "    <tr>\n",
       "      <th>13</th>\n",
       "      <td>program_type_all_age_camp</td>\n",
       "      <td>0.000494</td>\n",
       "    </tr>\n",
       "    <tr>\n",
       "      <th>18</th>\n",
       "      <td>facility_type_camp</td>\n",
       "      <td>0.000411</td>\n",
       "    </tr>\n",
       "    <tr>\n",
       "      <th>10</th>\n",
       "      <td>status_active</td>\n",
       "      <td>0.000407</td>\n",
       "    </tr>\n",
       "    <tr>\n",
       "      <th>20</th>\n",
       "      <td>facility_type_sbcc</td>\n",
       "      <td>0.000391</td>\n",
       "    </tr>\n",
       "    <tr>\n",
       "      <th>23</th>\n",
       "      <td>result_1_passed_inspection</td>\n",
       "      <td>0.000275</td>\n",
       "    </tr>\n",
       "    <tr>\n",
       "      <th>9</th>\n",
       "      <td>staten_island</td>\n",
       "      <td>0.000243</td>\n",
       "    </tr>\n",
       "    <tr>\n",
       "      <th>26</th>\n",
       "      <td>result_1_previously_closed_program_re-opened</td>\n",
       "      <td>0.000046</td>\n",
       "    </tr>\n",
       "    <tr>\n",
       "      <th>17</th>\n",
       "      <td>program_type_school_age_camp</td>\n",
       "      <td>0.000003</td>\n",
       "    </tr>\n",
       "    <tr>\n",
       "      <th>16</th>\n",
       "      <td>program_type_preschool_camp</td>\n",
       "      <td>0.000000</td>\n",
       "    </tr>\n",
       "  </tbody>\n",
       "</table>\n",
       "</div>"
      ],
      "text/plain": [
       "                                             features  importance\n",
       "33                                          violation    0.191263\n",
       "34                     violaciones_hist_salud_publica    0.141880\n",
       "36                                 violation_critical    0.118787\n",
       "28                     result_1_reinspection_required    0.110555\n",
       "43                          ratio_violaciones_hist_sp    0.066485\n",
       "3                 public_health_hazard_violation_rate    0.051476\n",
       "29                             result_2_fines_pending    0.046208\n",
       "24      result_1_passed_inspection_with_no_violations    0.029731\n",
       "32                                    inspection_year    0.028401\n",
       "39                             ratio_violaciones_hist    0.027112\n",
       "1                              violation_rate_percent    0.022764\n",
       "35                     violaciones_2019_salud_publica    0.019597\n",
       "21                          initial_annual_inspection    0.019250\n",
       "41                      prom_violaciones_hist_borough    0.016736\n",
       "27                 result_1_reinspection_not_required    0.014802\n",
       "42                      prom_violaciones_2019_borough    0.012465\n",
       "37                          violaciones_hist_criticas    0.012272\n",
       "45                    ratio_violaciones_hist_criticas    0.009246\n",
       "2                           total_educational_workers    0.008258\n",
       "4                             critical_violation_rate    0.006874\n",
       "22                                      result_1_None    0.006228\n",
       "0                                    maximum_capacity    0.005626\n",
       "25     result_1_previously_cited_violations_corrected    0.005554\n",
       "44                          ratio_violaciones_2019_sp    0.005489\n",
       "31  result_2_violations_corrected_at_time_of_inspe...    0.005459\n",
       "38                          violaciones_2019_criticas    0.003369\n",
       "40                             ratio_violaciones_2019    0.003108\n",
       "46                    ratio_violaciones_2019_criticas    0.001881\n",
       "30                            result_2_program_closed    0.001241\n",
       "5                                               bronx    0.000981\n",
       "12                                   status_permitted    0.000674\n",
       "15                             program_type_preschool    0.000650\n",
       "11                          status_expired-in_renewal    0.000626\n",
       "8                                              queens    0.000555\n",
       "6                                            brooklyn    0.000549\n",
       "19                                  facility_type_gdc    0.000548\n",
       "7                                           manhattan    0.000520\n",
       "14                        program_type_infant_toddler    0.000512\n",
       "13                          program_type_all_age_camp    0.000494\n",
       "18                                 facility_type_camp    0.000411\n",
       "10                                      status_active    0.000407\n",
       "20                                 facility_type_sbcc    0.000391\n",
       "23                         result_1_passed_inspection    0.000275\n",
       "9                                       staten_island    0.000243\n",
       "26       result_1_previously_closed_program_re-opened    0.000046\n",
       "17                       program_type_school_age_camp    0.000003\n",
       "16                        program_type_preschool_camp    0.000000"
      ]
     },
     "execution_count": 190,
     "metadata": {},
     "output_type": "execute_result"
    }
   ],
   "source": [
    "feature_importance_frame = pd.DataFrame()\n",
    "feature_importance_frame['features'] = list(X_train.keys())\n",
    "feature_importance_frame['importance'] = list(rforest.feature_importances_)\n",
    "feature_importance_frame = feature_importance_frame.sort_values(\n",
    "        'importance', ascending=False)\n",
    "feature_importance_frame"
   ]
  },
  {
   "cell_type": "markdown",
   "metadata": {},
   "source": [
    "Modelo XGBoost"
   ]
  },
  {
   "cell_type": "code",
   "execution_count": 191,
   "metadata": {},
   "outputs": [],
   "source": [
    "import xgboost as xgb\n",
    "from xgboost import XGBClassifier\n",
    "from sklearn.metrics import accuracy_score\n",
    "from collections import Counter\n",
    "from sklearn.datasets import make_classification\n",
    "import multiprocessing"
   ]
  },
  {
   "cell_type": "code",
   "execution_count": 192,
   "metadata": {},
   "outputs": [],
   "source": [
    "xg_clas = xgb.XGBClassifier(n_estimators=500, max_depth=3, learning_rate=0.01, subsample=1, objective='binary:logistic', booster='gbtree', n_jobs=1, nthread=multiprocessing.cpu_count())"
   ]
  },
  {
   "cell_type": "code",
   "execution_count": 193,
   "metadata": {},
   "outputs": [
    {
     "name": "stderr",
     "output_type": "stream",
     "text": [
      "C:\\Users\\Elizabeth\\Anaconda3\\lib\\site-packages\\sklearn\\preprocessing\\label.py:219: DataConversionWarning: A column-vector y was passed when a 1d array was expected. Please change the shape of y to (n_samples, ), for example using ravel().\n",
      "  y = column_or_1d(y, warn=True)\n",
      "C:\\Users\\Elizabeth\\Anaconda3\\lib\\site-packages\\sklearn\\preprocessing\\label.py:252: DataConversionWarning: A column-vector y was passed when a 1d array was expected. Please change the shape of y to (n_samples, ), for example using ravel().\n",
      "  y = column_or_1d(y, warn=True)\n"
     ]
    },
    {
     "data": {
      "text/plain": [
       "XGBClassifier(base_score=0.5, booster='gbtree', colsample_bylevel=1,\n",
       "              colsample_bynode=1, colsample_bytree=1, gamma=0, gpu_id=-1,\n",
       "              importance_type='gain', interaction_constraints=None,\n",
       "              learning_rate=0.01, max_delta_step=0, max_depth=3,\n",
       "              min_child_weight=1, missing=nan, monotone_constraints=None,\n",
       "              n_estimators=500, n_jobs=1, nthread=12, num_parallel_tree=1,\n",
       "              objective='binary:logistic', random_state=0, reg_alpha=0,\n",
       "              reg_lambda=1, scale_pos_weight=1, subsample=1, tree_method=None,\n",
       "              validate_parameters=False, verbosity=None)"
      ]
     },
     "execution_count": 193,
     "metadata": {},
     "output_type": "execute_result"
    }
   ],
   "source": [
    "xg_clas.fit(X_train, Y_train)"
   ]
  },
  {
   "cell_type": "code",
   "execution_count": 194,
   "metadata": {},
   "outputs": [],
   "source": [
    "Y_p = xg_clas.predict(X_test)"
   ]
  },
  {
   "cell_type": "code",
   "execution_count": 195,
   "metadata": {},
   "outputs": [
    {
     "name": "stdout",
     "output_type": "stream",
     "text": [
      "RMSE: 0.521536\n"
     ]
    }
   ],
   "source": [
    "rmse = np.sqrt(mean_squared_error(Y_test, Y_p))\n",
    "print(\"RMSE: %f\" % (rmse))"
   ]
  },
  {
   "cell_type": "code",
   "execution_count": 196,
   "metadata": {},
   "outputs": [
    {
     "name": "stdout",
     "output_type": "stream",
     "text": [
      "Mean squared error: 0.27\n"
     ]
    }
   ],
   "source": [
    "print(\"Mean squared error: %.2f\" % mean_squared_error(Y_test, Y_p))"
   ]
  },
  {
   "cell_type": "code",
   "execution_count": 197,
   "metadata": {},
   "outputs": [],
   "source": [
    "cnf_matrix = metrics.confusion_matrix(Y_test, Y_p)"
   ]
  },
  {
   "cell_type": "code",
   "execution_count": 198,
   "metadata": {},
   "outputs": [
    {
     "data": {
      "text/html": [
       "<div>\n",
       "<style scoped>\n",
       "    .dataframe tbody tr th:only-of-type {\n",
       "        vertical-align: middle;\n",
       "    }\n",
       "\n",
       "    .dataframe tbody tr th {\n",
       "        vertical-align: top;\n",
       "    }\n",
       "\n",
       "    .dataframe thead th {\n",
       "        text-align: right;\n",
       "    }\n",
       "</style>\n",
       "<table border=\"1\" class=\"dataframe\">\n",
       "  <thead>\n",
       "    <tr style=\"text-align: right;\">\n",
       "      <th></th>\n",
       "      <th>0</th>\n",
       "      <th>1</th>\n",
       "    </tr>\n",
       "  </thead>\n",
       "  <tbody>\n",
       "    <tr>\n",
       "      <th>0</th>\n",
       "      <td>187</td>\n",
       "      <td>38</td>\n",
       "    </tr>\n",
       "    <tr>\n",
       "      <th>1</th>\n",
       "      <td>98</td>\n",
       "      <td>177</td>\n",
       "    </tr>\n",
       "  </tbody>\n",
       "</table>\n",
       "</div>"
      ],
      "text/plain": [
       "     0    1\n",
       "0  187   38\n",
       "1   98  177"
      ]
     },
     "execution_count": 198,
     "metadata": {},
     "output_type": "execute_result"
    }
   ],
   "source": [
    "pd.DataFrame(cnf_matrix)"
   ]
  },
  {
   "cell_type": "code",
   "execution_count": 199,
   "metadata": {},
   "outputs": [
    {
     "data": {
      "text/plain": [
       "Text(0.5, 257.44, 'Predicted label')"
      ]
     },
     "execution_count": 199,
     "metadata": {},
     "output_type": "execute_result"
    },
    {
     "data": {
      "image/png": "[encoded data removed]",
      "text/plain": [
       "<Figure size 432x288 with 2 Axes>"
      ]
     },
     "metadata": {
      "needs_background": "light"
     },
     "output_type": "display_data"
    }
   ],
   "source": [
    "class_names=[0,1] \n",
    "fig, ax = plt.subplots()\n",
    "tick_marks = np.arange(len(class_names))\n",
    "plt.xticks(tick_marks, class_names)\n",
    "plt.yticks(tick_marks, class_names)\n",
    "sns.heatmap(pd.DataFrame(cnf_matrix), annot=True, cmap=\"YlGnBu\" ,fmt='g')\n",
    "ax.xaxis.set_label_position(\"top\")\n",
    "plt.tight_layout()\n",
    "plt.title('Confusion matrix', y=1.1)\n",
    "plt.ylabel('Actual label')\n",
    "plt.xlabel('Predicted label')"
   ]
  },
  {
   "cell_type": "code",
   "execution_count": 200,
   "metadata": {},
   "outputs": [
    {
     "data": {
      "text/html": [
       "<div>\n",
       "<style scoped>\n",
       "    .dataframe tbody tr th:only-of-type {\n",
       "        vertical-align: middle;\n",
       "    }\n",
       "\n",
       "    .dataframe tbody tr th {\n",
       "        vertical-align: top;\n",
       "    }\n",
       "\n",
       "    .dataframe thead th {\n",
       "        text-align: right;\n",
       "    }\n",
       "</style>\n",
       "<table border=\"1\" class=\"dataframe\">\n",
       "  <thead>\n",
       "    <tr style=\"text-align: right;\">\n",
       "      <th></th>\n",
       "      <th>features</th>\n",
       "      <th>importance</th>\n",
       "    </tr>\n",
       "  </thead>\n",
       "  <tbody>\n",
       "    <tr>\n",
       "      <th>33</th>\n",
       "      <td>violation</td>\n",
       "      <td>0.348877</td>\n",
       "    </tr>\n",
       "    <tr>\n",
       "      <th>36</th>\n",
       "      <td>violation_critical</td>\n",
       "      <td>0.152614</td>\n",
       "    </tr>\n",
       "    <tr>\n",
       "      <th>27</th>\n",
       "      <td>result_1_reinspection_not_required</td>\n",
       "      <td>0.134326</td>\n",
       "    </tr>\n",
       "    <tr>\n",
       "      <th>28</th>\n",
       "      <td>result_1_reinspection_required</td>\n",
       "      <td>0.129779</td>\n",
       "    </tr>\n",
       "    <tr>\n",
       "      <th>34</th>\n",
       "      <td>violaciones_hist_salud_publica</td>\n",
       "      <td>0.106185</td>\n",
       "    </tr>\n",
       "    <tr>\n",
       "      <th>21</th>\n",
       "      <td>initial_annual_inspection</td>\n",
       "      <td>0.041201</td>\n",
       "    </tr>\n",
       "    <tr>\n",
       "      <th>35</th>\n",
       "      <td>violaciones_2019_salud_publica</td>\n",
       "      <td>0.019655</td>\n",
       "    </tr>\n",
       "    <tr>\n",
       "      <th>43</th>\n",
       "      <td>ratio_violaciones_hist_sp</td>\n",
       "      <td>0.019037</td>\n",
       "    </tr>\n",
       "    <tr>\n",
       "      <th>22</th>\n",
       "      <td>result_1_None</td>\n",
       "      <td>0.017556</td>\n",
       "    </tr>\n",
       "    <tr>\n",
       "      <th>39</th>\n",
       "      <td>ratio_violaciones_hist</td>\n",
       "      <td>0.008570</td>\n",
       "    </tr>\n",
       "    <tr>\n",
       "      <th>32</th>\n",
       "      <td>inspection_year</td>\n",
       "      <td>0.006826</td>\n",
       "    </tr>\n",
       "    <tr>\n",
       "      <th>5</th>\n",
       "      <td>bronx</td>\n",
       "      <td>0.005671</td>\n",
       "    </tr>\n",
       "    <tr>\n",
       "      <th>11</th>\n",
       "      <td>status_expired-in_renewal</td>\n",
       "      <td>0.005072</td>\n",
       "    </tr>\n",
       "    <tr>\n",
       "      <th>44</th>\n",
       "      <td>ratio_violaciones_2019_sp</td>\n",
       "      <td>0.004630</td>\n",
       "    </tr>\n",
       "    <tr>\n",
       "      <th>30</th>\n",
       "      <td>result_2_program_closed</td>\n",
       "      <td>0.000000</td>\n",
       "    </tr>\n",
       "    <tr>\n",
       "      <th>31</th>\n",
       "      <td>result_2_violations_corrected_at_time_of_inspe...</td>\n",
       "      <td>0.000000</td>\n",
       "    </tr>\n",
       "    <tr>\n",
       "      <th>29</th>\n",
       "      <td>result_2_fines_pending</td>\n",
       "      <td>0.000000</td>\n",
       "    </tr>\n",
       "    <tr>\n",
       "      <th>0</th>\n",
       "      <td>maximum_capacity</td>\n",
       "      <td>0.000000</td>\n",
       "    </tr>\n",
       "    <tr>\n",
       "      <th>26</th>\n",
       "      <td>result_1_previously_closed_program_re-opened</td>\n",
       "      <td>0.000000</td>\n",
       "    </tr>\n",
       "    <tr>\n",
       "      <th>38</th>\n",
       "      <td>violaciones_2019_criticas</td>\n",
       "      <td>0.000000</td>\n",
       "    </tr>\n",
       "    <tr>\n",
       "      <th>40</th>\n",
       "      <td>ratio_violaciones_2019</td>\n",
       "      <td>0.000000</td>\n",
       "    </tr>\n",
       "    <tr>\n",
       "      <th>41</th>\n",
       "      <td>prom_violaciones_hist_borough</td>\n",
       "      <td>0.000000</td>\n",
       "    </tr>\n",
       "    <tr>\n",
       "      <th>42</th>\n",
       "      <td>prom_violaciones_2019_borough</td>\n",
       "      <td>0.000000</td>\n",
       "    </tr>\n",
       "    <tr>\n",
       "      <th>45</th>\n",
       "      <td>ratio_violaciones_hist_criticas</td>\n",
       "      <td>0.000000</td>\n",
       "    </tr>\n",
       "    <tr>\n",
       "      <th>37</th>\n",
       "      <td>violaciones_hist_criticas</td>\n",
       "      <td>0.000000</td>\n",
       "    </tr>\n",
       "    <tr>\n",
       "      <th>23</th>\n",
       "      <td>result_1_passed_inspection</td>\n",
       "      <td>0.000000</td>\n",
       "    </tr>\n",
       "    <tr>\n",
       "      <th>25</th>\n",
       "      <td>result_1_previously_cited_violations_corrected</td>\n",
       "      <td>0.000000</td>\n",
       "    </tr>\n",
       "    <tr>\n",
       "      <th>12</th>\n",
       "      <td>status_permitted</td>\n",
       "      <td>0.000000</td>\n",
       "    </tr>\n",
       "    <tr>\n",
       "      <th>2</th>\n",
       "      <td>total_educational_workers</td>\n",
       "      <td>0.000000</td>\n",
       "    </tr>\n",
       "    <tr>\n",
       "      <th>3</th>\n",
       "      <td>public_health_hazard_violation_rate</td>\n",
       "      <td>0.000000</td>\n",
       "    </tr>\n",
       "    <tr>\n",
       "      <th>4</th>\n",
       "      <td>critical_violation_rate</td>\n",
       "      <td>0.000000</td>\n",
       "    </tr>\n",
       "    <tr>\n",
       "      <th>6</th>\n",
       "      <td>brooklyn</td>\n",
       "      <td>0.000000</td>\n",
       "    </tr>\n",
       "    <tr>\n",
       "      <th>7</th>\n",
       "      <td>manhattan</td>\n",
       "      <td>0.000000</td>\n",
       "    </tr>\n",
       "    <tr>\n",
       "      <th>8</th>\n",
       "      <td>queens</td>\n",
       "      <td>0.000000</td>\n",
       "    </tr>\n",
       "    <tr>\n",
       "      <th>9</th>\n",
       "      <td>staten_island</td>\n",
       "      <td>0.000000</td>\n",
       "    </tr>\n",
       "    <tr>\n",
       "      <th>10</th>\n",
       "      <td>status_active</td>\n",
       "      <td>0.000000</td>\n",
       "    </tr>\n",
       "    <tr>\n",
       "      <th>13</th>\n",
       "      <td>program_type_all_age_camp</td>\n",
       "      <td>0.000000</td>\n",
       "    </tr>\n",
       "    <tr>\n",
       "      <th>24</th>\n",
       "      <td>result_1_passed_inspection_with_no_violations</td>\n",
       "      <td>0.000000</td>\n",
       "    </tr>\n",
       "    <tr>\n",
       "      <th>14</th>\n",
       "      <td>program_type_infant_toddler</td>\n",
       "      <td>0.000000</td>\n",
       "    </tr>\n",
       "    <tr>\n",
       "      <th>15</th>\n",
       "      <td>program_type_preschool</td>\n",
       "      <td>0.000000</td>\n",
       "    </tr>\n",
       "    <tr>\n",
       "      <th>16</th>\n",
       "      <td>program_type_preschool_camp</td>\n",
       "      <td>0.000000</td>\n",
       "    </tr>\n",
       "    <tr>\n",
       "      <th>17</th>\n",
       "      <td>program_type_school_age_camp</td>\n",
       "      <td>0.000000</td>\n",
       "    </tr>\n",
       "    <tr>\n",
       "      <th>18</th>\n",
       "      <td>facility_type_camp</td>\n",
       "      <td>0.000000</td>\n",
       "    </tr>\n",
       "    <tr>\n",
       "      <th>19</th>\n",
       "      <td>facility_type_gdc</td>\n",
       "      <td>0.000000</td>\n",
       "    </tr>\n",
       "    <tr>\n",
       "      <th>20</th>\n",
       "      <td>facility_type_sbcc</td>\n",
       "      <td>0.000000</td>\n",
       "    </tr>\n",
       "    <tr>\n",
       "      <th>1</th>\n",
       "      <td>violation_rate_percent</td>\n",
       "      <td>0.000000</td>\n",
       "    </tr>\n",
       "    <tr>\n",
       "      <th>46</th>\n",
       "      <td>ratio_violaciones_2019_criticas</td>\n",
       "      <td>0.000000</td>\n",
       "    </tr>\n",
       "  </tbody>\n",
       "</table>\n",
       "</div>"
      ],
      "text/plain": [
       "                                             features  importance\n",
       "33                                          violation    0.348877\n",
       "36                                 violation_critical    0.152614\n",
       "27                 result_1_reinspection_not_required    0.134326\n",
       "28                     result_1_reinspection_required    0.129779\n",
       "34                     violaciones_hist_salud_publica    0.106185\n",
       "21                          initial_annual_inspection    0.041201\n",
       "35                     violaciones_2019_salud_publica    0.019655\n",
       "43                          ratio_violaciones_hist_sp    0.019037\n",
       "22                                      result_1_None    0.017556\n",
       "39                             ratio_violaciones_hist    0.008570\n",
       "32                                    inspection_year    0.006826\n",
       "5                                               bronx    0.005671\n",
       "11                          status_expired-in_renewal    0.005072\n",
       "44                          ratio_violaciones_2019_sp    0.004630\n",
       "30                            result_2_program_closed    0.000000\n",
       "31  result_2_violations_corrected_at_time_of_inspe...    0.000000\n",
       "29                             result_2_fines_pending    0.000000\n",
       "0                                    maximum_capacity    0.000000\n",
       "26       result_1_previously_closed_program_re-opened    0.000000\n",
       "38                          violaciones_2019_criticas    0.000000\n",
       "40                             ratio_violaciones_2019    0.000000\n",
       "41                      prom_violaciones_hist_borough    0.000000\n",
       "42                      prom_violaciones_2019_borough    0.000000\n",
       "45                    ratio_violaciones_hist_criticas    0.000000\n",
       "37                          violaciones_hist_criticas    0.000000\n",
       "23                         result_1_passed_inspection    0.000000\n",
       "25     result_1_previously_cited_violations_corrected    0.000000\n",
       "12                                   status_permitted    0.000000\n",
       "2                           total_educational_workers    0.000000\n",
       "3                 public_health_hazard_violation_rate    0.000000\n",
       "4                             critical_violation_rate    0.000000\n",
       "6                                            brooklyn    0.000000\n",
       "7                                           manhattan    0.000000\n",
       "8                                              queens    0.000000\n",
       "9                                       staten_island    0.000000\n",
       "10                                      status_active    0.000000\n",
       "13                          program_type_all_age_camp    0.000000\n",
       "24      result_1_passed_inspection_with_no_violations    0.000000\n",
       "14                        program_type_infant_toddler    0.000000\n",
       "15                             program_type_preschool    0.000000\n",
       "16                        program_type_preschool_camp    0.000000\n",
       "17                       program_type_school_age_camp    0.000000\n",
       "18                                 facility_type_camp    0.000000\n",
       "19                                  facility_type_gdc    0.000000\n",
       "20                                 facility_type_sbcc    0.000000\n",
       "1                              violation_rate_percent    0.000000\n",
       "46                    ratio_violaciones_2019_criticas    0.000000"
      ]
     },
     "execution_count": 200,
     "metadata": {},
     "output_type": "execute_result"
    }
   ],
   "source": [
    "feature_importance_frame = pd.DataFrame()\n",
    "feature_importance_frame['features'] = list(X_train.keys())\n",
    "feature_importance_frame['importance'] = list(xg_clas.feature_importances_)\n",
    "feature_importance_frame = feature_importance_frame.sort_values(\n",
    "        'importance', ascending=False)\n",
    "feature_importance_frame"
   ]
  }
 ],
 "metadata": {
  "kernelspec": {
   "display_name": "Python 3",
   "language": "python",
   "name": "python3"
  },
  "language_info": {
   "codemirror_mode": {
    "name": "ipython",
    "version": 3
   },
   "file_extension": ".py",
   "mimetype": "text/x-python",
   "name": "python",
   "nbconvert_exporter": "python",
   "pygments_lexer": "ipython3",
   "version": "3.7.3"
  }
 },
 "nbformat": 4,
 "nbformat_minor": 4
}
