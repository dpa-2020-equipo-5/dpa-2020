{
 "cells": [
  {
   "cell_type": "code",
   "execution_count": 1,
   "metadata": {},
   "outputs": [
    {
     "name": "stderr",
     "output_type": "stream",
     "text": [
      "/usr/local/lib/python3.7/site-packages/statsmodels/tools/_testing.py:19: FutureWarning: pandas.util.testing is deprecated. Use the functions in the public API at pandas.testing instead.\n",
      "  import pandas.util.testing as tm\n"
     ]
    }
   ],
   "source": [
    "from sqlalchemy import create_engine\n",
    "import configparser\n",
    "import pickle\n",
    "import pandas as pd\n",
    "from aequitas.group import Group\n",
    "from aequitas.bias import Bias\n",
    "from aequitas.fairness import Fairness\n",
    "from aequitas.plotting import Plot\n",
    "from numpy import arange"
   ]
  },
  {
   "cell_type": "code",
   "execution_count": 2,
   "metadata": {},
   "outputs": [],
   "source": [
    "config = configparser.ConfigParser()\n",
    "config.read_file(open('./settings_development.ini'))"
   ]
  },
  {
   "cell_type": "code",
   "execution_count": 3,
   "metadata": {},
   "outputs": [],
   "source": [
    "engine_string = \"postgresql+psycopg2://{user}:{password}@{host}:{port}/{database}\".format(\n",
    "    user = config.get('DATABASE','user'),\n",
    "    password = config.get('DATABASE','password'),\n",
    "    host = config.get('DATABASE','host'),\n",
    "    port = 5432,\n",
    "    database = config.get('DATABASE','database'),\n",
    ")\n",
    "engine = create_engine(engine_string)"
   ]
  },
  {
   "cell_type": "code",
   "execution_count": 4,
   "metadata": {},
   "outputs": [],
   "source": [
    "rforest = pickle.load(open( \"random_forest.pckl\", \"rb\"))"
   ]
  },
  {
   "cell_type": "code",
   "execution_count": 5,
   "metadata": {},
   "outputs": [],
   "source": [
    "tabla_3 = pd.read_sql_table('centers', engine, schema=\"transformed\")\n",
    "tabla_4 = pd.read_sql_table('inspections', engine, schema=\"transformed\")"
   ]
  },
  {
   "cell_type": "code",
   "execution_count": 6,
   "metadata": {},
   "outputs": [],
   "source": [
    "centros = tabla_3.copy()\n",
    "centros.rename(columns={\"dc_id\":\"center_id\"}, inplace=True)\n",
    "inspecciones = tabla_4.copy()\n",
    "last_inspections = inspecciones.sort_values(by=\"inspectiondate\").drop_duplicates(subset=[\"center_id\"], keep=\"last\")\n",
    "centros = centros.drop(['centername', 'legalname', 'building', 'street', 'zipcode', 'phone', 'permitnumber', 'permitexp', 'status',  'agerange', 'childcaretype', 'bin', 'url', 'datepermitted', 'actual','violationratepercent','violationavgratepercent', 'publichealthhazardviolationrate','averagepublichealthhazardiolationrate','criticalviolationrate','avgcriticalviolationrate'], axis=1)\n",
    "centros = centros.reset_index(drop=True)\n",
    "tabla_5 = pd.merge(last_inspections, centros)\n",
    "tabla_5.sort_values(['inspectiondate'], ascending=[False], inplace=True)\n",
    "tabla_5['maximumcapacity'] = tabla_5['maximumcapacity'].astype(int)\n",
    "\n",
    "tabla_5['totaleducationalworkers'] = tabla_5['totaleducationalworkers'].astype(int)\n",
    "\n",
    "tabla_5['totaleducationalworkers'] = tabla_5['totaleducationalworkers'].astype(int)\n",
    "\n",
    "tabla_5['averagetotaleducationalworkers'] = tabla_5['averagetotaleducationalworkers'].astype(float)\n",
    "\n",
    "tabla_5 = tabla_5.drop(['regulationsummary', 'healthcodesubsection', 'violationstatus', 'borough', 'reason', 'inspectiondate', 'violationcategory_nan'], axis=1)\n",
    "\n",
    "tabla_5 = tabla_5.set_index(['center_id'])\n",
    "tabla_5 = tabla_5.fillna(0)\n",
    "\n",
    "for col in tabla_5.select_dtypes(object):\n",
    "    tabla_5[col] = tabla_5[col].astype(float)\n",
    "\n",
    "tabla_5 = tabla_5.fillna(0)"
   ]
  },
  {
   "cell_type": "code",
   "execution_count": 7,
   "metadata": {},
   "outputs": [
    {
     "data": {
      "text/plain": [
       "0    2286\n",
       "1     668\n",
       "Name: borough_manhattan, dtype: int64"
      ]
     },
     "execution_count": 7,
     "metadata": {},
     "output_type": "execute_result"
    }
   ],
   "source": [
    "centros.borough_manhattan.value_counts()"
   ]
  },
  {
   "cell_type": "code",
   "execution_count": 8,
   "metadata": {},
   "outputs": [],
   "source": [
    "prds = rforest.predict(tabla_5.drop(['violationcategory_public_health_hazard'],axis=1))\n",
    "\n",
    "probas = rforest.predict_proba(tabla_5.drop(['violationcategory_public_health_hazard'],axis=1))\n",
    "\n",
    "res = pd.DataFrame({\n",
    "    \"center\":tabla_5.index,\n",
    "    \"etiqueta\":prds,\n",
    "    \"proba_0\":probas[:,0],\n",
    "    \"proba_1\":probas[:,1]\n",
    "})\n",
    "\n",
    "res.loc[res['proba_0'] > res['proba_1'], 'score'] = res['proba_0']\n",
    "res.loc[res['proba_0'] < res['proba_1'], 'score'] = res['proba_1']\n",
    "\n",
    "categorias_1 = [\"programtype_all_age_camp\",\"programtype_infant_toddler\",\"programtype_preschool\", \"programtype_preschool_camp\", \"programtype_school_age_camp\"]\n",
    "\n",
    "programtype = pd.get_dummies(centros[categorias_1]).idxmax(1)\n",
    "\n",
    "categorias_2 = [\"borough_bronx\",\"borough_brooklyn\",\"borough_manhattan\", \"borough_queens\", \"borough_staten_island\"]\n",
    "\n",
    "borough = pd.get_dummies(centros[categorias_2]).idxmax(1)\n",
    "\n",
    "ambas = pd.concat([borough, programtype], axis=1,)\n",
    "\n",
    "ambas = ambas.rename(columns={0:'borough', 1:'programtype'})\n",
    "\n",
    "centros = pd.concat([centros, ambas], axis=1)\n",
    "\n",
    "tabla = pd.merge(res, centros, left_on='center', right_on='center_id')\n",
    "\n",
    "tabla = tabla.loc[:, ['center', 'etiqueta', 'score', 'borough', 'programtype']]\n",
    "\n",
    "tabla =  tabla.rename(columns = {'etiqueta':'label_value'})\n",
    "\n",
    "tabla = tabla.set_index(['center'])\n"
   ]
  },
  {
   "cell_type": "code",
   "execution_count": 9,
   "metadata": {},
   "outputs": [
    {
     "name": "stdout",
     "output_type": "stream",
     "text": [
      "<class 'pandas.core.frame.DataFrame'>\n",
      "Index: 2938 entries, dc33957 to dc35851\n",
      "Data columns (total 4 columns):\n",
      " #   Column       Non-Null Count  Dtype  \n",
      "---  ------       --------------  -----  \n",
      " 0   label_value  2938 non-null   float64\n",
      " 1   score        2938 non-null   float64\n",
      " 2   borough      2938 non-null   object \n",
      " 3   programtype  2938 non-null   object \n",
      "dtypes: float64(2), object(2)\n",
      "memory usage: 114.8+ KB\n"
     ]
    }
   ],
   "source": [
    "tabla.info()"
   ]
  },
  {
   "cell_type": "code",
   "execution_count": 10,
   "metadata": {},
   "outputs": [
    {
     "data": {
      "text/html": [
       "<div>\n",
       "<style scoped>\n",
       "    .dataframe tbody tr th:only-of-type {\n",
       "        vertical-align: middle;\n",
       "    }\n",
       "\n",
       "    .dataframe tbody tr th {\n",
       "        vertical-align: top;\n",
       "    }\n",
       "\n",
       "    .dataframe thead th {\n",
       "        text-align: right;\n",
       "    }\n",
       "</style>\n",
       "<table border=\"1\" class=\"dataframe\">\n",
       "  <thead>\n",
       "    <tr style=\"text-align: right;\">\n",
       "      <th></th>\n",
       "      <th>label_value</th>\n",
       "      <th>score</th>\n",
       "      <th>borough</th>\n",
       "      <th>programtype</th>\n",
       "    </tr>\n",
       "    <tr>\n",
       "      <th>center</th>\n",
       "      <th></th>\n",
       "      <th></th>\n",
       "      <th></th>\n",
       "      <th></th>\n",
       "    </tr>\n",
       "  </thead>\n",
       "  <tbody>\n",
       "    <tr>\n",
       "      <th>dc33957</th>\n",
       "      <td>0.0</td>\n",
       "      <td>0.999619</td>\n",
       "      <td>borough_bronx_0</td>\n",
       "      <td>programtype_all_age_camp_0</td>\n",
       "    </tr>\n",
       "    <tr>\n",
       "      <th>dc37573</th>\n",
       "      <td>0.0</td>\n",
       "      <td>0.999147</td>\n",
       "      <td>borough_bronx_0</td>\n",
       "      <td>programtype_all_age_camp_0</td>\n",
       "    </tr>\n",
       "    <tr>\n",
       "      <th>dc14450</th>\n",
       "      <td>0.0</td>\n",
       "      <td>0.999629</td>\n",
       "      <td>borough_bronx_0</td>\n",
       "      <td>programtype_all_age_camp_0</td>\n",
       "    </tr>\n",
       "    <tr>\n",
       "      <th>dc3053</th>\n",
       "      <td>0.0</td>\n",
       "      <td>0.999992</td>\n",
       "      <td>borough_bronx_0</td>\n",
       "      <td>programtype_all_age_camp_0</td>\n",
       "    </tr>\n",
       "    <tr>\n",
       "      <th>dc25685</th>\n",
       "      <td>0.0</td>\n",
       "      <td>0.999619</td>\n",
       "      <td>borough_bronx_0</td>\n",
       "      <td>programtype_all_age_camp_0</td>\n",
       "    </tr>\n",
       "  </tbody>\n",
       "</table>\n",
       "</div>"
      ],
      "text/plain": [
       "         label_value     score          borough                 programtype\n",
       "center                                                                     \n",
       "dc33957          0.0  0.999619  borough_bronx_0  programtype_all_age_camp_0\n",
       "dc37573          0.0  0.999147  borough_bronx_0  programtype_all_age_camp_0\n",
       "dc14450          0.0  0.999629  borough_bronx_0  programtype_all_age_camp_0\n",
       "dc3053           0.0  0.999992  borough_bronx_0  programtype_all_age_camp_0\n",
       "dc25685          0.0  0.999619  borough_bronx_0  programtype_all_age_camp_0"
      ]
     },
     "execution_count": 10,
     "metadata": {},
     "output_type": "execute_result"
    }
   ],
   "source": [
    "tabla.head()"
   ]
  },
  {
   "cell_type": "code",
   "execution_count": 11,
   "metadata": {},
   "outputs": [
    {
     "data": {
      "text/plain": [
       "borough_bronx_0    2578\n",
       "borough_bronx_1     360\n",
       "Name: borough, dtype: int64"
      ]
     },
     "execution_count": 11,
     "metadata": {},
     "output_type": "execute_result"
    }
   ],
   "source": [
    "tabla.borough.value_counts()"
   ]
  },
  {
   "cell_type": "code",
   "execution_count": 12,
   "metadata": {},
   "outputs": [
    {
     "name": "stdout",
     "output_type": "stream",
     "text": [
      "model_id, score_thresholds 1 {'rank_abs': [250]}\n"
     ]
    },
    {
     "name": "stderr",
     "output_type": "stream",
     "text": [
      "/usr/local/lib/python3.7/site-packages/aequitas/group.py:30: FutureWarning: The pandas.np module is deprecated and will be removed from pandas in a future version. Import numpy directly instead\n",
      "  divide = lambda x, y: x / y if y != 0 else pd.np.nan\n"
     ]
    },
    {
     "data": {
      "text/html": [
       "<div>\n",
       "<style scoped>\n",
       "    .dataframe tbody tr th:only-of-type {\n",
       "        vertical-align: middle;\n",
       "    }\n",
       "\n",
       "    .dataframe tbody tr th {\n",
       "        vertical-align: top;\n",
       "    }\n",
       "\n",
       "    .dataframe thead th {\n",
       "        text-align: right;\n",
       "    }\n",
       "</style>\n",
       "<table border=\"1\" class=\"dataframe\">\n",
       "  <thead>\n",
       "    <tr style=\"text-align: right;\">\n",
       "      <th></th>\n",
       "      <th>model_id</th>\n",
       "      <th>score_threshold</th>\n",
       "      <th>k</th>\n",
       "      <th>attribute_name</th>\n",
       "      <th>attribute_value</th>\n",
       "      <th>pp</th>\n",
       "      <th>pn</th>\n",
       "      <th>fp</th>\n",
       "      <th>fn</th>\n",
       "      <th>tn</th>\n",
       "      <th>tp</th>\n",
       "      <th>group_label_pos</th>\n",
       "      <th>group_label_neg</th>\n",
       "      <th>group_size</th>\n",
       "      <th>total_entities</th>\n",
       "    </tr>\n",
       "  </thead>\n",
       "  <tbody>\n",
       "    <tr>\n",
       "      <th>0</th>\n",
       "      <td>1</td>\n",
       "      <td>binary 0/1</td>\n",
       "      <td>250</td>\n",
       "      <td>borough</td>\n",
       "      <td>borough_bronx_0</td>\n",
       "      <td>239</td>\n",
       "      <td>2339</td>\n",
       "      <td>239</td>\n",
       "      <td>83</td>\n",
       "      <td>2256</td>\n",
       "      <td>0</td>\n",
       "      <td>83</td>\n",
       "      <td>2495</td>\n",
       "      <td>2578</td>\n",
       "      <td>2938</td>\n",
       "    </tr>\n",
       "    <tr>\n",
       "      <th>1</th>\n",
       "      <td>1</td>\n",
       "      <td>binary 0/1</td>\n",
       "      <td>250</td>\n",
       "      <td>borough</td>\n",
       "      <td>borough_bronx_1</td>\n",
       "      <td>11</td>\n",
       "      <td>349</td>\n",
       "      <td>11</td>\n",
       "      <td>23</td>\n",
       "      <td>326</td>\n",
       "      <td>0</td>\n",
       "      <td>23</td>\n",
       "      <td>337</td>\n",
       "      <td>360</td>\n",
       "      <td>2938</td>\n",
       "    </tr>\n",
       "    <tr>\n",
       "      <th>2</th>\n",
       "      <td>1</td>\n",
       "      <td>binary 0/1</td>\n",
       "      <td>250</td>\n",
       "      <td>programtype</td>\n",
       "      <td>programtype_all_age_camp_0</td>\n",
       "      <td>150</td>\n",
       "      <td>2477</td>\n",
       "      <td>150</td>\n",
       "      <td>86</td>\n",
       "      <td>2391</td>\n",
       "      <td>0</td>\n",
       "      <td>86</td>\n",
       "      <td>2541</td>\n",
       "      <td>2627</td>\n",
       "      <td>2938</td>\n",
       "    </tr>\n",
       "    <tr>\n",
       "      <th>3</th>\n",
       "      <td>1</td>\n",
       "      <td>binary 0/1</td>\n",
       "      <td>250</td>\n",
       "      <td>programtype</td>\n",
       "      <td>programtype_all_age_camp_1</td>\n",
       "      <td>100</td>\n",
       "      <td>191</td>\n",
       "      <td>100</td>\n",
       "      <td>20</td>\n",
       "      <td>171</td>\n",
       "      <td>0</td>\n",
       "      <td>20</td>\n",
       "      <td>271</td>\n",
       "      <td>291</td>\n",
       "      <td>2938</td>\n",
       "    </tr>\n",
       "    <tr>\n",
       "      <th>4</th>\n",
       "      <td>1</td>\n",
       "      <td>binary 0/1</td>\n",
       "      <td>250</td>\n",
       "      <td>programtype</td>\n",
       "      <td>programtype_infant_toddler_0</td>\n",
       "      <td>0</td>\n",
       "      <td>15</td>\n",
       "      <td>0</td>\n",
       "      <td>0</td>\n",
       "      <td>15</td>\n",
       "      <td>0</td>\n",
       "      <td>0</td>\n",
       "      <td>15</td>\n",
       "      <td>15</td>\n",
       "      <td>2938</td>\n",
       "    </tr>\n",
       "  </tbody>\n",
       "</table>\n",
       "</div>"
      ],
      "text/plain": [
       "   model_id score_threshold    k attribute_name               attribute_value  \\\n",
       "0         1      binary 0/1  250        borough               borough_bronx_0   \n",
       "1         1      binary 0/1  250        borough               borough_bronx_1   \n",
       "2         1      binary 0/1  250    programtype    programtype_all_age_camp_0   \n",
       "3         1      binary 0/1  250    programtype    programtype_all_age_camp_1   \n",
       "4         1      binary 0/1  250    programtype  programtype_infant_toddler_0   \n",
       "\n",
       "    pp    pn   fp  fn    tn  tp  group_label_pos  group_label_neg  group_size  \\\n",
       "0  239  2339  239  83  2256   0               83             2495        2578   \n",
       "1   11   349   11  23   326   0               23              337         360   \n",
       "2  150  2477  150  86  2391   0               86             2541        2627   \n",
       "3  100   191  100  20   171   0               20              271         291   \n",
       "4    0    15    0   0    15   0                0               15          15   \n",
       "\n",
       "   total_entities  \n",
       "0            2938  \n",
       "1            2938  \n",
       "2            2938  \n",
       "3            2938  \n",
       "4            2938  "
      ]
     },
     "execution_count": 12,
     "metadata": {},
     "output_type": "execute_result"
    }
   ],
   "source": [
    "g = Group()\n",
    "\n",
    "xtab, _ = g.get_crosstabs(tabla)\n",
    "\n",
    "absolute_metrics = g.list_absolute_metrics(xtab)\n",
    "\n",
    "df_group = xtab[[col for col in xtab.columns if col not in absolute_metrics]]\n",
    "df_group.head()"
   ]
  },
  {
   "cell_type": "code",
   "execution_count": 13,
   "metadata": {},
   "outputs": [
    {
     "name": "stdout",
     "output_type": "stream",
     "text": [
      "get_disparity_predefined_group()\n"
     ]
    },
    {
     "ename": "Exception",
     "evalue": "get_disparity_predefined_groups(): reference groups and values provided do not exist as columns/values in the input dataframe.(Note: check for syntax errors)",
     "output_type": "error",
     "traceback": [
      "\u001b[0;31m---------------------------------------------------------------------------\u001b[0m",
      "\u001b[0;31mValueError\u001b[0m                                Traceback (most recent call last)",
      "\u001b[0;32m/usr/local/lib/python3.7/site-packages/aequitas/bias.py\u001b[0m in \u001b[0;36mget_disparity_predefined_groups\u001b[0;34m(self, df, original_df, ref_groups_dict, key_columns, input_group_metrics, fill_divbyzero, check_significance, alpha, mask_significance)\u001b[0m\n\u001b[1;32m    344\u001b[0m                                      (df['attribute_value'] == val)]\n\u001b[0;32m--> 345\u001b[0;31m                 \u001b[0mself\u001b[0m\u001b[0;34m.\u001b[0m\u001b[0m_verify_ref_group_loc\u001b[0m\u001b[0;34m(\u001b[0m\u001b[0mgroup_slice\u001b[0m\u001b[0;34m)\u001b[0m\u001b[0;34m\u001b[0m\u001b[0;34m\u001b[0m\u001b[0m\n\u001b[0m\u001b[1;32m    346\u001b[0m                 \u001b[0mdf_ref_group\u001b[0m \u001b[0;34m=\u001b[0m \u001b[0mpd\u001b[0m\u001b[0;34m.\u001b[0m\u001b[0mconcat\u001b[0m\u001b[0;34m(\u001b[0m\u001b[0;34m[\u001b[0m\u001b[0mdf_ref_group\u001b[0m\u001b[0;34m,\u001b[0m \u001b[0mgroup_slice\u001b[0m\u001b[0;34m]\u001b[0m\u001b[0;34m)\u001b[0m\u001b[0;34m\u001b[0m\u001b[0;34m\u001b[0m\u001b[0m\n",
      "\u001b[0;32m/usr/local/lib/python3.7/site-packages/aequitas/bias.py\u001b[0m in \u001b[0;36m_verify_ref_group_loc\u001b[0;34m(self, group_slice)\u001b[0m\n\u001b[1;32m    285\u001b[0m         \u001b[0;32mif\u001b[0m \u001b[0mlen\u001b[0m\u001b[0;34m(\u001b[0m\u001b[0mgroup_slice\u001b[0m\u001b[0;34m)\u001b[0m \u001b[0;34m<\u001b[0m \u001b[0;36m1\u001b[0m\u001b[0;34m:\u001b[0m\u001b[0;34m\u001b[0m\u001b[0;34m\u001b[0m\u001b[0m\n\u001b[0;32m--> 286\u001b[0;31m             \u001b[0;32mraise\u001b[0m \u001b[0mValueError\u001b[0m\u001b[0;34m\u001b[0m\u001b[0;34m\u001b[0m\u001b[0m\n\u001b[0m\u001b[1;32m    287\u001b[0m \u001b[0;34m\u001b[0m\u001b[0m\n",
      "\u001b[0;31mValueError\u001b[0m: ",
      "\nDuring handling of the above exception, another exception occurred:\n",
      "\u001b[0;31mException\u001b[0m                                 Traceback (most recent call last)",
      "\u001b[0;32m<ipython-input-13-84a0a13919d9>\u001b[0m in \u001b[0;36m<module>\u001b[0;34m\u001b[0m\n\u001b[1;32m      1\u001b[0m \u001b[0mb\u001b[0m \u001b[0;34m=\u001b[0m \u001b[0mBias\u001b[0m\u001b[0;34m(\u001b[0m\u001b[0;34m)\u001b[0m\u001b[0;34m\u001b[0m\u001b[0;34m\u001b[0m\u001b[0m\n\u001b[1;32m      2\u001b[0m \u001b[0;34m\u001b[0m\u001b[0m\n\u001b[0;32m----> 3\u001b[0;31m \u001b[0mbdf\u001b[0m \u001b[0;34m=\u001b[0m \u001b[0mb\u001b[0m\u001b[0;34m.\u001b[0m\u001b[0mget_disparity_predefined_groups\u001b[0m\u001b[0;34m(\u001b[0m\u001b[0mxtab\u001b[0m\u001b[0;34m,\u001b[0m \u001b[0moriginal_df\u001b[0m\u001b[0;34m=\u001b[0m\u001b[0mtabla\u001b[0m\u001b[0;34m,\u001b[0m \u001b[0mref_groups_dict\u001b[0m\u001b[0;34m=\u001b[0m\u001b[0;34m{\u001b[0m\u001b[0;34m'borough'\u001b[0m\u001b[0;34m:\u001b[0m\u001b[0;34m'borough_brooklyn'\u001b[0m\u001b[0;34m,\u001b[0m \u001b[0;34m'programtype'\u001b[0m\u001b[0;34m:\u001b[0m\u001b[0;34m'programtype_preschool'\u001b[0m\u001b[0;34m}\u001b[0m\u001b[0;34m,\u001b[0m \u001b[0malpha\u001b[0m\u001b[0;34m=\u001b[0m\u001b[0;36m0.05\u001b[0m\u001b[0;34m,\u001b[0m \u001b[0mmask_significance\u001b[0m\u001b[0;34m=\u001b[0m\u001b[0;32mTrue\u001b[0m\u001b[0;34m)\u001b[0m\u001b[0;34m\u001b[0m\u001b[0;34m\u001b[0m\u001b[0m\n\u001b[0m\u001b[1;32m      4\u001b[0m \u001b[0;34m\u001b[0m\u001b[0m\n\u001b[1;32m      5\u001b[0m hbdf = b.get_disparity_predefined_groups(xtab, original_df=tabla,\n",
      "\u001b[0;32m/usr/local/lib/python3.7/site-packages/aequitas/bias.py\u001b[0m in \u001b[0;36mget_disparity_predefined_groups\u001b[0;34m(self, df, original_df, ref_groups_dict, key_columns, input_group_metrics, fill_divbyzero, check_significance, alpha, mask_significance)\u001b[0m\n\u001b[1;32m    346\u001b[0m                 \u001b[0mdf_ref_group\u001b[0m \u001b[0;34m=\u001b[0m \u001b[0mpd\u001b[0m\u001b[0;34m.\u001b[0m\u001b[0mconcat\u001b[0m\u001b[0;34m(\u001b[0m\u001b[0;34m[\u001b[0m\u001b[0mdf_ref_group\u001b[0m\u001b[0;34m,\u001b[0m \u001b[0mgroup_slice\u001b[0m\u001b[0;34m]\u001b[0m\u001b[0;34m)\u001b[0m\u001b[0;34m\u001b[0m\u001b[0;34m\u001b[0m\u001b[0m\n\u001b[1;32m    347\u001b[0m         \u001b[0;32mexcept\u001b[0m \u001b[0;34m(\u001b[0m\u001b[0mKeyError\u001b[0m\u001b[0;34m,\u001b[0m \u001b[0mValueError\u001b[0m\u001b[0;34m)\u001b[0m\u001b[0;34m:\u001b[0m\u001b[0;34m\u001b[0m\u001b[0;34m\u001b[0m\u001b[0m\n\u001b[0;32m--> 348\u001b[0;31m             raise Exception('get_disparity_predefined_groups(): reference groups '\n\u001b[0m\u001b[1;32m    349\u001b[0m                           \u001b[0;34m'and values provided do not exist as columns/values '\u001b[0m\u001b[0;34m\u001b[0m\u001b[0;34m\u001b[0m\u001b[0m\n\u001b[1;32m    350\u001b[0m                           'in the input dataframe.(Note: check for syntax errors)')\n",
      "\u001b[0;31mException\u001b[0m: get_disparity_predefined_groups(): reference groups and values provided do not exist as columns/values in the input dataframe.(Note: check for syntax errors)"
     ]
    }
   ],
   "source": [
    "b = Bias()\n",
    "\n",
    "bdf = b.get_disparity_predefined_groups(xtab, original_df=tabla, ref_groups_dict={'borough':'borough_brooklyn', 'programtype':'programtype_preschool'}, alpha=0.05, mask_significance=True)\n",
    "\n",
    "hbdf = b.get_disparity_predefined_groups(xtab, original_df=tabla,\n",
    "                                         ref_groups_dict={'borough':'borough_brooklyn', 'programtype':'programtype_preschool'},\n",
    "                                         alpha=0.05,\n",
    "                                         mask_significance=False)\n",
    "\n",
    "\n",
    "majority_bdf = b.get_disparity_major_group(xtab, original_df=tabla, mask_significance=True)"
   ]
  },
  {
   "cell_type": "code",
   "execution_count": null,
   "metadata": {},
   "outputs": [],
   "source": []
  }
 ],
 "metadata": {
  "kernelspec": {
   "display_name": "Python 3",
   "language": "python",
   "name": "python3"
  },
  "language_info": {
   "codemirror_mode": {
    "name": "ipython",
    "version": 3
   },
   "file_extension": ".py",
   "mimetype": "text/x-python",
   "name": "python",
   "nbconvert_exporter": "python",
   "pygments_lexer": "ipython3",
   "version": "3.7.7"
  }
 },
 "nbformat": 4,
 "nbformat_minor": 2
}
