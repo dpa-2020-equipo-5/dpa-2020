{
 "cells": [
  {
   "cell_type": "code",
   "execution_count": 1,
   "metadata": {},
   "outputs": [
    {
     "name": "stderr",
     "output_type": "stream",
     "text": [
      "C:\\Users\\Elizabeth\\Anaconda3\\lib\\site-packages\\statsmodels\\tools\\_testing.py:19: FutureWarning: pandas.util.testing is deprecated. Use the functions in the public API at pandas.testing instead.\n",
      "  import pandas.util.testing as tm\n"
     ]
    }
   ],
   "source": [
    "import pandas as pd\n",
    "import matplotlib\n",
    "import matplotlib.pyplot as plt\n",
    "import seaborn as sns #Control figure \n",
    "import numpy as np\n",
    "import os\n",
    "from datetime import date\n",
    "matplotlib.style.use('ggplot')\n",
    "%matplotlib inline"
   ]
  },
  {
   "cell_type": "code",
   "execution_count": 2,
   "metadata": {},
   "outputs": [],
   "source": [
    "from sodapy import Socrata"
   ]
  },
  {
   "cell_type": "code",
   "execution_count": 3,
   "metadata": {},
   "outputs": [],
   "source": [
    "#MyAppToken = ''"
   ]
  },
  {
   "cell_type": "code",
   "execution_count": 4,
   "metadata": {},
   "outputs": [],
   "source": [
    "#client = Socrata(\"data.cityofnewyork.us\", MyAppToken)"
   ]
  },
  {
   "cell_type": "code",
   "execution_count": 5,
   "metadata": {},
   "outputs": [],
   "source": [
    "#results = client.get(\"dsg6-ifza\", limit=2000)"
   ]
  },
  {
   "cell_type": "code",
   "execution_count": 6,
   "metadata": {},
   "outputs": [],
   "source": [
    "#df = pd.DataFrame.from_records(results)"
   ]
  },
  {
   "cell_type": "code",
   "execution_count": 7,
   "metadata": {},
   "outputs": [],
   "source": [
    "cwd = os.getcwd() #to get current working directory\n",
    "#print(cwd)"
   ]
  },
  {
   "cell_type": "code",
   "execution_count": 8,
   "metadata": {},
   "outputs": [],
   "source": [
    "df = pd.read_csv('DOHMH_Childcare_Center_Inspections.csv', encoding = \"L1\")"
   ]
  },
  {
   "cell_type": "code",
   "execution_count": 9,
   "metadata": {},
   "outputs": [
    {
     "name": "stdout",
     "output_type": "stream",
     "text": [
      "<class 'pandas.core.frame.DataFrame'>\n",
      "RangeIndex: 52024 entries, 0 to 52023\n",
      "Data columns (total 34 columns):\n",
      " #   Column                                       Non-Null Count  Dtype  \n",
      "---  ------                                       --------------  -----  \n",
      " 0   Center Name                                  52024 non-null  object \n",
      " 1   Legal Name                                   52024 non-null  object \n",
      " 2   Building                                     52013 non-null  object \n",
      " 3   Street                                       52024 non-null  object \n",
      " 4   Borough                                      52024 non-null  object \n",
      " 5   ZipCode                                      51942 non-null  float64\n",
      " 6   Phone                                        51977 non-null  object \n",
      " 7   Permit Number                                46227 non-null  float64\n",
      " 8   Permit Expiration                            52024 non-null  object \n",
      " 9   Status                                       52024 non-null  object \n",
      " 10  Age Range                                    49708 non-null  object \n",
      " 11  Maximum Capacity                             52024 non-null  int64  \n",
      " 12  Day Care ID                                  52024 non-null  object \n",
      " 13  Program Type                                 52024 non-null  object \n",
      " 14  Facility Type                                52024 non-null  object \n",
      " 15  Child Care Type                              52024 non-null  object \n",
      " 16  Building Identification Number               52024 non-null  int64  \n",
      " 17  URL                                          25629 non-null  object \n",
      " 18  Date Permitted                               45947 non-null  object \n",
      " 19  Actual                                       45947 non-null  object \n",
      " 20  Violation Rate Percent                       51931 non-null  float64\n",
      " 21  Average Violation Rate Percent               51916 non-null  float64\n",
      " 22  Total Educational Workers                    52024 non-null  int64  \n",
      " 23  Average Total Educational Workers            52024 non-null  float64\n",
      " 24  Public Health Hazard Violation Rate          51931 non-null  float64\n",
      " 25  Average Public Health Hazard Violation Rate  51916 non-null  float64\n",
      " 26  Critical Violation Rate                      51931 non-null  float64\n",
      " 27  Average Critical Violation Rate              51916 non-null  float64\n",
      " 28  Inspection Date                              51968 non-null  object \n",
      " 29  Regulation Summary                           51968 non-null  object \n",
      " 30  Violation Category                           36358 non-null  object \n",
      " 31  Health Code Sub Section                      36358 non-null  object \n",
      " 32  Violation Status                             36358 non-null  object \n",
      " 33  Inspection Summary Result                    49242 non-null  object \n",
      "dtypes: float64(9), int64(3), object(22)\n",
      "memory usage: 13.5+ MB\n"
     ]
    }
   ],
   "source": [
    "df.info()"
   ]
  },
  {
   "cell_type": "code",
   "execution_count": 10,
   "metadata": {},
   "outputs": [],
   "source": [
    "def clean_string(astr):\n",
    "    return astr.lower().replace('.', '') \\\n",
    "        .replace(',', '') \\\n",
    "        .replace(';', '') \\\n",
    "        .replace(':', '') \\\n",
    "        .replace('á', 'a') \\\n",
    "        .replace('é', 'e') \\\n",
    "        .replace('í', 'i') \\\n",
    "        .replace('ó', 'o') \\\n",
    "        .replace('ú', 'u') \\\n",
    "        .replace(' ', '_') \\\n",
    "        .replace('ñ', 'ni')"
   ]
  },
  {
   "cell_type": "code",
   "execution_count": 11,
   "metadata": {},
   "outputs": [],
   "source": [
    "def clean_columns(df):\n",
    "    for series in df:\n",
    "        df.rename(columns={series:clean_string(series)}, inplace=True)"
   ]
  },
  {
   "cell_type": "code",
   "execution_count": 12,
   "metadata": {},
   "outputs": [],
   "source": [
    "def execute(raw_dataset_path, clean_dataset_path):\n",
    "    print(\"\\t-> Leyendo datos crudos a un DataFrame\")\n",
    "    df = pd.read_csv('DOHMH_Childcare_Center_Inspections.csv')"
   ]
  },
  {
   "cell_type": "code",
   "execution_count": 13,
   "metadata": {},
   "outputs": [
    {
     "name": "stdout",
     "output_type": "stream",
     "text": [
      "\t-> Limpando columnas\n"
     ]
    }
   ],
   "source": [
    "print(\"\\t-> Limpando columnas\")"
   ]
  },
  {
   "cell_type": "code",
   "execution_count": 14,
   "metadata": {},
   "outputs": [],
   "source": [
    "clean_columns(df)"
   ]
  },
  {
   "cell_type": "code",
   "execution_count": 15,
   "metadata": {},
   "outputs": [
    {
     "name": "stdout",
     "output_type": "stream",
     "text": [
      "<class 'pandas.core.frame.DataFrame'>\n",
      "RangeIndex: 52024 entries, 0 to 52023\n",
      "Data columns (total 34 columns):\n",
      " #   Column                                       Non-Null Count  Dtype  \n",
      "---  ------                                       --------------  -----  \n",
      " 0   center_name                                  52024 non-null  object \n",
      " 1   legal_name                                   52024 non-null  object \n",
      " 2   building                                     52013 non-null  object \n",
      " 3   street                                       52024 non-null  object \n",
      " 4   borough                                      52024 non-null  object \n",
      " 5   zipcode                                      51942 non-null  float64\n",
      " 6   phone                                        51977 non-null  object \n",
      " 7   permit_number                                46227 non-null  float64\n",
      " 8   permit_expiration                            52024 non-null  object \n",
      " 9   status                                       52024 non-null  object \n",
      " 10  age_range                                    49708 non-null  object \n",
      " 11  maximum_capacity                             52024 non-null  int64  \n",
      " 12  day_care_id                                  52024 non-null  object \n",
      " 13  program_type                                 52024 non-null  object \n",
      " 14  facility_type                                52024 non-null  object \n",
      " 15  child_care_type                              52024 non-null  object \n",
      " 16  building_identification_number               52024 non-null  int64  \n",
      " 17  url                                          25629 non-null  object \n",
      " 18  date_permitted                               45947 non-null  object \n",
      " 19  actual                                       45947 non-null  object \n",
      " 20  violation_rate_percent                       51931 non-null  float64\n",
      " 21  average_violation_rate_percent               51916 non-null  float64\n",
      " 22  total_educational_workers                    52024 non-null  int64  \n",
      " 23  average_total_educational_workers            52024 non-null  float64\n",
      " 24  public_health_hazard_violation_rate          51931 non-null  float64\n",
      " 25  average_public_health_hazard_violation_rate  51916 non-null  float64\n",
      " 26  critical_violation_rate                      51931 non-null  float64\n",
      " 27  average_critical_violation_rate              51916 non-null  float64\n",
      " 28  inspection_date                              51968 non-null  object \n",
      " 29  regulation_summary                           51968 non-null  object \n",
      " 30  violation_category                           36358 non-null  object \n",
      " 31  health_code_sub_section                      36358 non-null  object \n",
      " 32  violation_status                             36358 non-null  object \n",
      " 33  inspection_summary_result                    49242 non-null  object \n",
      "dtypes: float64(9), int64(3), object(22)\n",
      "memory usage: 13.5+ MB\n"
     ]
    }
   ],
   "source": [
    "df.info()"
   ]
  },
  {
   "cell_type": "code",
   "execution_count": 16,
   "metadata": {},
   "outputs": [
    {
     "name": "stdout",
     "output_type": "stream",
     "text": [
      "\t-> Reemplazando espacios en blanco\n"
     ]
    }
   ],
   "source": [
    "print(\"\\t-> Reemplazando espacios en blanco\")\n",
    "for col in df.select_dtypes('object'):\n",
    "    df[col] = df[col].replace('\\s+', ' ', regex=True)"
   ]
  },
  {
   "cell_type": "code",
   "execution_count": 17,
   "metadata": {},
   "outputs": [
    {
     "name": "stdout",
     "output_type": "stream",
     "text": [
      "\t-> Limpiando valores\n"
     ]
    }
   ],
   "source": [
    "print(\"\\t-> Limpiando valores\")\n",
    "for col in df.select_dtypes('object'):\n",
    "        df[col] = df[col].str.strip()\n",
    "        df[col] = df[col].str.lower()\n",
    "        df[col] = df[col].str.replace('á', 'a')\n",
    "        df[col] = df[col].str.replace('é', 'e')\n",
    "        df[col] = df[col].str.replace('í', 'i')\n",
    "        df[col] = df[col].str.replace('ó', 'o')\n",
    "        df[col] = df[col].str.replace('ú', 'u')\n",
    "        df[col] = df[col].str.replace(' ', '_')"
   ]
  },
  {
   "cell_type": "code",
   "execution_count": 18,
   "metadata": {},
   "outputs": [
    {
     "name": "stdout",
     "output_type": "stream",
     "text": [
      "\t-> Cambiando NA por np.nan\n"
     ]
    }
   ],
   "source": [
    "print(\"\\t-> Cambiando NA por np.nan\")\n",
    "for col in df.select_dtypes('object'):\n",
    "    df.loc[df[col] == 'na', col] = np.nan"
   ]
  },
  {
   "cell_type": "code",
   "execution_count": 19,
   "metadata": {},
   "outputs": [],
   "source": [
    "df.to_csv('df.csv', index=False)"
   ]
  },
  {
   "cell_type": "code",
   "execution_count": 20,
   "metadata": {},
   "outputs": [
    {
     "name": "stdout",
     "output_type": "stream",
     "text": [
      "\t-> Cuántos valores NaN tiene la base\n"
     ]
    }
   ],
   "source": [
    "print(\"\\t-> Cuántos valores NaN tiene la base\")"
   ]
  },
  {
   "cell_type": "code",
   "execution_count": 21,
   "metadata": {},
   "outputs": [
    {
     "data": {
      "text/plain": [
       "center_name                                        0\n",
       "legal_name                                         0\n",
       "building                                          11\n",
       "street                                             0\n",
       "borough                                            0\n",
       "zipcode                                           82\n",
       "phone                                             47\n",
       "permit_number                                   5797\n",
       "permit_expiration                                  0\n",
       "status                                             0\n",
       "age_range                                       2316\n",
       "maximum_capacity                                   0\n",
       "day_care_id                                        0\n",
       "program_type                                       0\n",
       "facility_type                                      0\n",
       "child_care_type                                    0\n",
       "building_identification_number                     0\n",
       "url                                            26395\n",
       "date_permitted                                  6077\n",
       "actual                                          6077\n",
       "violation_rate_percent                            93\n",
       "average_violation_rate_percent                   108\n",
       "total_educational_workers                          0\n",
       "average_total_educational_workers                  0\n",
       "public_health_hazard_violation_rate               93\n",
       "average_public_health_hazard_violation_rate      108\n",
       "critical_violation_rate                           93\n",
       "average_critical_violation_rate                  108\n",
       "inspection_date                                   56\n",
       "regulation_summary                                56\n",
       "violation_category                             15666\n",
       "health_code_sub_section                        15666\n",
       "violation_status                               15666\n",
       "inspection_summary_result                       2782\n",
       "dtype: int64"
      ]
     },
     "execution_count": 21,
     "metadata": {},
     "output_type": "execute_result"
    }
   ],
   "source": [
    "df.isnull().sum()"
   ]
  },
  {
   "cell_type": "code",
   "execution_count": 22,
   "metadata": {},
   "outputs": [
    {
     "name": "stdout",
     "output_type": "stream",
     "text": [
      "\t-> Eliminar duplicados\n"
     ]
    }
   ],
   "source": [
    "print(\"\\t-> Eliminar duplicados\")"
   ]
  },
  {
   "cell_type": "code",
   "execution_count": 23,
   "metadata": {},
   "outputs": [
    {
     "data": {
      "text/plain": [
       "12653"
      ]
     },
     "execution_count": 23,
     "metadata": {},
     "output_type": "execute_result"
    }
   ],
   "source": [
    "df.duplicated().sum()"
   ]
  },
  {
   "cell_type": "code",
   "execution_count": 24,
   "metadata": {},
   "outputs": [
    {
     "data": {
      "text/plain": [
       "(39371, 34)"
      ]
     },
     "execution_count": 24,
     "metadata": {},
     "output_type": "execute_result"
    }
   ],
   "source": [
    "df = df.drop_duplicates()\n",
    "df.shape"
   ]
  },
  {
   "cell_type": "code",
   "execution_count": 25,
   "metadata": {},
   "outputs": [
    {
     "name": "stdout",
     "output_type": "stream",
     "text": [
      "<class 'pandas.core.frame.DataFrame'>\n",
      "Int64Index: 39371 entries, 0 to 52023\n",
      "Data columns (total 34 columns):\n",
      " #   Column                                       Non-Null Count  Dtype  \n",
      "---  ------                                       --------------  -----  \n",
      " 0   center_name                                  39371 non-null  object \n",
      " 1   legal_name                                   39371 non-null  object \n",
      " 2   building                                     39360 non-null  object \n",
      " 3   street                                       39371 non-null  object \n",
      " 4   borough                                      39371 non-null  object \n",
      " 5   zipcode                                      39321 non-null  float64\n",
      " 6   phone                                        39325 non-null  object \n",
      " 7   permit_number                                35549 non-null  float64\n",
      " 8   permit_expiration                            39371 non-null  object \n",
      " 9   status                                       39371 non-null  object \n",
      " 10  age_range                                    37584 non-null  object \n",
      " 11  maximum_capacity                             39371 non-null  int64  \n",
      " 12  day_care_id                                  39371 non-null  object \n",
      " 13  program_type                                 39371 non-null  object \n",
      " 14  facility_type                                39371 non-null  object \n",
      " 15  child_care_type                              39371 non-null  object \n",
      " 16  building_identification_number               39371 non-null  int64  \n",
      " 17  url                                          19993 non-null  object \n",
      " 18  date_permitted                               35292 non-null  object \n",
      " 19  actual                                       35292 non-null  object \n",
      " 20  violation_rate_percent                       39286 non-null  float64\n",
      " 21  average_violation_rate_percent               39273 non-null  float64\n",
      " 22  total_educational_workers                    39371 non-null  int64  \n",
      " 23  average_total_educational_workers            39371 non-null  float64\n",
      " 24  public_health_hazard_violation_rate          39286 non-null  float64\n",
      " 25  average_public_health_hazard_violation_rate  39273 non-null  float64\n",
      " 26  critical_violation_rate                      39286 non-null  float64\n",
      " 27  average_critical_violation_rate              39273 non-null  float64\n",
      " 28  inspection_date                              39315 non-null  object \n",
      " 29  regulation_summary                           39315 non-null  object \n",
      " 30  violation_category                           23870 non-null  object \n",
      " 31  health_code_sub_section                      23870 non-null  object \n",
      " 32  violation_status                             23870 non-null  object \n",
      " 33  inspection_summary_result                    37230 non-null  object \n",
      "dtypes: float64(9), int64(3), object(22)\n",
      "memory usage: 10.5+ MB\n"
     ]
    }
   ],
   "source": [
    "df.info()"
   ]
  },
  {
   "cell_type": "markdown",
   "metadata": {},
   "source": [
    "### TABLA 3"
   ]
  },
  {
   "cell_type": "code",
   "execution_count": 26,
   "metadata": {},
   "outputs": [],
   "source": [
    "tabla_3 = df.iloc[:, 0:28] #Seleccionamos sólo las columnas desde center_name hasta avg_critical_violation_rate"
   ]
  },
  {
   "cell_type": "code",
   "execution_count": 27,
   "metadata": {},
   "outputs": [
    {
     "name": "stdout",
     "output_type": "stream",
     "text": [
      "<class 'pandas.core.frame.DataFrame'>\n",
      "Int64Index: 39371 entries, 0 to 52023\n",
      "Data columns (total 28 columns):\n",
      " #   Column                                       Non-Null Count  Dtype  \n",
      "---  ------                                       --------------  -----  \n",
      " 0   center_name                                  39371 non-null  object \n",
      " 1   legal_name                                   39371 non-null  object \n",
      " 2   building                                     39360 non-null  object \n",
      " 3   street                                       39371 non-null  object \n",
      " 4   borough                                      39371 non-null  object \n",
      " 5   zipcode                                      39321 non-null  float64\n",
      " 6   phone                                        39325 non-null  object \n",
      " 7   permit_number                                35549 non-null  float64\n",
      " 8   permit_expiration                            39371 non-null  object \n",
      " 9   status                                       39371 non-null  object \n",
      " 10  age_range                                    37584 non-null  object \n",
      " 11  maximum_capacity                             39371 non-null  int64  \n",
      " 12  day_care_id                                  39371 non-null  object \n",
      " 13  program_type                                 39371 non-null  object \n",
      " 14  facility_type                                39371 non-null  object \n",
      " 15  child_care_type                              39371 non-null  object \n",
      " 16  building_identification_number               39371 non-null  int64  \n",
      " 17  url                                          19993 non-null  object \n",
      " 18  date_permitted                               35292 non-null  object \n",
      " 19  actual                                       35292 non-null  object \n",
      " 20  violation_rate_percent                       39286 non-null  float64\n",
      " 21  average_violation_rate_percent               39273 non-null  float64\n",
      " 22  total_educational_workers                    39371 non-null  int64  \n",
      " 23  average_total_educational_workers            39371 non-null  float64\n",
      " 24  public_health_hazard_violation_rate          39286 non-null  float64\n",
      " 25  average_public_health_hazard_violation_rate  39273 non-null  float64\n",
      " 26  critical_violation_rate                      39286 non-null  float64\n",
      " 27  average_critical_violation_rate              39273 non-null  float64\n",
      "dtypes: float64(9), int64(3), object(16)\n",
      "memory usage: 8.7+ MB\n"
     ]
    }
   ],
   "source": [
    "tabla_3.info()"
   ]
  },
  {
   "cell_type": "code",
   "execution_count": 28,
   "metadata": {},
   "outputs": [
    {
     "data": {
      "text/plain": [
       "(2989, 28)"
      ]
     },
     "execution_count": 28,
     "metadata": {},
     "output_type": "execute_result"
    }
   ],
   "source": [
    "tabla_3 = tabla_3.drop_duplicates()\n",
    "tabla_3.shape"
   ]
  },
  {
   "cell_type": "markdown",
   "metadata": {},
   "source": [
    "3.1 \n",
    "* Conservar únicamente las variables estáticas que se utilizaron en el modelo: daycareid, borough,maximum_capacity, program_type, facility_type, violation_rate_percent, total_educational_workers, public_health_hazard_violation_rate, critical_violation_rate."
   ]
  },
  {
   "cell_type": "code",
   "execution_count": 29,
   "metadata": {},
   "outputs": [],
   "source": [
    "dummies = [\"program_type\", \"facility_type\", \"borough\"]\n",
    "df_1 = pd.get_dummies(tabla_3[dummies])"
   ]
  },
  {
   "cell_type": "code",
   "execution_count": 30,
   "metadata": {},
   "outputs": [],
   "source": [
    "tabla_3 = tabla_3.join(df_1)"
   ]
  },
  {
   "cell_type": "code",
   "execution_count": 31,
   "metadata": {},
   "outputs": [],
   "source": [
    "tabla_3 = tabla_3.drop(['program_type', 'facility_type', 'borough'], axis = 1)"
   ]
  },
  {
   "cell_type": "code",
   "execution_count": 32,
   "metadata": {},
   "outputs": [
    {
     "name": "stdout",
     "output_type": "stream",
     "text": [
      "<class 'pandas.core.frame.DataFrame'>\n",
      "Int64Index: 2989 entries, 0 to 51837\n",
      "Data columns (total 38 columns):\n",
      " #   Column                                       Non-Null Count  Dtype  \n",
      "---  ------                                       --------------  -----  \n",
      " 0   center_name                                  2989 non-null   object \n",
      " 1   legal_name                                   2989 non-null   object \n",
      " 2   building                                     2987 non-null   object \n",
      " 3   street                                       2989 non-null   object \n",
      " 4   zipcode                                      2983 non-null   float64\n",
      " 5   phone                                        2984 non-null   object \n",
      " 6   permit_number                                2546 non-null   float64\n",
      " 7   permit_expiration                            2989 non-null   object \n",
      " 8   status                                       2989 non-null   object \n",
      " 9   age_range                                    2854 non-null   object \n",
      " 10  maximum_capacity                             2989 non-null   int64  \n",
      " 11  day_care_id                                  2989 non-null   object \n",
      " 12  child_care_type                              2989 non-null   object \n",
      " 13  building_identification_number               2989 non-null   int64  \n",
      " 14  url                                          1531 non-null   object \n",
      " 15  date_permitted                               2506 non-null   object \n",
      " 16  actual                                       2506 non-null   object \n",
      " 17  violation_rate_percent                       2915 non-null   float64\n",
      " 18  average_violation_rate_percent               2913 non-null   float64\n",
      " 19  total_educational_workers                    2989 non-null   int64  \n",
      " 20  average_total_educational_workers            2989 non-null   float64\n",
      " 21  public_health_hazard_violation_rate          2915 non-null   float64\n",
      " 22  average_public_health_hazard_violation_rate  2913 non-null   float64\n",
      " 23  critical_violation_rate                      2915 non-null   float64\n",
      " 24  average_critical_violation_rate              2913 non-null   float64\n",
      " 25  program_type_all_age_camp                    2989 non-null   uint8  \n",
      " 26  program_type_infant_toddler                  2989 non-null   uint8  \n",
      " 27  program_type_preschool                       2989 non-null   uint8  \n",
      " 28  program_type_preschool_camp                  2989 non-null   uint8  \n",
      " 29  program_type_school_age_camp                 2989 non-null   uint8  \n",
      " 30  facility_type_camp                           2989 non-null   uint8  \n",
      " 31  facility_type_gdc                            2989 non-null   uint8  \n",
      " 32  facility_type_sbcc                           2989 non-null   uint8  \n",
      " 33  borough_bronx                                2989 non-null   uint8  \n",
      " 34  borough_brooklyn                             2989 non-null   uint8  \n",
      " 35  borough_manhattan                            2989 non-null   uint8  \n",
      " 36  borough_queens                               2989 non-null   uint8  \n",
      " 37  borough_staten_island                        2989 non-null   uint8  \n",
      "dtypes: float64(9), int64(3), object(13), uint8(13)\n",
      "memory usage: 725.1+ KB\n"
     ]
    }
   ],
   "source": [
    "tabla_3.info()"
   ]
  },
  {
   "cell_type": "markdown",
   "metadata": {},
   "source": [
    "### TABLA 4"
   ]
  },
  {
   "cell_type": "markdown",
   "metadata": {},
   "source": [
    "Conservar únicamente las variables que aportaban información sobre las inspecciones de la Tabla 2 (con la excepeción de borough): daycareid, inspection_date, inspection_summary, violation_category y borough."
   ]
  },
  {
   "cell_type": "code",
   "execution_count": 33,
   "metadata": {},
   "outputs": [
    {
     "name": "stdout",
     "output_type": "stream",
     "text": [
      "<class 'pandas.core.frame.DataFrame'>\n",
      "Int64Index: 39371 entries, 0 to 52023\n",
      "Data columns (total 34 columns):\n",
      " #   Column                                       Non-Null Count  Dtype  \n",
      "---  ------                                       --------------  -----  \n",
      " 0   center_name                                  39371 non-null  object \n",
      " 1   legal_name                                   39371 non-null  object \n",
      " 2   building                                     39360 non-null  object \n",
      " 3   street                                       39371 non-null  object \n",
      " 4   borough                                      39371 non-null  object \n",
      " 5   zipcode                                      39321 non-null  float64\n",
      " 6   phone                                        39325 non-null  object \n",
      " 7   permit_number                                35549 non-null  float64\n",
      " 8   permit_expiration                            39371 non-null  object \n",
      " 9   status                                       39371 non-null  object \n",
      " 10  age_range                                    37584 non-null  object \n",
      " 11  maximum_capacity                             39371 non-null  int64  \n",
      " 12  day_care_id                                  39371 non-null  object \n",
      " 13  program_type                                 39371 non-null  object \n",
      " 14  facility_type                                39371 non-null  object \n",
      " 15  child_care_type                              39371 non-null  object \n",
      " 16  building_identification_number               39371 non-null  int64  \n",
      " 17  url                                          19993 non-null  object \n",
      " 18  date_permitted                               35292 non-null  object \n",
      " 19  actual                                       35292 non-null  object \n",
      " 20  violation_rate_percent                       39286 non-null  float64\n",
      " 21  average_violation_rate_percent               39273 non-null  float64\n",
      " 22  total_educational_workers                    39371 non-null  int64  \n",
      " 23  average_total_educational_workers            39371 non-null  float64\n",
      " 24  public_health_hazard_violation_rate          39286 non-null  float64\n",
      " 25  average_public_health_hazard_violation_rate  39273 non-null  float64\n",
      " 26  critical_violation_rate                      39286 non-null  float64\n",
      " 27  average_critical_violation_rate              39273 non-null  float64\n",
      " 28  inspection_date                              39315 non-null  object \n",
      " 29  regulation_summary                           39315 non-null  object \n",
      " 30  violation_category                           23870 non-null  object \n",
      " 31  health_code_sub_section                      23870 non-null  object \n",
      " 32  violation_status                             23870 non-null  object \n",
      " 33  inspection_summary_result                    37230 non-null  object \n",
      "dtypes: float64(9), int64(3), object(22)\n",
      "memory usage: 10.5+ MB\n"
     ]
    }
   ],
   "source": [
    "df.info()"
   ]
  },
  {
   "cell_type": "code",
   "execution_count": 34,
   "metadata": {},
   "outputs": [],
   "source": [
    "tabla_4 = df.iloc[:, [4,12,28,30,33]]"
   ]
  },
  {
   "cell_type": "code",
   "execution_count": 35,
   "metadata": {},
   "outputs": [
    {
     "name": "stdout",
     "output_type": "stream",
     "text": [
      "\t-> Reagrupar en tres variables Inspection Summary Result: reason, result_1 y result_2\n"
     ]
    }
   ],
   "source": [
    "print(\"\\t-> Reagrupar en tres variables Inspection Summary Result: reason, result_1 y result_2\")"
   ]
  },
  {
   "cell_type": "code",
   "execution_count": 36,
   "metadata": {},
   "outputs": [
    {
     "name": "stderr",
     "output_type": "stream",
     "text": [
      "C:\\Users\\Elizabeth\\Anaconda3\\lib\\site-packages\\ipykernel_launcher.py:1: SettingWithCopyWarning: \n",
      "A value is trying to be set on a copy of a slice from a DataFrame.\n",
      "Try using .loc[row_indexer,col_indexer] = value instead\n",
      "\n",
      "See the caveats in the documentation: https://pandas.pydata.org/pandas-docs/stable/user_guide/indexing.html#returning-a-view-versus-a-copy\n",
      "  \"\"\"Entry point for launching an IPython kernel.\n"
     ]
    }
   ],
   "source": [
    "tabla_4['inspection_summary_result'] = tabla_4['inspection_summary_result'].astype('str')"
   ]
  },
  {
   "cell_type": "code",
   "execution_count": 37,
   "metadata": {},
   "outputs": [],
   "source": [
    "df_3 = pd.DataFrame(tabla_4.inspection_summary_result.str.split('_-_',1).tolist(), columns= ['reason', 'result'])"
   ]
  },
  {
   "cell_type": "code",
   "execution_count": 38,
   "metadata": {},
   "outputs": [],
   "source": [
    "df_3['result'] = df_3['result'].astype('str')"
   ]
  },
  {
   "cell_type": "code",
   "execution_count": 39,
   "metadata": {},
   "outputs": [],
   "source": [
    "df_4 = pd.DataFrame(df_3.result.str.split(';_',1).tolist(), columns = ['result_1', 'result_2'])"
   ]
  },
  {
   "cell_type": "code",
   "execution_count": 40,
   "metadata": {},
   "outputs": [],
   "source": [
    "df_3 = df_3.drop(df_3.columns[[1]], axis=1) "
   ]
  },
  {
   "cell_type": "code",
   "execution_count": 41,
   "metadata": {},
   "outputs": [],
   "source": [
    "df_4 = df_4.join(df_3)"
   ]
  },
  {
   "cell_type": "code",
   "execution_count": 42,
   "metadata": {},
   "outputs": [],
   "source": [
    "tabla_4 = tabla_4.join(df_4)"
   ]
  },
  {
   "cell_type": "code",
   "execution_count": 43,
   "metadata": {},
   "outputs": [],
   "source": [
    "tabla_4 = tabla_4.drop(['inspection_summary_result'], axis = 1) #Eliminar inspection_summary_result"
   ]
  },
  {
   "cell_type": "code",
   "execution_count": 44,
   "metadata": {},
   "outputs": [
    {
     "name": "stdout",
     "output_type": "stream",
     "text": [
      "\t-> A la variable reason la hacemos dummy, es decir, initial annual inspection es 1 y en otro caso es cero\n"
     ]
    }
   ],
   "source": [
    "print(\"\\t-> A la variable reason la hacemos dummy, es decir, initial annual inspection es 1 y en otro caso es cero\")"
   ]
  },
  {
   "cell_type": "code",
   "execution_count": 45,
   "metadata": {},
   "outputs": [
    {
     "data": {
      "text/plain": [
       "initial_annual_inspection                       19025\n",
       "NaN                                              9549\n",
       "compliance_inspection_of_open_violations         5164\n",
       "monitoring_inspection_non-routine                3957\n",
       "nan                                              1620\n",
       "lead_based_paint_or_lead_in_water_inspection       56\n",
       "Name: reason, dtype: int64"
      ]
     },
     "execution_count": 45,
     "metadata": {},
     "output_type": "execute_result"
    }
   ],
   "source": [
    "tabla_4.reason.value_counts(dropna=False)"
   ]
  },
  {
   "cell_type": "code",
   "execution_count": 46,
   "metadata": {},
   "outputs": [],
   "source": [
    "tabla_4['initial_annual_inspection'] = tabla_4.reason.apply(lambda x: 1 if x == \"initial_annual_inspection\" else 0)"
   ]
  },
  {
   "cell_type": "code",
   "execution_count": 47,
   "metadata": {},
   "outputs": [
    {
     "data": {
      "text/plain": [
       "0    20346\n",
       "1    19025\n",
       "Name: initial_annual_inspection, dtype: int64"
      ]
     },
     "execution_count": 47,
     "metadata": {},
     "output_type": "execute_result"
    }
   ],
   "source": [
    "tabla_4.initial_annual_inspection.value_counts(dropna=False)"
   ]
  },
  {
   "cell_type": "code",
   "execution_count": 48,
   "metadata": {},
   "outputs": [],
   "source": [
    "tabla_4 = tabla_4.drop(['reason'], axis=1) #Eliminamos la variable reason"
   ]
  },
  {
   "cell_type": "code",
   "execution_count": 49,
   "metadata": {},
   "outputs": [
    {
     "name": "stdout",
     "output_type": "stream",
     "text": [
      "\t-> Creamos dummies a las variables result_1 y result_2\n"
     ]
    }
   ],
   "source": [
    "print(\"\\t-> Creamos dummies a las variables result_1 y result_2\")"
   ]
  },
  {
   "cell_type": "code",
   "execution_count": 50,
   "metadata": {},
   "outputs": [],
   "source": [
    "dummies = [\"result_1\", \"result_2\"]\n",
    "df_2 = pd.get_dummies(tabla_4[dummies])"
   ]
  },
  {
   "cell_type": "code",
   "execution_count": 51,
   "metadata": {},
   "outputs": [],
   "source": [
    "tabla_4 = tabla_4.join(df_2)"
   ]
  },
  {
   "cell_type": "code",
   "execution_count": 52,
   "metadata": {},
   "outputs": [],
   "source": [
    "tabla_4 = tabla_4.drop(['result_1', 'result_2'], axis = 1) #Eliminamos variables que no necesitamos"
   ]
  },
  {
   "cell_type": "code",
   "execution_count": 53,
   "metadata": {},
   "outputs": [
    {
     "name": "stdout",
     "output_type": "stream",
     "text": [
      "\t-> Creamos variables de año, mes y día a partir de Inspection date\n"
     ]
    }
   ],
   "source": [
    "print(\"\\t-> Creamos variables de año, mes y día a partir de Inspection date\")"
   ]
  },
  {
   "cell_type": "code",
   "execution_count": 54,
   "metadata": {},
   "outputs": [],
   "source": [
    "tabla_4['inspection_date'] = pd.to_datetime(tabla_4.inspection_date, format = '%m/%d/%Y')"
   ]
  },
  {
   "cell_type": "code",
   "execution_count": 55,
   "metadata": {},
   "outputs": [],
   "source": [
    "tabla_4['inspection_year'] = tabla_4['inspection_date'].dt.year"
   ]
  },
  {
   "cell_type": "code",
   "execution_count": 56,
   "metadata": {},
   "outputs": [],
   "source": [
    "tabla_4['inspection_month_name'] = tabla_4['inspection_date'].dt.month_name()"
   ]
  },
  {
   "cell_type": "code",
   "execution_count": 57,
   "metadata": {},
   "outputs": [],
   "source": [
    "tabla_4['inspection_day_name'] = tabla_4['inspection_date'].dt.day_name()"
   ]
  },
  {
   "cell_type": "code",
   "execution_count": 58,
   "metadata": {},
   "outputs": [
    {
     "name": "stdout",
     "output_type": "stream",
     "text": [
      "\t-> Eliminamos días festivos, sábado y domingo \n"
     ]
    }
   ],
   "source": [
    "print(\"\\t-> Eliminamos días festivos, sábado y domingo \")"
   ]
  },
  {
   "cell_type": "code",
   "execution_count": 59,
   "metadata": {},
   "outputs": [],
   "source": [
    "tabla_4 = tabla_4.drop(tabla_4.loc[tabla_4['inspection_day_name']== 'Saturday'].index)"
   ]
  },
  {
   "cell_type": "code",
   "execution_count": 60,
   "metadata": {},
   "outputs": [],
   "source": [
    "tabla_4 = tabla_4.drop(tabla_4.loc[tabla_4['inspection_day_name']== 'Sunday'].index)"
   ]
  },
  {
   "cell_type": "code",
   "execution_count": 61,
   "metadata": {},
   "outputs": [
    {
     "name": "stdout",
     "output_type": "stream",
     "text": [
      "\t-> Poner como primer columna center_id e inspection_date\n"
     ]
    }
   ],
   "source": [
    "print(\"\\t-> Poner como primer columna center_id e inspection_date\")"
   ]
  },
  {
   "cell_type": "code",
   "execution_count": 62,
   "metadata": {},
   "outputs": [],
   "source": [
    "tabla_4.rename(columns={'day_care_id':'center_id'}, inplace=True)"
   ]
  },
  {
   "cell_type": "code",
   "execution_count": 63,
   "metadata": {},
   "outputs": [],
   "source": [
    "def order(frame,var): \n",
    "    varlist =[w for w in frame.columns if w not in var] \n",
    "    frame = frame[var+varlist] \n",
    "    return frame"
   ]
  },
  {
   "cell_type": "code",
   "execution_count": 64,
   "metadata": {},
   "outputs": [],
   "source": [
    "tabla_4 = order(tabla_4,['center_id', 'inspection_date'])"
   ]
  },
  {
   "cell_type": "code",
   "execution_count": 65,
   "metadata": {},
   "outputs": [
    {
     "name": "stdout",
     "output_type": "stream",
     "text": [
      "\t-> Ordenamos la base por year, month y day en forma descendente\n"
     ]
    }
   ],
   "source": [
    "print(\"\\t-> Ordenamos la base por year, month y day en forma descendente\")"
   ]
  },
  {
   "cell_type": "code",
   "execution_count": 66,
   "metadata": {},
   "outputs": [],
   "source": [
    "tabla_4.sort_values(['inspection_date'], ascending=[False], inplace=True)"
   ]
  },
  {
   "cell_type": "code",
   "execution_count": 67,
   "metadata": {},
   "outputs": [
    {
     "name": "stdout",
     "output_type": "stream",
     "text": [
      "\t-> Creamos dummy = 1 si existió violación\n"
     ]
    }
   ],
   "source": [
    "print(\"\\t-> Creamos dummy = 1 si existió violación\")"
   ]
  },
  {
   "cell_type": "code",
   "execution_count": 68,
   "metadata": {},
   "outputs": [
    {
     "data": {
      "text/plain": [
       "NaN                     15493\n",
       "general                 12136\n",
       "critical                 8338\n",
       "public_health_hazard     3396\n",
       "Name: violation_category, dtype: int64"
      ]
     },
     "execution_count": 68,
     "metadata": {},
     "output_type": "execute_result"
    }
   ],
   "source": [
    "tabla_4.violation_category.value_counts(dropna=False)"
   ]
  },
  {
   "cell_type": "code",
   "execution_count": 69,
   "metadata": {},
   "outputs": [],
   "source": [
    "tabla_4['violation'] = tabla_4['violation_category'].apply(lambda x: not pd.isnull(x))"
   ]
  },
  {
   "cell_type": "code",
   "execution_count": 70,
   "metadata": {},
   "outputs": [],
   "source": [
    "tabla_4['violation'] = tabla_4['violation'].apply(lambda x: 1 if x == True else 0)"
   ]
  },
  {
   "cell_type": "code",
   "execution_count": 71,
   "metadata": {},
   "outputs": [
    {
     "data": {
      "text/plain": [
       "1    23870\n",
       "0    15493\n",
       "Name: violation, dtype: int64"
      ]
     },
     "execution_count": 71,
     "metadata": {},
     "output_type": "execute_result"
    }
   ],
   "source": [
    "tabla_4.violation.value_counts(dropna=False)"
   ]
  },
  {
   "cell_type": "code",
   "execution_count": 72,
   "metadata": {},
   "outputs": [
    {
     "name": "stdout",
     "output_type": "stream",
     "text": [
      "\t-> Creamos dummy = 1 si existió violación y es un problema de salud pública\n"
     ]
    }
   ],
   "source": [
    "print(\"\\t-> Creamos dummy = 1 si existió violación y es un problema de salud pública\")"
   ]
  },
  {
   "cell_type": "code",
   "execution_count": 73,
   "metadata": {},
   "outputs": [],
   "source": [
    "tabla_4['public_hazard'] = tabla_4['violation_category'].apply(lambda x: 1 if x == 'public_health_hazard' else 0)"
   ]
  },
  {
   "cell_type": "code",
   "execution_count": 74,
   "metadata": {},
   "outputs": [
    {
     "data": {
      "text/plain": [
       "0    35967\n",
       "1     3396\n",
       "Name: public_hazard, dtype: int64"
      ]
     },
     "execution_count": 74,
     "metadata": {},
     "output_type": "execute_result"
    }
   ],
   "source": [
    "tabla_4.public_hazard.value_counts(dropna=False)"
   ]
  },
  {
   "cell_type": "code",
   "execution_count": 75,
   "metadata": {},
   "outputs": [
    {
     "name": "stdout",
     "output_type": "stream",
     "text": [
      "\t-> Creamos la variable violaciones_hist_salud_publica: Número de violaciones de salud pública históricas (2016-2019) por centro\n"
     ]
    }
   ],
   "source": [
    "print(\"\\t-> Creamos la variable violaciones_hist_salud_publica: Número de violaciones de salud pública históricas (2016-2019) por centro\")"
   ]
  },
  {
   "cell_type": "code",
   "execution_count": 76,
   "metadata": {},
   "outputs": [],
   "source": [
    "tabla_4['violaciones_hist_salud_publica'] = tabla_4.public_hazard[(tabla_4.inspection_year != 2020)]"
   ]
  },
  {
   "cell_type": "code",
   "execution_count": 77,
   "metadata": {},
   "outputs": [],
   "source": [
    "df_4 = tabla_4.groupby('center_id').violaciones_hist_salud_publica.sum().reset_index()"
   ]
  },
  {
   "cell_type": "code",
   "execution_count": 78,
   "metadata": {},
   "outputs": [],
   "source": [
    "tabla_4 = pd.merge(left=tabla_4,right=df_4, how='left', left_on='center_id', right_on='center_id')"
   ]
  },
  {
   "cell_type": "code",
   "execution_count": 79,
   "metadata": {},
   "outputs": [],
   "source": [
    "tabla_4 = tabla_4.drop(['violaciones_hist_salud_publica_x'], axis=1) #Eliminamos la variable repetida"
   ]
  },
  {
   "cell_type": "code",
   "execution_count": 80,
   "metadata": {},
   "outputs": [],
   "source": [
    "tabla_4.rename(columns={'violaciones_hist_salud_publica_y':'violaciones_hist_salud_publica'}, inplace=True)"
   ]
  },
  {
   "cell_type": "code",
   "execution_count": 81,
   "metadata": {},
   "outputs": [
    {
     "name": "stdout",
     "output_type": "stream",
     "text": [
      "\t-> Creamos la variable violaciones_2019_salud_publica: Número de violaciones de salud pública en el 2019 por centro\n"
     ]
    }
   ],
   "source": [
    "print(\"\\t-> Creamos la variable violaciones_2019_salud_publica: Número de violaciones de salud pública en el 2019 por centro\")"
   ]
  },
  {
   "cell_type": "code",
   "execution_count": 82,
   "metadata": {},
   "outputs": [],
   "source": [
    "tabla_4['violaciones_2019_salud_publica'] = tabla_4.public_hazard[(tabla_4.inspection_year == 2019)]"
   ]
  },
  {
   "cell_type": "code",
   "execution_count": 83,
   "metadata": {},
   "outputs": [],
   "source": [
    "df_5 = tabla_4.groupby('center_id').violaciones_2019_salud_publica.sum().reset_index()"
   ]
  },
  {
   "cell_type": "code",
   "execution_count": 84,
   "metadata": {},
   "outputs": [],
   "source": [
    "tabla_4 = pd.merge(left=tabla_4,right=df_5, how='left', left_on='center_id', right_on='center_id')"
   ]
  },
  {
   "cell_type": "code",
   "execution_count": 85,
   "metadata": {},
   "outputs": [],
   "source": [
    "tabla_4 = tabla_4.drop(['violaciones_2019_salud_publica_x'], axis=1) #Eliminamos la variable repetida"
   ]
  },
  {
   "cell_type": "code",
   "execution_count": 86,
   "metadata": {},
   "outputs": [],
   "source": [
    "tabla_4.rename(columns={'violaciones_2019_salud_publica_y':'violaciones_2019_salud_publica'}, inplace=True)"
   ]
  },
  {
   "cell_type": "code",
   "execution_count": 87,
   "metadata": {},
   "outputs": [
    {
     "name": "stdout",
     "output_type": "stream",
     "text": [
      "\t-> Creamos la variable violaciones_hist_criticas: Número de violaciones críticas históricas anteriores (2016-2019) por centro\n"
     ]
    }
   ],
   "source": [
    "print(\"\\t-> Creamos la variable violaciones_hist_criticas: Número de violaciones críticas históricas anteriores (2016-2019) por centro\")"
   ]
  },
  {
   "cell_type": "code",
   "execution_count": 88,
   "metadata": {},
   "outputs": [],
   "source": [
    "tabla_4['violation_critical'] = tabla_4['violation_category'].apply(lambda x: 1 if x == 'critical' else 0)"
   ]
  },
  {
   "cell_type": "code",
   "execution_count": 89,
   "metadata": {},
   "outputs": [],
   "source": [
    "tabla_4['violaciones_hist_criticas'] = tabla_4.violation_critical[(tabla_4.inspection_year != 2020)]"
   ]
  },
  {
   "cell_type": "code",
   "execution_count": 90,
   "metadata": {},
   "outputs": [],
   "source": [
    "df_6 = tabla_4.groupby('center_id').violaciones_hist_criticas.sum().reset_index()"
   ]
  },
  {
   "cell_type": "code",
   "execution_count": 91,
   "metadata": {},
   "outputs": [],
   "source": [
    "tabla_4 = pd.merge(left=tabla_4,right=df_6, how='left', left_on='center_id', right_on='center_id')"
   ]
  },
  {
   "cell_type": "code",
   "execution_count": 92,
   "metadata": {},
   "outputs": [],
   "source": [
    "tabla_4 = tabla_4.drop(['violaciones_hist_criticas_x'], axis=1) #Eliminamos la variable repetida"
   ]
  },
  {
   "cell_type": "code",
   "execution_count": 93,
   "metadata": {},
   "outputs": [],
   "source": [
    "tabla_4.rename(columns={'violaciones_hist_criticas_y':'violaciones_hist_criticas'}, inplace=True)"
   ]
  },
  {
   "cell_type": "code",
   "execution_count": 94,
   "metadata": {},
   "outputs": [
    {
     "name": "stdout",
     "output_type": "stream",
     "text": [
      "\t-> Creamos la variable violaciones_2019_criticas: Número de violaciones críticas en el 2019 por centro\n"
     ]
    }
   ],
   "source": [
    "print(\"\\t-> Creamos la variable violaciones_2019_criticas: Número de violaciones críticas en el 2019 por centro\")"
   ]
  },
  {
   "cell_type": "code",
   "execution_count": 95,
   "metadata": {},
   "outputs": [],
   "source": [
    "tabla_4['violaciones_2019_criticas'] = tabla_4.violation_critical[(tabla_4.inspection_year == 2019)]"
   ]
  },
  {
   "cell_type": "code",
   "execution_count": 96,
   "metadata": {},
   "outputs": [],
   "source": [
    "df_7 = tabla_4.groupby('center_id').violaciones_2019_criticas.sum().reset_index()"
   ]
  },
  {
   "cell_type": "code",
   "execution_count": 97,
   "metadata": {},
   "outputs": [],
   "source": [
    "tabla_4 = pd.merge(left=tabla_4,right=df_7, how='left', left_on='center_id', right_on='center_id')"
   ]
  },
  {
   "cell_type": "code",
   "execution_count": 98,
   "metadata": {},
   "outputs": [],
   "source": [
    "tabla_4 = tabla_4.drop(['violaciones_2019_criticas_x'], axis=1) #Eliminamos la variable repetida"
   ]
  },
  {
   "cell_type": "code",
   "execution_count": 99,
   "metadata": {},
   "outputs": [],
   "source": [
    "tabla_4.rename(columns={'violaciones_2019_criticas_y':'violaciones_2019_criticas'}, inplace=True)"
   ]
  },
  {
   "cell_type": "code",
   "execution_count": 100,
   "metadata": {},
   "outputs": [
    {
     "name": "stdout",
     "output_type": "stream",
     "text": [
      "\t-> Creamos la variable ratio_violaciones_hist: Número de inspecciones en total de primera vez que resultaron en violación crítica o de salud pública/ número de inspecciones de primera vez por centro\n"
     ]
    }
   ],
   "source": [
    "print(\"\\t-> Creamos la variable ratio_violaciones_hist: Número de inspecciones en total de primera vez que resultaron en violación crítica o de salud pública/ número de inspecciones de primera vez por centro\")"
   ]
  },
  {
   "cell_type": "code",
   "execution_count": 101,
   "metadata": {},
   "outputs": [],
   "source": [
    "df_8 = tabla_4.loc[tabla_4['inspection_year'] != 2020]"
   ]
  },
  {
   "cell_type": "code",
   "execution_count": 102,
   "metadata": {},
   "outputs": [],
   "source": [
    "df_9 = df_8[df_8.violation_category.isin(['critical', 'public_health_hazard']) & df_8['initial_annual_inspection']==1]"
   ]
  },
  {
   "cell_type": "code",
   "execution_count": 103,
   "metadata": {},
   "outputs": [],
   "source": [
    "df_10 = df_9.groupby('center_id').initial_annual_inspection.sum().reset_index()"
   ]
  },
  {
   "cell_type": "code",
   "execution_count": 104,
   "metadata": {},
   "outputs": [],
   "source": [
    "df_11 = tabla_4.groupby('center_id').initial_annual_inspection.sum().reset_index()"
   ]
  },
  {
   "cell_type": "code",
   "execution_count": 105,
   "metadata": {},
   "outputs": [],
   "source": [
    "df_12 = pd.merge(left=df_11,right=df_10, how='left', left_on='center_id', right_on='center_id')"
   ]
  },
  {
   "cell_type": "code",
   "execution_count": 106,
   "metadata": {},
   "outputs": [],
   "source": [
    "df_12['ratio_violaciones_hist'] = df_12['initial_annual_inspection_y'] / df_12['initial_annual_inspection_x']"
   ]
  },
  {
   "cell_type": "code",
   "execution_count": 107,
   "metadata": {},
   "outputs": [],
   "source": [
    "tabla_4 = pd.merge(left=tabla_4,right=df_12, how='left', left_on='center_id', right_on='center_id')"
   ]
  },
  {
   "cell_type": "code",
   "execution_count": 108,
   "metadata": {},
   "outputs": [],
   "source": [
    "tabla_4 = tabla_4.drop(['initial_annual_inspection_x', 'initial_annual_inspection_y'], axis=1) #Eliminamos variables que no necesitamos "
   ]
  },
  {
   "cell_type": "code",
   "execution_count": 109,
   "metadata": {},
   "outputs": [
    {
     "name": "stdout",
     "output_type": "stream",
     "text": [
      "\t-> Creamos la variable ratio_violaciones_2019: Número de inspecciones en total de primera vez que resultaron en violación crítica o de salud pública en el 2019 / número de inspecciones de primera vez por centro\n"
     ]
    }
   ],
   "source": [
    "print(\"\\t-> Creamos la variable ratio_violaciones_2019: Número de inspecciones en total de primera vez que resultaron en violación crítica o de salud pública en el 2019 / número de inspecciones de primera vez por centro\")"
   ]
  },
  {
   "cell_type": "code",
   "execution_count": 110,
   "metadata": {},
   "outputs": [],
   "source": [
    "df_13 = tabla_4.loc[tabla_4['inspection_year'] == 2019]"
   ]
  },
  {
   "cell_type": "code",
   "execution_count": 111,
   "metadata": {},
   "outputs": [],
   "source": [
    "df_14 = df_13[df_13.violation_category.isin(['critical', 'public_health_hazard']) & df_13['initial_annual_inspection']==1]"
   ]
  },
  {
   "cell_type": "code",
   "execution_count": 112,
   "metadata": {},
   "outputs": [],
   "source": [
    "df_15 = df_14.groupby('center_id').initial_annual_inspection.sum().reset_index()"
   ]
  },
  {
   "cell_type": "code",
   "execution_count": 113,
   "metadata": {},
   "outputs": [],
   "source": [
    "df_16 = pd.merge(left=df_11,right=df_15, how='left', left_on='center_id', right_on='center_id')"
   ]
  },
  {
   "cell_type": "code",
   "execution_count": 114,
   "metadata": {},
   "outputs": [],
   "source": [
    "df_16['ratio_violaciones_2019'] = df_16['initial_annual_inspection_y'] / df_16['initial_annual_inspection_x']"
   ]
  },
  {
   "cell_type": "code",
   "execution_count": 115,
   "metadata": {},
   "outputs": [],
   "source": [
    "tabla_4 = pd.merge(left=tabla_4,right=df_16, how='left', left_on='center_id', right_on='center_id')"
   ]
  },
  {
   "cell_type": "code",
   "execution_count": 116,
   "metadata": {},
   "outputs": [],
   "source": [
    "tabla_4 = tabla_4.drop(['initial_annual_inspection_x','initial_annual_inspection_y'], axis=1) #Eliminamos variables que no necesitamos "
   ]
  },
  {
   "cell_type": "code",
   "execution_count": 117,
   "metadata": {},
   "outputs": [
    {
     "name": "stdout",
     "output_type": "stream",
     "text": [
      "\t-> Creamos la variable prom_violaciones_hist_borough: Promedio de violaciones históricas por distrito\n"
     ]
    }
   ],
   "source": [
    "print(\"\\t-> Creamos la variable prom_violaciones_hist_borough: Promedio de violaciones históricas por distrito\")"
   ]
  },
  {
   "cell_type": "code",
   "execution_count": 118,
   "metadata": {},
   "outputs": [],
   "source": [
    "df_17 = tabla_4.loc[tabla_4['inspection_year'] != 2020]"
   ]
  },
  {
   "cell_type": "code",
   "execution_count": 119,
   "metadata": {},
   "outputs": [],
   "source": [
    "df_18 = df_17.groupby('borough').violation.mean().reset_index()"
   ]
  },
  {
   "cell_type": "code",
   "execution_count": 120,
   "metadata": {},
   "outputs": [],
   "source": [
    "tabla_4 = pd.merge(left=tabla_4,right=df_18, how='left', left_on='borough', right_on='borough')"
   ]
  },
  {
   "cell_type": "code",
   "execution_count": 121,
   "metadata": {},
   "outputs": [],
   "source": [
    "tabla_4.rename(columns={'violation_y':'prom_violaciones_hist_borough'}, inplace=True)"
   ]
  },
  {
   "cell_type": "code",
   "execution_count": 122,
   "metadata": {},
   "outputs": [],
   "source": [
    "tabla_4.rename(columns={'violation_x':'violation'}, inplace=True)"
   ]
  },
  {
   "cell_type": "code",
   "execution_count": 123,
   "metadata": {},
   "outputs": [
    {
     "name": "stdout",
     "output_type": "stream",
     "text": [
      "\t-> Creamos la variable prom_violaciones_2019_borough: Promedio de violaciones en el 2019 por distrito\n"
     ]
    }
   ],
   "source": [
    "print(\"\\t-> Creamos la variable prom_violaciones_2019_borough: Promedio de violaciones en el 2019 por distrito\")"
   ]
  },
  {
   "cell_type": "code",
   "execution_count": 124,
   "metadata": {},
   "outputs": [],
   "source": [
    "df_19 = tabla_4.loc[tabla_4['inspection_year'] == 2019]"
   ]
  },
  {
   "cell_type": "code",
   "execution_count": 125,
   "metadata": {},
   "outputs": [],
   "source": [
    "df_20 = df_19.groupby('borough').violation.mean().reset_index()"
   ]
  },
  {
   "cell_type": "code",
   "execution_count": 126,
   "metadata": {},
   "outputs": [],
   "source": [
    "tabla_4 = pd.merge(left=tabla_4,right=df_20, how='left', left_on='borough', right_on='borough')"
   ]
  },
  {
   "cell_type": "code",
   "execution_count": 127,
   "metadata": {},
   "outputs": [],
   "source": [
    "tabla_4.rename(columns={'violation_y':'prom_violaciones_2019_borough'}, inplace=True)"
   ]
  },
  {
   "cell_type": "code",
   "execution_count": 128,
   "metadata": {},
   "outputs": [],
   "source": [
    "tabla_4.rename(columns={'violation_x':'violation'}, inplace=True)"
   ]
  },
  {
   "cell_type": "code",
   "execution_count": 129,
   "metadata": {},
   "outputs": [
    {
     "name": "stdout",
     "output_type": "stream",
     "text": [
      "\t-> Creamos la variable ratio_violaciones_hist_sp: Número de violaciones de salud pública de primera vez por centro históricas (2017-2019)/ número de violaciones de primera vez de todo tipo por centro históricas (2017-2019) \n"
     ]
    }
   ],
   "source": [
    "print(\"\\t-> Creamos la variable ratio_violaciones_hist_sp: Número de violaciones de salud pública de primera vez por centro históricas (2017-2019)/ número de violaciones de primera vez de todo tipo por centro históricas (2017-2019) \")"
   ]
  },
  {
   "cell_type": "code",
   "execution_count": 130,
   "metadata": {},
   "outputs": [],
   "source": [
    "df_21 = tabla_4.loc[tabla_4['inspection_year'] != 2020]"
   ]
  },
  {
   "cell_type": "code",
   "execution_count": 131,
   "metadata": {},
   "outputs": [],
   "source": [
    "df_22 = df_21.loc[df_21['initial_annual_inspection'] == 1]"
   ]
  },
  {
   "cell_type": "code",
   "execution_count": 132,
   "metadata": {},
   "outputs": [],
   "source": [
    "df_23 = df_22.groupby('center_id').public_hazard.sum().reset_index()"
   ]
  },
  {
   "cell_type": "code",
   "execution_count": 133,
   "metadata": {},
   "outputs": [],
   "source": [
    "df_24 = df_22.groupby('center_id').violation.sum().reset_index()"
   ]
  },
  {
   "cell_type": "code",
   "execution_count": 134,
   "metadata": {},
   "outputs": [],
   "source": [
    "df_25 = pd.merge(left=df_23,right=df_24, how='left', left_on='center_id', right_on='center_id')"
   ]
  },
  {
   "cell_type": "code",
   "execution_count": 135,
   "metadata": {},
   "outputs": [],
   "source": [
    "df_25['ratio_violaciones_hist_sp'] = df_25['public_hazard'] / df_25['violation']"
   ]
  },
  {
   "cell_type": "code",
   "execution_count": 136,
   "metadata": {},
   "outputs": [],
   "source": [
    "tabla_4 = pd.merge(left=tabla_4,right=df_25, how='left', left_on='center_id', right_on='center_id')"
   ]
  },
  {
   "cell_type": "code",
   "execution_count": 137,
   "metadata": {},
   "outputs": [],
   "source": [
    "tabla_4 = tabla_4.drop(['public_hazard_y','violation_y'], axis=1) #Eliminamos variables que no necesitamos "
   ]
  },
  {
   "cell_type": "code",
   "execution_count": 138,
   "metadata": {},
   "outputs": [],
   "source": [
    "tabla_4.rename(columns={'violation_x':'violation'}, inplace=True)"
   ]
  },
  {
   "cell_type": "code",
   "execution_count": 139,
   "metadata": {},
   "outputs": [],
   "source": [
    "tabla_4.rename(columns={'public_hazard_x':'public_hazard'}, inplace=True)"
   ]
  },
  {
   "cell_type": "code",
   "execution_count": 140,
   "metadata": {},
   "outputs": [
    {
     "name": "stdout",
     "output_type": "stream",
     "text": [
      "\t-> Creamos la variable ratio_violaciones_2019_sp: Número de violaciones de salud pública de primera vez por centro en el 2019 / número de violaciones de primera vez de todo tipo por centro en el 2019 \n"
     ]
    }
   ],
   "source": [
    "print(\"\\t-> Creamos la variable ratio_violaciones_2019_sp: Número de violaciones de salud pública de primera vez por centro en el 2019 / número de violaciones de primera vez de todo tipo por centro en el 2019 \")"
   ]
  },
  {
   "cell_type": "code",
   "execution_count": 141,
   "metadata": {},
   "outputs": [],
   "source": [
    "df_26 = tabla_4.loc[tabla_4['inspection_year'] == 2019]"
   ]
  },
  {
   "cell_type": "code",
   "execution_count": 142,
   "metadata": {},
   "outputs": [],
   "source": [
    "df_27 = df_26.loc[df_26['initial_annual_inspection'] == 1]"
   ]
  },
  {
   "cell_type": "code",
   "execution_count": 143,
   "metadata": {},
   "outputs": [],
   "source": [
    "df_28 = df_27.groupby('center_id').public_hazard.sum().reset_index()"
   ]
  },
  {
   "cell_type": "code",
   "execution_count": 144,
   "metadata": {},
   "outputs": [],
   "source": [
    "df_29 = df_27.groupby('center_id').violation.sum().reset_index()"
   ]
  },
  {
   "cell_type": "code",
   "execution_count": 145,
   "metadata": {},
   "outputs": [],
   "source": [
    "df_30 = pd.merge(left=df_28,right=df_29, how='left', left_on='center_id', right_on='center_id')"
   ]
  },
  {
   "cell_type": "code",
   "execution_count": 146,
   "metadata": {},
   "outputs": [],
   "source": [
    "df_30['ratio_violaciones_2019_sp'] = df_30['public_hazard'] / df_30['violation']"
   ]
  },
  {
   "cell_type": "code",
   "execution_count": 147,
   "metadata": {},
   "outputs": [],
   "source": [
    "tabla_4 = pd.merge(left=tabla_4,right=df_30, how='left', left_on='center_id', right_on='center_id')"
   ]
  },
  {
   "cell_type": "code",
   "execution_count": 148,
   "metadata": {},
   "outputs": [],
   "source": [
    "tabla_4 = tabla_4.drop(['public_hazard_y','violation_y'], axis=1) #Eliminamos variables que no necesitamos "
   ]
  },
  {
   "cell_type": "code",
   "execution_count": 149,
   "metadata": {},
   "outputs": [],
   "source": [
    "tabla_4.rename(columns={'violation_x':'violation'}, inplace=True)"
   ]
  },
  {
   "cell_type": "code",
   "execution_count": 150,
   "metadata": {},
   "outputs": [],
   "source": [
    "tabla_4.rename(columns={'public_hazard_x':'public_hazard'}, inplace=True)"
   ]
  },
  {
   "cell_type": "code",
   "execution_count": 151,
   "metadata": {},
   "outputs": [
    {
     "name": "stdout",
     "output_type": "stream",
     "text": [
      "\t-> Creamos la variable ratio_violaciones_hist_criticas: Número de violaciones críticas de primera vez por centro históricas (2017-2019)/ número de violaciones de primera vez de todo tipo por centro históricas (2017-2019)\n"
     ]
    }
   ],
   "source": [
    "print(\"\\t-> Creamos la variable ratio_violaciones_hist_criticas: Número de violaciones críticas de primera vez por centro históricas (2017-2019)/ número de violaciones de primera vez de todo tipo por centro históricas (2017-2019)\")"
   ]
  },
  {
   "cell_type": "code",
   "execution_count": 152,
   "metadata": {},
   "outputs": [],
   "source": [
    "df_31 = tabla_4.loc[tabla_4['inspection_year'] != 2020]"
   ]
  },
  {
   "cell_type": "code",
   "execution_count": 153,
   "metadata": {},
   "outputs": [],
   "source": [
    "df_32 = df_31.loc[df_31['initial_annual_inspection'] == 1]"
   ]
  },
  {
   "cell_type": "code",
   "execution_count": 154,
   "metadata": {},
   "outputs": [],
   "source": [
    "df_33 = df_32.groupby('center_id').violation_critical.sum().reset_index()"
   ]
  },
  {
   "cell_type": "code",
   "execution_count": 155,
   "metadata": {},
   "outputs": [],
   "source": [
    "df_34 = df_32.groupby('center_id').violation.sum().reset_index()"
   ]
  },
  {
   "cell_type": "code",
   "execution_count": 156,
   "metadata": {},
   "outputs": [],
   "source": [
    "df_35 = pd.merge(left=df_33,right=df_34, how='left', left_on='center_id', right_on='center_id')"
   ]
  },
  {
   "cell_type": "code",
   "execution_count": 157,
   "metadata": {},
   "outputs": [],
   "source": [
    "df_35['ratio_violaciones_hist_criticas'] = df_35['violation_critical'] / df_35['violation']"
   ]
  },
  {
   "cell_type": "code",
   "execution_count": 158,
   "metadata": {},
   "outputs": [],
   "source": [
    "tabla_4 = pd.merge(left=tabla_4,right=df_35, how='left', left_on='center_id', right_on='center_id')"
   ]
  },
  {
   "cell_type": "code",
   "execution_count": 159,
   "metadata": {},
   "outputs": [],
   "source": [
    "tabla_4 = tabla_4.drop(['violation_critical_y','violation_y'], axis=1) #Eliminamos variables que no necesitamos "
   ]
  },
  {
   "cell_type": "code",
   "execution_count": 160,
   "metadata": {},
   "outputs": [],
   "source": [
    "tabla_4.rename(columns={'violation_x':'violation'}, inplace=True)"
   ]
  },
  {
   "cell_type": "code",
   "execution_count": 161,
   "metadata": {},
   "outputs": [],
   "source": [
    "tabla_4.rename(columns={'violation_critical_x':'violation_critical'}, inplace=True)"
   ]
  },
  {
   "cell_type": "code",
   "execution_count": 162,
   "metadata": {},
   "outputs": [
    {
     "name": "stdout",
     "output_type": "stream",
     "text": [
      "\t-> Creamos la variable ratio_violaciones_2019_criticas: Número de violaciones críticas de primera vez por centro en el 2019/ número de violaciones de primera vez de todo tipo por centro en el 2019\n"
     ]
    }
   ],
   "source": [
    "print(\"\\t-> Creamos la variable ratio_violaciones_2019_criticas: Número de violaciones críticas de primera vez por centro en el 2019/ número de violaciones de primera vez de todo tipo por centro en el 2019\")"
   ]
  },
  {
   "cell_type": "code",
   "execution_count": 163,
   "metadata": {},
   "outputs": [],
   "source": [
    "df_36 = tabla_4.loc[tabla_4['inspection_year'] == 2019]"
   ]
  },
  {
   "cell_type": "code",
   "execution_count": 164,
   "metadata": {},
   "outputs": [],
   "source": [
    "df_37 = df_36.loc[df_36['initial_annual_inspection'] == 1]"
   ]
  },
  {
   "cell_type": "code",
   "execution_count": 165,
   "metadata": {},
   "outputs": [],
   "source": [
    "df_38 = df_37.groupby('center_id').violation_critical.sum().reset_index()"
   ]
  },
  {
   "cell_type": "code",
   "execution_count": 166,
   "metadata": {},
   "outputs": [],
   "source": [
    "df_39 = df_37.groupby('center_id').violation.sum().reset_index()"
   ]
  },
  {
   "cell_type": "code",
   "execution_count": 167,
   "metadata": {},
   "outputs": [],
   "source": [
    "df_40 = pd.merge(left=df_38,right=df_39, how='left', left_on='center_id', right_on='center_id')"
   ]
  },
  {
   "cell_type": "code",
   "execution_count": 168,
   "metadata": {},
   "outputs": [],
   "source": [
    "df_40['ratio_violaciones_2019_criticas'] = df_40['violation_critical'] / df_40['violation']"
   ]
  },
  {
   "cell_type": "code",
   "execution_count": 169,
   "metadata": {},
   "outputs": [],
   "source": [
    "tabla_4 = pd.merge(left=tabla_4,right=df_40, how='left', left_on='center_id', right_on='center_id')"
   ]
  },
  {
   "cell_type": "code",
   "execution_count": 170,
   "metadata": {},
   "outputs": [],
   "source": [
    "tabla_4 = tabla_4.drop(['violation_critical_y','violation_y'], axis=1) #Eliminamos variables que no necesitamos "
   ]
  },
  {
   "cell_type": "code",
   "execution_count": 171,
   "metadata": {},
   "outputs": [],
   "source": [
    "tabla_4.rename(columns={'violation_x':'violation'}, inplace=True)"
   ]
  },
  {
   "cell_type": "code",
   "execution_count": 172,
   "metadata": {},
   "outputs": [],
   "source": [
    "tabla_4.rename(columns={'violation_critical_x':'violation_critical'}, inplace=True)"
   ]
  },
  {
   "cell_type": "code",
   "execution_count": 173,
   "metadata": {},
   "outputs": [
    {
     "name": "stdout",
     "output_type": "stream",
     "text": [
      "<class 'pandas.core.frame.DataFrame'>\n",
      "Int64Index: 39363 entries, 0 to 39362\n",
      "Data columns (total 33 columns):\n",
      " #   Column                                               Non-Null Count  Dtype         \n",
      "---  ------                                               --------------  -----         \n",
      " 0   center_id                                            39363 non-null  object        \n",
      " 1   inspection_date                                      39307 non-null  datetime64[ns]\n",
      " 2   borough                                              39363 non-null  object        \n",
      " 3   violation_category                                   23870 non-null  object        \n",
      " 4   initial_annual_inspection                            39363 non-null  int64         \n",
      " 5   result_1_None                                        39363 non-null  uint8         \n",
      " 6   result_1_passed_inspection                           39363 non-null  uint8         \n",
      " 7   result_1_passed_inspection_with_no_violations        39363 non-null  uint8         \n",
      " 8   result_1_previously_cited_violations_corrected       39363 non-null  uint8         \n",
      " 9   result_1_previously_closed_program_re-opened         39363 non-null  uint8         \n",
      " 10  result_1_reinspection_not_required                   39363 non-null  uint8         \n",
      " 11  result_1_reinspection_required                       39363 non-null  uint8         \n",
      " 12  result_2_fines_pending                               39363 non-null  uint8         \n",
      " 13  result_2_program_closed                              39363 non-null  uint8         \n",
      " 14  result_2_violations_corrected_at_time_of_inspection  39363 non-null  uint8         \n",
      " 15  inspection_year                                      39307 non-null  float64       \n",
      " 16  inspection_month_name                                39307 non-null  object        \n",
      " 17  inspection_day_name                                  39307 non-null  object        \n",
      " 18  violation                                            39363 non-null  int64         \n",
      " 19  public_hazard                                        39363 non-null  int64         \n",
      " 20  violaciones_hist_salud_publica                       39363 non-null  float64       \n",
      " 21  violaciones_2019_salud_publica                       39363 non-null  float64       \n",
      " 22  violation_critical                                   39363 non-null  int64         \n",
      " 23  violaciones_hist_criticas                            39363 non-null  float64       \n",
      " 24  violaciones_2019_criticas                            39363 non-null  float64       \n",
      " 25  ratio_violaciones_hist                               31157 non-null  float64       \n",
      " 26  ratio_violaciones_2019                               18658 non-null  float64       \n",
      " 27  prom_violaciones_hist_borough                        39363 non-null  float64       \n",
      " 28  prom_violaciones_2019_borough                        39363 non-null  float64       \n",
      " 29  ratio_violaciones_hist_sp                            35854 non-null  float64       \n",
      " 30  ratio_violaciones_2019_sp                            26778 non-null  float64       \n",
      " 31  ratio_violaciones_hist_criticas                      35854 non-null  float64       \n",
      " 32  ratio_violaciones_2019_criticas                      26778 non-null  float64       \n",
      "dtypes: datetime64[ns](1), float64(13), int64(4), object(5), uint8(10)\n",
      "memory usage: 7.6+ MB\n"
     ]
    }
   ],
   "source": [
    "tabla_4.info()"
   ]
  },
  {
   "cell_type": "code",
   "execution_count": 174,
   "metadata": {},
   "outputs": [],
   "source": [
    "tabla_5 = tabla_4.join(tabla_3, lsuffix='_caller', rsuffix='_other')"
   ]
  },
  {
   "cell_type": "code",
   "execution_count": 175,
   "metadata": {},
   "outputs": [
    {
     "name": "stdout",
     "output_type": "stream",
     "text": [
      "<class 'pandas.core.frame.DataFrame'>\n",
      "Int64Index: 39363 entries, 0 to 39362\n",
      "Data columns (total 71 columns):\n",
      " #   Column                                               Non-Null Count  Dtype         \n",
      "---  ------                                               --------------  -----         \n",
      " 0   center_id                                            39363 non-null  object        \n",
      " 1   inspection_date                                      39307 non-null  datetime64[ns]\n",
      " 2   borough                                              39363 non-null  object        \n",
      " 3   violation_category                                   23870 non-null  object        \n",
      " 4   initial_annual_inspection                            39363 non-null  int64         \n",
      " 5   result_1_None                                        39363 non-null  uint8         \n",
      " 6   result_1_passed_inspection                           39363 non-null  uint8         \n",
      " 7   result_1_passed_inspection_with_no_violations        39363 non-null  uint8         \n",
      " 8   result_1_previously_cited_violations_corrected       39363 non-null  uint8         \n",
      " 9   result_1_previously_closed_program_re-opened         39363 non-null  uint8         \n",
      " 10  result_1_reinspection_not_required                   39363 non-null  uint8         \n",
      " 11  result_1_reinspection_required                       39363 non-null  uint8         \n",
      " 12  result_2_fines_pending                               39363 non-null  uint8         \n",
      " 13  result_2_program_closed                              39363 non-null  uint8         \n",
      " 14  result_2_violations_corrected_at_time_of_inspection  39363 non-null  uint8         \n",
      " 15  inspection_year                                      39307 non-null  float64       \n",
      " 16  inspection_month_name                                39307 non-null  object        \n",
      " 17  inspection_day_name                                  39307 non-null  object        \n",
      " 18  violation                                            39363 non-null  int64         \n",
      " 19  public_hazard                                        39363 non-null  int64         \n",
      " 20  violaciones_hist_salud_publica                       39363 non-null  float64       \n",
      " 21  violaciones_2019_salud_publica                       39363 non-null  float64       \n",
      " 22  violation_critical                                   39363 non-null  int64         \n",
      " 23  violaciones_hist_criticas                            39363 non-null  float64       \n",
      " 24  violaciones_2019_criticas                            39363 non-null  float64       \n",
      " 25  ratio_violaciones_hist                               31157 non-null  float64       \n",
      " 26  ratio_violaciones_2019                               18658 non-null  float64       \n",
      " 27  prom_violaciones_hist_borough                        39363 non-null  float64       \n",
      " 28  prom_violaciones_2019_borough                        39363 non-null  float64       \n",
      " 29  ratio_violaciones_hist_sp                            35854 non-null  float64       \n",
      " 30  ratio_violaciones_2019_sp                            26778 non-null  float64       \n",
      " 31  ratio_violaciones_hist_criticas                      35854 non-null  float64       \n",
      " 32  ratio_violaciones_2019_criticas                      26778 non-null  float64       \n",
      " 33  center_name                                          2955 non-null   object        \n",
      " 34  legal_name                                           2955 non-null   object        \n",
      " 35  building                                             2953 non-null   object        \n",
      " 36  street                                               2955 non-null   object        \n",
      " 37  zipcode                                              2949 non-null   float64       \n",
      " 38  phone                                                2950 non-null   object        \n",
      " 39  permit_number                                        2518 non-null   float64       \n",
      " 40  permit_expiration                                    2955 non-null   object        \n",
      " 41  status                                               2955 non-null   object        \n",
      " 42  age_range                                            2823 non-null   object        \n",
      " 43  maximum_capacity                                     2955 non-null   float64       \n",
      " 44  day_care_id                                          2955 non-null   object        \n",
      " 45  child_care_type                                      2955 non-null   object        \n",
      " 46  building_identification_number                       2955 non-null   float64       \n",
      " 47  url                                                  1514 non-null   object        \n",
      " 48  date_permitted                                       2478 non-null   object        \n",
      " 49  actual                                               2478 non-null   object        \n",
      " 50  violation_rate_percent                               2892 non-null   float64       \n",
      " 51  average_violation_rate_percent                       2890 non-null   float64       \n",
      " 52  total_educational_workers                            2955 non-null   float64       \n",
      " 53  average_total_educational_workers                    2955 non-null   float64       \n",
      " 54  public_health_hazard_violation_rate                  2892 non-null   float64       \n",
      " 55  average_public_health_hazard_violation_rate          2890 non-null   float64       \n",
      " 56  critical_violation_rate                              2892 non-null   float64       \n",
      " 57  average_critical_violation_rate                      2890 non-null   float64       \n",
      " 58  program_type_all_age_camp                            2955 non-null   float64       \n",
      " 59  program_type_infant_toddler                          2955 non-null   float64       \n",
      " 60  program_type_preschool                               2955 non-null   float64       \n",
      " 61  program_type_preschool_camp                          2955 non-null   float64       \n",
      " 62  program_type_school_age_camp                         2955 non-null   float64       \n",
      " 63  facility_type_camp                                   2955 non-null   float64       \n",
      " 64  facility_type_gdc                                    2955 non-null   float64       \n",
      " 65  facility_type_sbcc                                   2955 non-null   float64       \n",
      " 66  borough_bronx                                        2955 non-null   float64       \n",
      " 67  borough_brooklyn                                     2955 non-null   float64       \n",
      " 68  borough_manhattan                                    2955 non-null   float64       \n",
      " 69  borough_queens                                       2955 non-null   float64       \n",
      " 70  borough_staten_island                                2955 non-null   float64       \n",
      "dtypes: datetime64[ns](1), float64(38), int64(4), object(18), uint8(10)\n",
      "memory usage: 20.2+ MB\n"
     ]
    }
   ],
   "source": [
    "tabla_5.info()"
   ]
  },
  {
   "cell_type": "code",
   "execution_count": 176,
   "metadata": {},
   "outputs": [],
   "source": [
    "tabla_5 = tabla_5.set_index(['center_id', 'inspection_date'])"
   ]
  },
  {
   "cell_type": "code",
   "execution_count": 177,
   "metadata": {},
   "outputs": [
    {
     "name": "stdout",
     "output_type": "stream",
     "text": [
      "<class 'pandas.core.frame.DataFrame'>\n",
      "MultiIndex: 39363 entries, ('dc11190', Timestamp('2020-04-09 00:00:00')) to ('dc38414', nan)\n",
      "Data columns (total 69 columns):\n",
      " #   Column                                               Non-Null Count  Dtype  \n",
      "---  ------                                               --------------  -----  \n",
      " 0   borough                                              39363 non-null  object \n",
      " 1   violation_category                                   23870 non-null  object \n",
      " 2   initial_annual_inspection                            39363 non-null  int64  \n",
      " 3   result_1_None                                        39363 non-null  uint8  \n",
      " 4   result_1_passed_inspection                           39363 non-null  uint8  \n",
      " 5   result_1_passed_inspection_with_no_violations        39363 non-null  uint8  \n",
      " 6   result_1_previously_cited_violations_corrected       39363 non-null  uint8  \n",
      " 7   result_1_previously_closed_program_re-opened         39363 non-null  uint8  \n",
      " 8   result_1_reinspection_not_required                   39363 non-null  uint8  \n",
      " 9   result_1_reinspection_required                       39363 non-null  uint8  \n",
      " 10  result_2_fines_pending                               39363 non-null  uint8  \n",
      " 11  result_2_program_closed                              39363 non-null  uint8  \n",
      " 12  result_2_violations_corrected_at_time_of_inspection  39363 non-null  uint8  \n",
      " 13  inspection_year                                      39307 non-null  float64\n",
      " 14  inspection_month_name                                39307 non-null  object \n",
      " 15  inspection_day_name                                  39307 non-null  object \n",
      " 16  violation                                            39363 non-null  int64  \n",
      " 17  public_hazard                                        39363 non-null  int64  \n",
      " 18  violaciones_hist_salud_publica                       39363 non-null  float64\n",
      " 19  violaciones_2019_salud_publica                       39363 non-null  float64\n",
      " 20  violation_critical                                   39363 non-null  int64  \n",
      " 21  violaciones_hist_criticas                            39363 non-null  float64\n",
      " 22  violaciones_2019_criticas                            39363 non-null  float64\n",
      " 23  ratio_violaciones_hist                               31157 non-null  float64\n",
      " 24  ratio_violaciones_2019                               18658 non-null  float64\n",
      " 25  prom_violaciones_hist_borough                        39363 non-null  float64\n",
      " 26  prom_violaciones_2019_borough                        39363 non-null  float64\n",
      " 27  ratio_violaciones_hist_sp                            35854 non-null  float64\n",
      " 28  ratio_violaciones_2019_sp                            26778 non-null  float64\n",
      " 29  ratio_violaciones_hist_criticas                      35854 non-null  float64\n",
      " 30  ratio_violaciones_2019_criticas                      26778 non-null  float64\n",
      " 31  center_name                                          2955 non-null   object \n",
      " 32  legal_name                                           2955 non-null   object \n",
      " 33  building                                             2953 non-null   object \n",
      " 34  street                                               2955 non-null   object \n",
      " 35  zipcode                                              2949 non-null   float64\n",
      " 36  phone                                                2950 non-null   object \n",
      " 37  permit_number                                        2518 non-null   float64\n",
      " 38  permit_expiration                                    2955 non-null   object \n",
      " 39  status                                               2955 non-null   object \n",
      " 40  age_range                                            2823 non-null   object \n",
      " 41  maximum_capacity                                     2955 non-null   float64\n",
      " 42  day_care_id                                          2955 non-null   object \n",
      " 43  child_care_type                                      2955 non-null   object \n",
      " 44  building_identification_number                       2955 non-null   float64\n",
      " 45  url                                                  1514 non-null   object \n",
      " 46  date_permitted                                       2478 non-null   object \n",
      " 47  actual                                               2478 non-null   object \n",
      " 48  violation_rate_percent                               2892 non-null   float64\n",
      " 49  average_violation_rate_percent                       2890 non-null   float64\n",
      " 50  total_educational_workers                            2955 non-null   float64\n",
      " 51  average_total_educational_workers                    2955 non-null   float64\n",
      " 52  public_health_hazard_violation_rate                  2892 non-null   float64\n",
      " 53  average_public_health_hazard_violation_rate          2890 non-null   float64\n",
      " 54  critical_violation_rate                              2892 non-null   float64\n",
      " 55  average_critical_violation_rate                      2890 non-null   float64\n",
      " 56  program_type_all_age_camp                            2955 non-null   float64\n",
      " 57  program_type_infant_toddler                          2955 non-null   float64\n",
      " 58  program_type_preschool                               2955 non-null   float64\n",
      " 59  program_type_preschool_camp                          2955 non-null   float64\n",
      " 60  program_type_school_age_camp                         2955 non-null   float64\n",
      " 61  facility_type_camp                                   2955 non-null   float64\n",
      " 62  facility_type_gdc                                    2955 non-null   float64\n",
      " 63  facility_type_sbcc                                   2955 non-null   float64\n",
      " 64  borough_bronx                                        2955 non-null   float64\n",
      " 65  borough_brooklyn                                     2955 non-null   float64\n",
      " 66  borough_manhattan                                    2955 non-null   float64\n",
      " 67  borough_queens                                       2955 non-null   float64\n",
      " 68  borough_staten_island                                2955 non-null   float64\n",
      "dtypes: float64(38), int64(4), object(17), uint8(10)\n",
      "memory usage: 18.3+ MB\n"
     ]
    }
   ],
   "source": [
    "tabla_5.info()"
   ]
  },
  {
   "cell_type": "code",
   "execution_count": 178,
   "metadata": {},
   "outputs": [],
   "source": [
    "tabla_5 = tabla_5.drop(tabla_5.columns[[0,1,14,15,31,32,33,34,35,36,37,38,39,40,42,43,44,45,46,47,49,51,53,55]], axis=1) #Eliminamos variables que no necesitamos "
   ]
  },
  {
   "cell_type": "code",
   "execution_count": 179,
   "metadata": {},
   "outputs": [
    {
     "name": "stdout",
     "output_type": "stream",
     "text": [
      "<class 'pandas.core.frame.DataFrame'>\n",
      "MultiIndex: 39363 entries, ('dc11190', Timestamp('2020-04-09 00:00:00')) to ('dc38414', nan)\n",
      "Data columns (total 45 columns):\n",
      " #   Column                                               Non-Null Count  Dtype  \n",
      "---  ------                                               --------------  -----  \n",
      " 0   initial_annual_inspection                            39363 non-null  int64  \n",
      " 1   result_1_None                                        39363 non-null  uint8  \n",
      " 2   result_1_passed_inspection                           39363 non-null  uint8  \n",
      " 3   result_1_passed_inspection_with_no_violations        39363 non-null  uint8  \n",
      " 4   result_1_previously_cited_violations_corrected       39363 non-null  uint8  \n",
      " 5   result_1_previously_closed_program_re-opened         39363 non-null  uint8  \n",
      " 6   result_1_reinspection_not_required                   39363 non-null  uint8  \n",
      " 7   result_1_reinspection_required                       39363 non-null  uint8  \n",
      " 8   result_2_fines_pending                               39363 non-null  uint8  \n",
      " 9   result_2_program_closed                              39363 non-null  uint8  \n",
      " 10  result_2_violations_corrected_at_time_of_inspection  39363 non-null  uint8  \n",
      " 11  inspection_year                                      39307 non-null  float64\n",
      " 12  violation                                            39363 non-null  int64  \n",
      " 13  public_hazard                                        39363 non-null  int64  \n",
      " 14  violaciones_hist_salud_publica                       39363 non-null  float64\n",
      " 15  violaciones_2019_salud_publica                       39363 non-null  float64\n",
      " 16  violation_critical                                   39363 non-null  int64  \n",
      " 17  violaciones_hist_criticas                            39363 non-null  float64\n",
      " 18  violaciones_2019_criticas                            39363 non-null  float64\n",
      " 19  ratio_violaciones_hist                               31157 non-null  float64\n",
      " 20  ratio_violaciones_2019                               18658 non-null  float64\n",
      " 21  prom_violaciones_hist_borough                        39363 non-null  float64\n",
      " 22  prom_violaciones_2019_borough                        39363 non-null  float64\n",
      " 23  ratio_violaciones_hist_sp                            35854 non-null  float64\n",
      " 24  ratio_violaciones_2019_sp                            26778 non-null  float64\n",
      " 25  ratio_violaciones_hist_criticas                      35854 non-null  float64\n",
      " 26  ratio_violaciones_2019_criticas                      26778 non-null  float64\n",
      " 27  maximum_capacity                                     2955 non-null   float64\n",
      " 28  violation_rate_percent                               2892 non-null   float64\n",
      " 29  total_educational_workers                            2955 non-null   float64\n",
      " 30  public_health_hazard_violation_rate                  2892 non-null   float64\n",
      " 31  critical_violation_rate                              2892 non-null   float64\n",
      " 32  program_type_all_age_camp                            2955 non-null   float64\n",
      " 33  program_type_infant_toddler                          2955 non-null   float64\n",
      " 34  program_type_preschool                               2955 non-null   float64\n",
      " 35  program_type_preschool_camp                          2955 non-null   float64\n",
      " 36  program_type_school_age_camp                         2955 non-null   float64\n",
      " 37  facility_type_camp                                   2955 non-null   float64\n",
      " 38  facility_type_gdc                                    2955 non-null   float64\n",
      " 39  facility_type_sbcc                                   2955 non-null   float64\n",
      " 40  borough_bronx                                        2955 non-null   float64\n",
      " 41  borough_brooklyn                                     2955 non-null   float64\n",
      " 42  borough_manhattan                                    2955 non-null   float64\n",
      " 43  borough_queens                                       2955 non-null   float64\n",
      " 44  borough_staten_island                                2955 non-null   float64\n",
      "dtypes: float64(31), int64(4), uint8(10)\n",
      "memory usage: 11.1+ MB\n"
     ]
    }
   ],
   "source": [
    "tabla_5.info()"
   ]
  },
  {
   "cell_type": "code",
   "execution_count": 180,
   "metadata": {},
   "outputs": [],
   "source": [
    "tabla_5 = tabla_5.fillna(0)"
   ]
  },
  {
   "cell_type": "markdown",
   "metadata": {},
   "source": [
    "Modelo Random Forest"
   ]
  },
  {
   "cell_type": "markdown",
   "metadata": {},
   "source": [
    "- Para el entrenamiento se usaron todos los datos del 2017-2019 y para validación los datos correspondientes a lo que va del año 2020."
   ]
  },
  {
   "cell_type": "markdown",
   "metadata": {},
   "source": [
    "- Mediante una gráfica de barras se verifica si la muestra esta balanceada o no y se observa que no está balanceada."
   ]
  },
  {
   "cell_type": "code",
   "execution_count": 181,
   "metadata": {},
   "outputs": [
    {
     "data": {
      "text/plain": [
       "<matplotlib.axes._subplots.AxesSubplot at 0x256e6dc1648>"
      ]
     },
     "execution_count": 181,
     "metadata": {},
     "output_type": "execute_result"
    },
    {
     "data": {
      "image/png": "[encoded data removed]",
      "text/plain": [
       "<Figure size 432x288 with 1 Axes>"
      ]
     },
     "metadata": {
      "needs_background": "light"
     },
     "output_type": "display_data"
    }
   ],
   "source": [
    "sns.countplot(x='public_hazard', data=tabla_5, palette=\"Set3\")"
   ]
  },
  {
   "cell_type": "markdown",
   "metadata": {},
   "source": [
    "- Así que se utiliza _over-sampling_ para balancear la muestra."
   ]
  },
  {
   "cell_type": "code",
   "execution_count": 182,
   "metadata": {},
   "outputs": [],
   "source": [
    "count_class_0, count_class_1 = tabla_5.public_hazard.value_counts()"
   ]
  },
  {
   "cell_type": "code",
   "execution_count": 183,
   "metadata": {},
   "outputs": [],
   "source": [
    "df_class_0 = tabla_5[tabla_5['public_hazard'] == 0]\n",
    "df_class_1 = tabla_5[tabla_5['public_hazard'] == 1]"
   ]
  },
  {
   "cell_type": "code",
   "execution_count": 184,
   "metadata": {},
   "outputs": [
    {
     "data": {
      "text/plain": [
       "35967"
      ]
     },
     "execution_count": 184,
     "metadata": {},
     "output_type": "execute_result"
    }
   ],
   "source": [
    "count_class_0"
   ]
  },
  {
   "cell_type": "code",
   "execution_count": 185,
   "metadata": {},
   "outputs": [
    {
     "data": {
      "text/plain": [
       "3396"
      ]
     },
     "execution_count": 185,
     "metadata": {},
     "output_type": "execute_result"
    }
   ],
   "source": [
    "count_class_1"
   ]
  },
  {
   "cell_type": "code",
   "execution_count": 186,
   "metadata": {},
   "outputs": [],
   "source": [
    "df_class_0_over = df_class_0.sample(count_class_1, replace=True)\n",
    "df_test_over = pd.concat([df_class_1, df_class_0_over], axis=0)"
   ]
  },
  {
   "cell_type": "code",
   "execution_count": 187,
   "metadata": {},
   "outputs": [
    {
     "name": "stdout",
     "output_type": "stream",
     "text": [
      "Random over-sampling:\n",
      "1    3396\n",
      "0    3396\n",
      "Name: public_hazard, dtype: int64\n"
     ]
    },
    {
     "data": {
      "image/png": "[encoded data removed]",
      "text/plain": [
       "<Figure size 432x288 with 1 Axes>"
      ]
     },
     "metadata": {
      "needs_background": "light"
     },
     "output_type": "display_data"
    }
   ],
   "source": [
    "print('Random over-sampling:')\n",
    "print(df_test_over.public_hazard.value_counts())\n",
    "\n",
    "df_test_over.public_hazard.value_counts().plot(kind='bar', title='Count (public_hazard)');"
   ]
  },
  {
   "cell_type": "code",
   "execution_count": 188,
   "metadata": {},
   "outputs": [],
   "source": [
    "df_train = df_test_over.loc[df_test_over['inspection_year'] != 2020] "
   ]
  },
  {
   "cell_type": "code",
   "execution_count": 189,
   "metadata": {},
   "outputs": [],
   "source": [
    "df_test = df_test_over.loc[df_test_over['inspection_year'] == 2020]"
   ]
  },
  {
   "cell_type": "code",
   "execution_count": 190,
   "metadata": {},
   "outputs": [],
   "source": [
    "Y_train = df_train[['public_hazard']]"
   ]
  },
  {
   "cell_type": "code",
   "execution_count": 191,
   "metadata": {},
   "outputs": [],
   "source": [
    "Y_test = df_test[['public_hazard']]"
   ]
  },
  {
   "cell_type": "code",
   "execution_count": 192,
   "metadata": {},
   "outputs": [],
   "source": [
    "X_train = df_train[[i for i in df_train.keys() if i not in Y_train]]"
   ]
  },
  {
   "cell_type": "code",
   "execution_count": 193,
   "metadata": {},
   "outputs": [],
   "source": [
    "X_test = df_test[[i for i in df_test.keys() if i not in Y_test]]"
   ]
  },
  {
   "cell_type": "code",
   "execution_count": 194,
   "metadata": {},
   "outputs": [],
   "source": [
    "import sklearn as sk\n",
    "from sklearn import preprocessing\n",
    "from sklearn.ensemble import RandomForestClassifier\n",
    "from sklearn import metrics\n",
    "from sklearn.metrics import mean_squared_error"
   ]
  },
  {
   "cell_type": "code",
   "execution_count": 195,
   "metadata": {},
   "outputs": [
    {
     "data": {
      "text/plain": [
       "RandomForestClassifier(bootstrap=True, class_weight='balanced',\n",
       "                       criterion='gini', max_depth=8, max_features='auto',\n",
       "                       max_leaf_nodes=None, min_impurity_decrease=0.0,\n",
       "                       min_impurity_split=None, min_samples_leaf=1,\n",
       "                       min_samples_split=2, min_weight_fraction_leaf=0.0,\n",
       "                       n_estimators=600, n_jobs=None, oob_score=False,\n",
       "                       random_state=None, verbose=0, warm_start=False)"
      ]
     },
     "execution_count": 195,
     "metadata": {},
     "output_type": "execute_result"
    }
   ],
   "source": [
    "np.random.seed(0)\n",
    "rforest = RandomForestClassifier(n_estimators=600, class_weight=\"balanced\", max_depth=8, criterion='gini')\n",
    "rforest.fit(X_train,Y_train.values.ravel())"
   ]
  },
  {
   "cell_type": "code",
   "execution_count": 196,
   "metadata": {},
   "outputs": [],
   "source": [
    "Y_pred = rforest.predict(X_test)"
   ]
  },
  {
   "cell_type": "code",
   "execution_count": 197,
   "metadata": {},
   "outputs": [
    {
     "name": "stdout",
     "output_type": "stream",
     "text": [
      "Accuracy: 0.722495894909688\n",
      "Precision: 0.7410805626598465\n",
      "Recall: 0.7052531301034295\n"
     ]
    }
   ],
   "source": [
    "print(\"Accuracy:\",metrics.accuracy_score(Y_test, Y_pred))\n",
    "print(\"Precision:\",metrics.precision_score(Y_test, Y_pred, average='macro'))\n",
    "print(\"Recall:\",metrics.recall_score(Y_test, Y_pred, average='macro'))"
   ]
  },
  {
   "cell_type": "code",
   "execution_count": 199,
   "metadata": {},
   "outputs": [],
   "source": [
    "rforest_matrix=metrics.confusion_matrix(Y_test,Y_pred)"
   ]
  },
  {
   "cell_type": "code",
   "execution_count": 200,
   "metadata": {},
   "outputs": [
    {
     "data": {
      "text/html": [
       "<div>\n",
       "<style scoped>\n",
       "    .dataframe tbody tr th:only-of-type {\n",
       "        vertical-align: middle;\n",
       "    }\n",
       "\n",
       "    .dataframe tbody tr th {\n",
       "        vertical-align: top;\n",
       "    }\n",
       "\n",
       "    .dataframe thead th {\n",
       "        text-align: right;\n",
       "    }\n",
       "</style>\n",
       "<table border=\"1\" class=\"dataframe\">\n",
       "  <thead>\n",
       "    <tr style=\"text-align: right;\">\n",
       "      <th></th>\n",
       "      <th>0</th>\n",
       "      <th>1</th>\n",
       "    </tr>\n",
       "  </thead>\n",
       "  <tbody>\n",
       "    <tr>\n",
       "      <th>0</th>\n",
       "      <td>295</td>\n",
       "      <td>39</td>\n",
       "    </tr>\n",
       "    <tr>\n",
       "      <th>1</th>\n",
       "      <td>130</td>\n",
       "      <td>145</td>\n",
       "    </tr>\n",
       "  </tbody>\n",
       "</table>\n",
       "</div>"
      ],
      "text/plain": [
       "     0    1\n",
       "0  295   39\n",
       "1  130  145"
      ]
     },
     "execution_count": 200,
     "metadata": {},
     "output_type": "execute_result"
    }
   ],
   "source": [
    "pd.DataFrame(rforest_matrix)"
   ]
  },
  {
   "cell_type": "code",
   "execution_count": 201,
   "metadata": {},
   "outputs": [
    {
     "data": {
      "text/plain": [
       "Text(0.5, 257.44, 'Predicted label')"
      ]
     },
     "execution_count": 201,
     "metadata": {},
     "output_type": "execute_result"
    },
    {
     "data": {
      "image/png": "[encoded data removed]",
      "text/plain": [
       "<Figure size 432x288 with 2 Axes>"
      ]
     },
     "metadata": {
      "needs_background": "light"
     },
     "output_type": "display_data"
    }
   ],
   "source": [
    "class_names=[0,1] \n",
    "fig, ax = plt.subplots()\n",
    "tick_marks = np.arange(len(class_names))\n",
    "plt.xticks(tick_marks, class_names)\n",
    "plt.yticks(tick_marks, class_names)\n",
    "sns.heatmap(pd.DataFrame(rforest_matrix), annot=True, cmap=\"YlGnBu\" ,fmt='g')\n",
    "ax.xaxis.set_label_position(\"top\")\n",
    "plt.tight_layout()\n",
    "plt.title('Confusion matrix', y=1.1)\n",
    "plt.ylabel('Actual label')\n",
    "plt.xlabel('Predicted label')"
   ]
  },
  {
   "cell_type": "code",
   "execution_count": 202,
   "metadata": {},
   "outputs": [
    {
     "data": {
      "text/html": [
       "<div>\n",
       "<style scoped>\n",
       "    .dataframe tbody tr th:only-of-type {\n",
       "        vertical-align: middle;\n",
       "    }\n",
       "\n",
       "    .dataframe tbody tr th {\n",
       "        vertical-align: top;\n",
       "    }\n",
       "\n",
       "    .dataframe thead th {\n",
       "        text-align: right;\n",
       "    }\n",
       "</style>\n",
       "<table border=\"1\" class=\"dataframe\">\n",
       "  <thead>\n",
       "    <tr style=\"text-align: right;\">\n",
       "      <th></th>\n",
       "      <th>features</th>\n",
       "      <th>importance</th>\n",
       "    </tr>\n",
       "  </thead>\n",
       "  <tbody>\n",
       "    <tr>\n",
       "      <th>12</th>\n",
       "      <td>violation</td>\n",
       "      <td>0.308278</td>\n",
       "    </tr>\n",
       "    <tr>\n",
       "      <th>13</th>\n",
       "      <td>violaciones_hist_salud_publica</td>\n",
       "      <td>0.204971</td>\n",
       "    </tr>\n",
       "    <tr>\n",
       "      <th>15</th>\n",
       "      <td>violation_critical</td>\n",
       "      <td>0.194342</td>\n",
       "    </tr>\n",
       "    <tr>\n",
       "      <th>22</th>\n",
       "      <td>ratio_violaciones_hist_sp</td>\n",
       "      <td>0.081562</td>\n",
       "    </tr>\n",
       "    <tr>\n",
       "      <th>14</th>\n",
       "      <td>violaciones_2019_salud_publica</td>\n",
       "      <td>0.033313</td>\n",
       "    </tr>\n",
       "    <tr>\n",
       "      <th>11</th>\n",
       "      <td>inspection_year</td>\n",
       "      <td>0.032890</td>\n",
       "    </tr>\n",
       "    <tr>\n",
       "      <th>18</th>\n",
       "      <td>ratio_violaciones_hist</td>\n",
       "      <td>0.032385</td>\n",
       "    </tr>\n",
       "    <tr>\n",
       "      <th>0</th>\n",
       "      <td>initial_annual_inspection</td>\n",
       "      <td>0.024578</td>\n",
       "    </tr>\n",
       "    <tr>\n",
       "      <th>23</th>\n",
       "      <td>ratio_violaciones_2019_sp</td>\n",
       "      <td>0.015218</td>\n",
       "    </tr>\n",
       "    <tr>\n",
       "      <th>16</th>\n",
       "      <td>violaciones_hist_criticas</td>\n",
       "      <td>0.011818</td>\n",
       "    </tr>\n",
       "    <tr>\n",
       "      <th>19</th>\n",
       "      <td>ratio_violaciones_2019</td>\n",
       "      <td>0.011077</td>\n",
       "    </tr>\n",
       "    <tr>\n",
       "      <th>24</th>\n",
       "      <td>ratio_violaciones_hist_criticas</td>\n",
       "      <td>0.010615</td>\n",
       "    </tr>\n",
       "    <tr>\n",
       "      <th>17</th>\n",
       "      <td>violaciones_2019_criticas</td>\n",
       "      <td>0.005223</td>\n",
       "    </tr>\n",
       "    <tr>\n",
       "      <th>25</th>\n",
       "      <td>ratio_violaciones_2019_criticas</td>\n",
       "      <td>0.004846</td>\n",
       "    </tr>\n",
       "    <tr>\n",
       "      <th>21</th>\n",
       "      <td>prom_violaciones_2019_borough</td>\n",
       "      <td>0.003632</td>\n",
       "    </tr>\n",
       "    <tr>\n",
       "      <th>20</th>\n",
       "      <td>prom_violaciones_hist_borough</td>\n",
       "      <td>0.003486</td>\n",
       "    </tr>\n",
       "    <tr>\n",
       "      <th>7</th>\n",
       "      <td>result_1_reinspection_required</td>\n",
       "      <td>0.002574</td>\n",
       "    </tr>\n",
       "    <tr>\n",
       "      <th>28</th>\n",
       "      <td>total_educational_workers</td>\n",
       "      <td>0.002182</td>\n",
       "    </tr>\n",
       "    <tr>\n",
       "      <th>26</th>\n",
       "      <td>maximum_capacity</td>\n",
       "      <td>0.001830</td>\n",
       "    </tr>\n",
       "    <tr>\n",
       "      <th>8</th>\n",
       "      <td>result_2_fines_pending</td>\n",
       "      <td>0.001756</td>\n",
       "    </tr>\n",
       "    <tr>\n",
       "      <th>3</th>\n",
       "      <td>result_1_passed_inspection_with_no_violations</td>\n",
       "      <td>0.001502</td>\n",
       "    </tr>\n",
       "    <tr>\n",
       "      <th>6</th>\n",
       "      <td>result_1_reinspection_not_required</td>\n",
       "      <td>0.001467</td>\n",
       "    </tr>\n",
       "    <tr>\n",
       "      <th>27</th>\n",
       "      <td>violation_rate_percent</td>\n",
       "      <td>0.001254</td>\n",
       "    </tr>\n",
       "    <tr>\n",
       "      <th>1</th>\n",
       "      <td>result_1_None</td>\n",
       "      <td>0.001046</td>\n",
       "    </tr>\n",
       "    <tr>\n",
       "      <th>30</th>\n",
       "      <td>critical_violation_rate</td>\n",
       "      <td>0.000983</td>\n",
       "    </tr>\n",
       "    <tr>\n",
       "      <th>10</th>\n",
       "      <td>result_2_violations_corrected_at_time_of_inspe...</td>\n",
       "      <td>0.000928</td>\n",
       "    </tr>\n",
       "    <tr>\n",
       "      <th>33</th>\n",
       "      <td>program_type_preschool</td>\n",
       "      <td>0.000821</td>\n",
       "    </tr>\n",
       "    <tr>\n",
       "      <th>4</th>\n",
       "      <td>result_1_previously_cited_violations_corrected</td>\n",
       "      <td>0.000743</td>\n",
       "    </tr>\n",
       "    <tr>\n",
       "      <th>37</th>\n",
       "      <td>facility_type_gdc</td>\n",
       "      <td>0.000672</td>\n",
       "    </tr>\n",
       "    <tr>\n",
       "      <th>29</th>\n",
       "      <td>public_health_hazard_violation_rate</td>\n",
       "      <td>0.000611</td>\n",
       "    </tr>\n",
       "    <tr>\n",
       "      <th>2</th>\n",
       "      <td>result_1_passed_inspection</td>\n",
       "      <td>0.000521</td>\n",
       "    </tr>\n",
       "    <tr>\n",
       "      <th>40</th>\n",
       "      <td>borough_brooklyn</td>\n",
       "      <td>0.000499</td>\n",
       "    </tr>\n",
       "    <tr>\n",
       "      <th>42</th>\n",
       "      <td>borough_queens</td>\n",
       "      <td>0.000458</td>\n",
       "    </tr>\n",
       "    <tr>\n",
       "      <th>38</th>\n",
       "      <td>facility_type_sbcc</td>\n",
       "      <td>0.000382</td>\n",
       "    </tr>\n",
       "    <tr>\n",
       "      <th>32</th>\n",
       "      <td>program_type_infant_toddler</td>\n",
       "      <td>0.000337</td>\n",
       "    </tr>\n",
       "    <tr>\n",
       "      <th>9</th>\n",
       "      <td>result_2_program_closed</td>\n",
       "      <td>0.000278</td>\n",
       "    </tr>\n",
       "    <tr>\n",
       "      <th>41</th>\n",
       "      <td>borough_manhattan</td>\n",
       "      <td>0.000243</td>\n",
       "    </tr>\n",
       "    <tr>\n",
       "      <th>36</th>\n",
       "      <td>facility_type_camp</td>\n",
       "      <td>0.000187</td>\n",
       "    </tr>\n",
       "    <tr>\n",
       "      <th>43</th>\n",
       "      <td>borough_staten_island</td>\n",
       "      <td>0.000167</td>\n",
       "    </tr>\n",
       "    <tr>\n",
       "      <th>31</th>\n",
       "      <td>program_type_all_age_camp</td>\n",
       "      <td>0.000161</td>\n",
       "    </tr>\n",
       "    <tr>\n",
       "      <th>5</th>\n",
       "      <td>result_1_previously_closed_program_re-opened</td>\n",
       "      <td>0.000123</td>\n",
       "    </tr>\n",
       "    <tr>\n",
       "      <th>39</th>\n",
       "      <td>borough_bronx</td>\n",
       "      <td>0.000032</td>\n",
       "    </tr>\n",
       "    <tr>\n",
       "      <th>35</th>\n",
       "      <td>program_type_school_age_camp</td>\n",
       "      <td>0.000010</td>\n",
       "    </tr>\n",
       "    <tr>\n",
       "      <th>34</th>\n",
       "      <td>program_type_preschool_camp</td>\n",
       "      <td>0.000000</td>\n",
       "    </tr>\n",
       "  </tbody>\n",
       "</table>\n",
       "</div>"
      ],
      "text/plain": [
       "                                             features  importance\n",
       "12                                          violation    0.308278\n",
       "13                     violaciones_hist_salud_publica    0.204971\n",
       "15                                 violation_critical    0.194342\n",
       "22                          ratio_violaciones_hist_sp    0.081562\n",
       "14                     violaciones_2019_salud_publica    0.033313\n",
       "11                                    inspection_year    0.032890\n",
       "18                             ratio_violaciones_hist    0.032385\n",
       "0                           initial_annual_inspection    0.024578\n",
       "23                          ratio_violaciones_2019_sp    0.015218\n",
       "16                          violaciones_hist_criticas    0.011818\n",
       "19                             ratio_violaciones_2019    0.011077\n",
       "24                    ratio_violaciones_hist_criticas    0.010615\n",
       "17                          violaciones_2019_criticas    0.005223\n",
       "25                    ratio_violaciones_2019_criticas    0.004846\n",
       "21                      prom_violaciones_2019_borough    0.003632\n",
       "20                      prom_violaciones_hist_borough    0.003486\n",
       "7                      result_1_reinspection_required    0.002574\n",
       "28                          total_educational_workers    0.002182\n",
       "26                                   maximum_capacity    0.001830\n",
       "8                              result_2_fines_pending    0.001756\n",
       "3       result_1_passed_inspection_with_no_violations    0.001502\n",
       "6                  result_1_reinspection_not_required    0.001467\n",
       "27                             violation_rate_percent    0.001254\n",
       "1                                       result_1_None    0.001046\n",
       "30                            critical_violation_rate    0.000983\n",
       "10  result_2_violations_corrected_at_time_of_inspe...    0.000928\n",
       "33                             program_type_preschool    0.000821\n",
       "4      result_1_previously_cited_violations_corrected    0.000743\n",
       "37                                  facility_type_gdc    0.000672\n",
       "29                public_health_hazard_violation_rate    0.000611\n",
       "2                          result_1_passed_inspection    0.000521\n",
       "40                                   borough_brooklyn    0.000499\n",
       "42                                     borough_queens    0.000458\n",
       "38                                 facility_type_sbcc    0.000382\n",
       "32                        program_type_infant_toddler    0.000337\n",
       "9                             result_2_program_closed    0.000278\n",
       "41                                  borough_manhattan    0.000243\n",
       "36                                 facility_type_camp    0.000187\n",
       "43                              borough_staten_island    0.000167\n",
       "31                          program_type_all_age_camp    0.000161\n",
       "5        result_1_previously_closed_program_re-opened    0.000123\n",
       "39                                      borough_bronx    0.000032\n",
       "35                       program_type_school_age_camp    0.000010\n",
       "34                        program_type_preschool_camp    0.000000"
      ]
     },
     "execution_count": 202,
     "metadata": {},
     "output_type": "execute_result"
    }
   ],
   "source": [
    "feature_importance_frame = pd.DataFrame()\n",
    "feature_importance_frame['features'] = list(X_train.keys())\n",
    "feature_importance_frame['importance'] = list(rforest.feature_importances_)\n",
    "feature_importance_frame = feature_importance_frame.sort_values(\n",
    "        'importance', ascending=False)\n",
    "feature_importance_frame"
   ]
  },
  {
   "cell_type": "markdown",
   "metadata": {},
   "source": [
    "Modelo XGBoost"
   ]
  },
  {
   "cell_type": "code",
   "execution_count": 203,
   "metadata": {},
   "outputs": [],
   "source": [
    "import xgboost as xgb\n",
    "from xgboost import XGBClassifier\n",
    "from sklearn.metrics import accuracy_score\n",
    "from collections import Counter\n",
    "from sklearn.datasets import make_classification\n",
    "import multiprocessing"
   ]
  },
  {
   "cell_type": "code",
   "execution_count": 204,
   "metadata": {},
   "outputs": [],
   "source": [
    "xg_clas = xgb.XGBClassifier(n_estimators=500, max_depth=3, learning_rate=0.01, subsample=1, objective='binary:logistic', booster='gbtree', n_jobs=1, nthread=multiprocessing.cpu_count())"
   ]
  },
  {
   "cell_type": "code",
   "execution_count": 205,
   "metadata": {},
   "outputs": [
    {
     "name": "stderr",
     "output_type": "stream",
     "text": [
      "C:\\Users\\Elizabeth\\Anaconda3\\lib\\site-packages\\sklearn\\preprocessing\\label.py:219: DataConversionWarning: A column-vector y was passed when a 1d array was expected. Please change the shape of y to (n_samples, ), for example using ravel().\n",
      "  y = column_or_1d(y, warn=True)\n",
      "C:\\Users\\Elizabeth\\Anaconda3\\lib\\site-packages\\sklearn\\preprocessing\\label.py:252: DataConversionWarning: A column-vector y was passed when a 1d array was expected. Please change the shape of y to (n_samples, ), for example using ravel().\n",
      "  y = column_or_1d(y, warn=True)\n"
     ]
    },
    {
     "data": {
      "text/plain": [
       "XGBClassifier(base_score=0.5, booster='gbtree', colsample_bylevel=1,\n",
       "              colsample_bynode=1, colsample_bytree=1, gamma=0, gpu_id=-1,\n",
       "              importance_type='gain', interaction_constraints=None,\n",
       "              learning_rate=0.01, max_delta_step=0, max_depth=3,\n",
       "              min_child_weight=1, missing=nan, monotone_constraints=None,\n",
       "              n_estimators=500, n_jobs=1, nthread=12, num_parallel_tree=1,\n",
       "              objective='binary:logistic', random_state=0, reg_alpha=0,\n",
       "              reg_lambda=1, scale_pos_weight=1, subsample=1, tree_method=None,\n",
       "              validate_parameters=False, verbosity=None)"
      ]
     },
     "execution_count": 205,
     "metadata": {},
     "output_type": "execute_result"
    }
   ],
   "source": [
    "xg_clas.fit(X_train, Y_train)"
   ]
  },
  {
   "cell_type": "code",
   "execution_count": 206,
   "metadata": {},
   "outputs": [],
   "source": [
    "Y_p = xg_clas.predict(X_test)"
   ]
  },
  {
   "cell_type": "code",
   "execution_count": 209,
   "metadata": {},
   "outputs": [],
   "source": [
    "cnf_matrix = metrics.confusion_matrix(Y_test, Y_p)"
   ]
  },
  {
   "cell_type": "code",
   "execution_count": 210,
   "metadata": {},
   "outputs": [
    {
     "data": {
      "text/html": [
       "<div>\n",
       "<style scoped>\n",
       "    .dataframe tbody tr th:only-of-type {\n",
       "        vertical-align: middle;\n",
       "    }\n",
       "\n",
       "    .dataframe tbody tr th {\n",
       "        vertical-align: top;\n",
       "    }\n",
       "\n",
       "    .dataframe thead th {\n",
       "        text-align: right;\n",
       "    }\n",
       "</style>\n",
       "<table border=\"1\" class=\"dataframe\">\n",
       "  <thead>\n",
       "    <tr style=\"text-align: right;\">\n",
       "      <th></th>\n",
       "      <th>0</th>\n",
       "      <th>1</th>\n",
       "    </tr>\n",
       "  </thead>\n",
       "  <tbody>\n",
       "    <tr>\n",
       "      <th>0</th>\n",
       "      <td>278</td>\n",
       "      <td>56</td>\n",
       "    </tr>\n",
       "    <tr>\n",
       "      <th>1</th>\n",
       "      <td>98</td>\n",
       "      <td>177</td>\n",
       "    </tr>\n",
       "  </tbody>\n",
       "</table>\n",
       "</div>"
      ],
      "text/plain": [
       "     0    1\n",
       "0  278   56\n",
       "1   98  177"
      ]
     },
     "execution_count": 210,
     "metadata": {},
     "output_type": "execute_result"
    }
   ],
   "source": [
    "pd.DataFrame(cnf_matrix)"
   ]
  },
  {
   "cell_type": "code",
   "execution_count": 211,
   "metadata": {},
   "outputs": [
    {
     "data": {
      "text/plain": [
       "Text(0.5, 257.44, 'Predicted label')"
      ]
     },
     "execution_count": 211,
     "metadata": {},
     "output_type": "execute_result"
    },
    {
     "data": {
      "image/png": "[encoded data removed]",
      "text/plain": [
       "<Figure size 432x288 with 2 Axes>"
      ]
     },
     "metadata": {
      "needs_background": "light"
     },
     "output_type": "display_data"
    }
   ],
   "source": [
    "class_names=[0,1] \n",
    "fig, ax = plt.subplots()\n",
    "tick_marks = np.arange(len(class_names))\n",
    "plt.xticks(tick_marks, class_names)\n",
    "plt.yticks(tick_marks, class_names)\n",
    "sns.heatmap(pd.DataFrame(cnf_matrix), annot=True, cmap=\"YlGnBu\" ,fmt='g')\n",
    "ax.xaxis.set_label_position(\"top\")\n",
    "plt.tight_layout()\n",
    "plt.title('Confusion matrix', y=1.1)\n",
    "plt.ylabel('Actual label')\n",
    "plt.xlabel('Predicted label')"
   ]
  },
  {
   "cell_type": "code",
   "execution_count": 212,
   "metadata": {},
   "outputs": [
    {
     "data": {
      "text/html": [
       "<div>\n",
       "<style scoped>\n",
       "    .dataframe tbody tr th:only-of-type {\n",
       "        vertical-align: middle;\n",
       "    }\n",
       "\n",
       "    .dataframe tbody tr th {\n",
       "        vertical-align: top;\n",
       "    }\n",
       "\n",
       "    .dataframe thead th {\n",
       "        text-align: right;\n",
       "    }\n",
       "</style>\n",
       "<table border=\"1\" class=\"dataframe\">\n",
       "  <thead>\n",
       "    <tr style=\"text-align: right;\">\n",
       "      <th></th>\n",
       "      <th>features</th>\n",
       "      <th>importance</th>\n",
       "    </tr>\n",
       "  </thead>\n",
       "  <tbody>\n",
       "    <tr>\n",
       "      <th>12</th>\n",
       "      <td>violation</td>\n",
       "      <td>0.355217</td>\n",
       "    </tr>\n",
       "    <tr>\n",
       "      <th>15</th>\n",
       "      <td>violation_critical</td>\n",
       "      <td>0.276857</td>\n",
       "    </tr>\n",
       "    <tr>\n",
       "      <th>13</th>\n",
       "      <td>violaciones_hist_salud_publica</td>\n",
       "      <td>0.146747</td>\n",
       "    </tr>\n",
       "    <tr>\n",
       "      <th>0</th>\n",
       "      <td>initial_annual_inspection</td>\n",
       "      <td>0.046236</td>\n",
       "    </tr>\n",
       "    <tr>\n",
       "      <th>22</th>\n",
       "      <td>ratio_violaciones_hist_sp</td>\n",
       "      <td>0.036395</td>\n",
       "    </tr>\n",
       "    <tr>\n",
       "      <th>11</th>\n",
       "      <td>inspection_year</td>\n",
       "      <td>0.021854</td>\n",
       "    </tr>\n",
       "    <tr>\n",
       "      <th>18</th>\n",
       "      <td>ratio_violaciones_hist</td>\n",
       "      <td>0.020687</td>\n",
       "    </tr>\n",
       "    <tr>\n",
       "      <th>23</th>\n",
       "      <td>ratio_violaciones_2019_sp</td>\n",
       "      <td>0.014056</td>\n",
       "    </tr>\n",
       "    <tr>\n",
       "      <th>19</th>\n",
       "      <td>ratio_violaciones_2019</td>\n",
       "      <td>0.013865</td>\n",
       "    </tr>\n",
       "    <tr>\n",
       "      <th>14</th>\n",
       "      <td>violaciones_2019_salud_publica</td>\n",
       "      <td>0.013388</td>\n",
       "    </tr>\n",
       "    <tr>\n",
       "      <th>24</th>\n",
       "      <td>ratio_violaciones_hist_criticas</td>\n",
       "      <td>0.013279</td>\n",
       "    </tr>\n",
       "    <tr>\n",
       "      <th>16</th>\n",
       "      <td>violaciones_hist_criticas</td>\n",
       "      <td>0.013125</td>\n",
       "    </tr>\n",
       "    <tr>\n",
       "      <th>25</th>\n",
       "      <td>ratio_violaciones_2019_criticas</td>\n",
       "      <td>0.012255</td>\n",
       "    </tr>\n",
       "    <tr>\n",
       "      <th>8</th>\n",
       "      <td>result_2_fines_pending</td>\n",
       "      <td>0.008467</td>\n",
       "    </tr>\n",
       "    <tr>\n",
       "      <th>6</th>\n",
       "      <td>result_1_reinspection_not_required</td>\n",
       "      <td>0.007571</td>\n",
       "    </tr>\n",
       "    <tr>\n",
       "      <th>35</th>\n",
       "      <td>program_type_school_age_camp</td>\n",
       "      <td>0.000000</td>\n",
       "    </tr>\n",
       "    <tr>\n",
       "      <th>31</th>\n",
       "      <td>program_type_all_age_camp</td>\n",
       "      <td>0.000000</td>\n",
       "    </tr>\n",
       "    <tr>\n",
       "      <th>32</th>\n",
       "      <td>program_type_infant_toddler</td>\n",
       "      <td>0.000000</td>\n",
       "    </tr>\n",
       "    <tr>\n",
       "      <th>33</th>\n",
       "      <td>program_type_preschool</td>\n",
       "      <td>0.000000</td>\n",
       "    </tr>\n",
       "    <tr>\n",
       "      <th>34</th>\n",
       "      <td>program_type_preschool_camp</td>\n",
       "      <td>0.000000</td>\n",
       "    </tr>\n",
       "    <tr>\n",
       "      <th>36</th>\n",
       "      <td>facility_type_camp</td>\n",
       "      <td>0.000000</td>\n",
       "    </tr>\n",
       "    <tr>\n",
       "      <th>29</th>\n",
       "      <td>public_health_hazard_violation_rate</td>\n",
       "      <td>0.000000</td>\n",
       "    </tr>\n",
       "    <tr>\n",
       "      <th>37</th>\n",
       "      <td>facility_type_gdc</td>\n",
       "      <td>0.000000</td>\n",
       "    </tr>\n",
       "    <tr>\n",
       "      <th>38</th>\n",
       "      <td>facility_type_sbcc</td>\n",
       "      <td>0.000000</td>\n",
       "    </tr>\n",
       "    <tr>\n",
       "      <th>39</th>\n",
       "      <td>borough_bronx</td>\n",
       "      <td>0.000000</td>\n",
       "    </tr>\n",
       "    <tr>\n",
       "      <th>40</th>\n",
       "      <td>borough_brooklyn</td>\n",
       "      <td>0.000000</td>\n",
       "    </tr>\n",
       "    <tr>\n",
       "      <th>41</th>\n",
       "      <td>borough_manhattan</td>\n",
       "      <td>0.000000</td>\n",
       "    </tr>\n",
       "    <tr>\n",
       "      <th>42</th>\n",
       "      <td>borough_queens</td>\n",
       "      <td>0.000000</td>\n",
       "    </tr>\n",
       "    <tr>\n",
       "      <th>30</th>\n",
       "      <td>critical_violation_rate</td>\n",
       "      <td>0.000000</td>\n",
       "    </tr>\n",
       "    <tr>\n",
       "      <th>5</th>\n",
       "      <td>result_1_previously_closed_program_re-opened</td>\n",
       "      <td>0.000000</td>\n",
       "    </tr>\n",
       "    <tr>\n",
       "      <th>28</th>\n",
       "      <td>total_educational_workers</td>\n",
       "      <td>0.000000</td>\n",
       "    </tr>\n",
       "    <tr>\n",
       "      <th>27</th>\n",
       "      <td>violation_rate_percent</td>\n",
       "      <td>0.000000</td>\n",
       "    </tr>\n",
       "    <tr>\n",
       "      <th>26</th>\n",
       "      <td>maximum_capacity</td>\n",
       "      <td>0.000000</td>\n",
       "    </tr>\n",
       "    <tr>\n",
       "      <th>1</th>\n",
       "      <td>result_1_None</td>\n",
       "      <td>0.000000</td>\n",
       "    </tr>\n",
       "    <tr>\n",
       "      <th>21</th>\n",
       "      <td>prom_violaciones_2019_borough</td>\n",
       "      <td>0.000000</td>\n",
       "    </tr>\n",
       "    <tr>\n",
       "      <th>20</th>\n",
       "      <td>prom_violaciones_hist_borough</td>\n",
       "      <td>0.000000</td>\n",
       "    </tr>\n",
       "    <tr>\n",
       "      <th>17</th>\n",
       "      <td>violaciones_2019_criticas</td>\n",
       "      <td>0.000000</td>\n",
       "    </tr>\n",
       "    <tr>\n",
       "      <th>2</th>\n",
       "      <td>result_1_passed_inspection</td>\n",
       "      <td>0.000000</td>\n",
       "    </tr>\n",
       "    <tr>\n",
       "      <th>3</th>\n",
       "      <td>result_1_passed_inspection_with_no_violations</td>\n",
       "      <td>0.000000</td>\n",
       "    </tr>\n",
       "    <tr>\n",
       "      <th>4</th>\n",
       "      <td>result_1_previously_cited_violations_corrected</td>\n",
       "      <td>0.000000</td>\n",
       "    </tr>\n",
       "    <tr>\n",
       "      <th>10</th>\n",
       "      <td>result_2_violations_corrected_at_time_of_inspe...</td>\n",
       "      <td>0.000000</td>\n",
       "    </tr>\n",
       "    <tr>\n",
       "      <th>9</th>\n",
       "      <td>result_2_program_closed</td>\n",
       "      <td>0.000000</td>\n",
       "    </tr>\n",
       "    <tr>\n",
       "      <th>7</th>\n",
       "      <td>result_1_reinspection_required</td>\n",
       "      <td>0.000000</td>\n",
       "    </tr>\n",
       "    <tr>\n",
       "      <th>43</th>\n",
       "      <td>borough_staten_island</td>\n",
       "      <td>0.000000</td>\n",
       "    </tr>\n",
       "  </tbody>\n",
       "</table>\n",
       "</div>"
      ],
      "text/plain": [
       "                                             features  importance\n",
       "12                                          violation    0.355217\n",
       "15                                 violation_critical    0.276857\n",
       "13                     violaciones_hist_salud_publica    0.146747\n",
       "0                           initial_annual_inspection    0.046236\n",
       "22                          ratio_violaciones_hist_sp    0.036395\n",
       "11                                    inspection_year    0.021854\n",
       "18                             ratio_violaciones_hist    0.020687\n",
       "23                          ratio_violaciones_2019_sp    0.014056\n",
       "19                             ratio_violaciones_2019    0.013865\n",
       "14                     violaciones_2019_salud_publica    0.013388\n",
       "24                    ratio_violaciones_hist_criticas    0.013279\n",
       "16                          violaciones_hist_criticas    0.013125\n",
       "25                    ratio_violaciones_2019_criticas    0.012255\n",
       "8                              result_2_fines_pending    0.008467\n",
       "6                  result_1_reinspection_not_required    0.007571\n",
       "35                       program_type_school_age_camp    0.000000\n",
       "31                          program_type_all_age_camp    0.000000\n",
       "32                        program_type_infant_toddler    0.000000\n",
       "33                             program_type_preschool    0.000000\n",
       "34                        program_type_preschool_camp    0.000000\n",
       "36                                 facility_type_camp    0.000000\n",
       "29                public_health_hazard_violation_rate    0.000000\n",
       "37                                  facility_type_gdc    0.000000\n",
       "38                                 facility_type_sbcc    0.000000\n",
       "39                                      borough_bronx    0.000000\n",
       "40                                   borough_brooklyn    0.000000\n",
       "41                                  borough_manhattan    0.000000\n",
       "42                                     borough_queens    0.000000\n",
       "30                            critical_violation_rate    0.000000\n",
       "5        result_1_previously_closed_program_re-opened    0.000000\n",
       "28                          total_educational_workers    0.000000\n",
       "27                             violation_rate_percent    0.000000\n",
       "26                                   maximum_capacity    0.000000\n",
       "1                                       result_1_None    0.000000\n",
       "21                      prom_violaciones_2019_borough    0.000000\n",
       "20                      prom_violaciones_hist_borough    0.000000\n",
       "17                          violaciones_2019_criticas    0.000000\n",
       "2                          result_1_passed_inspection    0.000000\n",
       "3       result_1_passed_inspection_with_no_violations    0.000000\n",
       "4      result_1_previously_cited_violations_corrected    0.000000\n",
       "10  result_2_violations_corrected_at_time_of_inspe...    0.000000\n",
       "9                             result_2_program_closed    0.000000\n",
       "7                      result_1_reinspection_required    0.000000\n",
       "43                              borough_staten_island    0.000000"
      ]
     },
     "execution_count": 212,
     "metadata": {},
     "output_type": "execute_result"
    }
   ],
   "source": [
    "feature_importance_frame = pd.DataFrame()\n",
    "feature_importance_frame['features'] = list(X_train.keys())\n",
    "feature_importance_frame['importance'] = list(xg_clas.feature_importances_)\n",
    "feature_importance_frame = feature_importance_frame.sort_values(\n",
    "        'importance', ascending=False)\n",
    "feature_importance_frame"
   ]
  }
 ],
 "metadata": {
  "kernelspec": {
   "display_name": "Python 3",
   "language": "python",
   "name": "python3"
  },
  "language_info": {
   "codemirror_mode": {
    "name": "ipython",
    "version": 3
   },
   "file_extension": ".py",
   "mimetype": "text/x-python",
   "name": "python",
   "nbconvert_exporter": "python",
   "pygments_lexer": "ipython3",
   "version": "3.7.4"
  }
 },
 "nbformat": 4,
 "nbformat_minor": 4
}
