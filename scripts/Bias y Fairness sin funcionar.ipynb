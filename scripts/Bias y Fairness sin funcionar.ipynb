{
 "cells": [
  {
   "cell_type": "code",
   "execution_count": 1,
   "metadata": {},
   "outputs": [
    {
     "name": "stderr",
     "output_type": "stream",
     "text": [
      "/usr/local/lib/python3.7/site-packages/statsmodels/tools/_testing.py:19: FutureWarning: pandas.util.testing is deprecated. Use the functions in the public API at pandas.testing instead.\n",
      "  import pandas.util.testing as tm\n"
     ]
    }
   ],
   "source": [
    "from sqlalchemy import create_engine\n",
    "import configparser\n",
    "import pickle\n",
    "import pandas as pd\n",
    "from aequitas.group import Group\n",
    "from aequitas.bias import Bias\n",
    "from aequitas.fairness import Fairness\n",
    "from aequitas.plotting import Plot\n",
    "from numpy import arange\n"
   ]
  },
  {
   "cell_type": "code",
   "execution_count": 49,
   "metadata": {},
   "outputs": [],
   "source": [
    "config = configparser.ConfigParser()\n",
    "config.read_file(open('./settings_development.ini'))"
   ]
  },
  {
   "cell_type": "code",
   "execution_count": 50,
   "metadata": {},
   "outputs": [],
   "source": [
    "engine_string = \"postgresql+psycopg2://{user}:{password}@{host}:{port}/{database}\".format(\n",
    "    user = config.get('DATABASE','user'),\n",
    "    password = config.get('DATABASE','password'),\n",
    "    host = config.get('DATABASE','host'),\n",
    "    port = 5432,\n",
    "    database = config.get('DATABASE','database'),\n",
    ")\n",
    "engine = create_engine(engine_string)"
   ]
  },
  {
   "cell_type": "code",
   "execution_count": 51,
   "metadata": {},
   "outputs": [],
   "source": [
    "rforest = pickle.load(open( \"random_forest.pckl\", \"rb\"))"
   ]
  },
  {
   "cell_type": "code",
   "execution_count": 52,
   "metadata": {},
   "outputs": [],
   "source": [
    "tabla_3 = pd.read_sql_table('centers', engine, schema=\"transformed\")\n",
    "tabla_4 = pd.read_sql_table('inspections', engine, schema=\"transformed\")"
   ]
  },
  {
   "cell_type": "code",
   "execution_count": 53,
   "metadata": {},
   "outputs": [],
   "source": [
    "centros = tabla_3.copy()\n",
    "centros.rename(columns={\"dc_id\":\"center_id\"}, inplace=True)\n",
    "inspecciones = tabla_4.copy()\n",
    "last_inspections = inspecciones.sort_values(by=\"inspectiondate\").drop_duplicates(subset=[\"center_id\"], keep=\"last\")\n",
    "centros = centros.drop(['centername', 'legalname', 'building', 'street', 'zipcode', 'phone', 'permitnumber', 'permitexp', 'status',  'agerange', 'childcaretype', 'bin', 'url', 'datepermitted', 'actual','violationratepercent','violationavgratepercent', 'publichealthhazardviolationrate','averagepublichealthhazardiolationrate','criticalviolationrate','avgcriticalviolationrate'], axis=1)\n",
    "centros = centros.reset_index(drop=True)\n",
    "tabla_5 = pd.merge(last_inspections, centros)\n",
    "tabla_5.sort_values(['inspectiondate'], ascending=[False], inplace=True)\n",
    "tabla_5['maximumcapacity'] = tabla_5['maximumcapacity'].astype(int)\n",
    "\n",
    "tabla_5['totaleducationalworkers'] = tabla_5['totaleducationalworkers'].astype(int)\n",
    "\n",
    "tabla_5['totaleducationalworkers'] = tabla_5['totaleducationalworkers'].astype(int)\n",
    "\n",
    "tabla_5['averagetotaleducationalworkers'] = tabla_5['averagetotaleducationalworkers'].astype(float)\n",
    "\n",
    "tabla_5 = tabla_5.drop(['regulationsummary', 'healthcodesubsection', 'violationstatus', 'borough', 'reason', 'inspectiondate', 'violationcategory_nan'], axis=1)\n",
    "\n",
    "tabla_5 = tabla_5.set_index(['center_id'])\n",
    "tabla_5 = tabla_5.fillna(0)\n",
    "\n",
    "for col in tabla_5.select_dtypes(object):\n",
    "    tabla_5[col] = tabla_5[col].astype(float)\n",
    "\n",
    "tabla_5 = tabla_5.fillna(0)"
   ]
  },
  {
   "cell_type": "code",
   "execution_count": 54,
   "metadata": {},
   "outputs": [],
   "source": [
    "prds = rforest.predict(tabla_5.drop(['violationcategory_public_health_hazard'],axis=1))\n",
    "probas = rforest.predict_proba(tabla_5.drop(['violationcategory_public_health_hazard'],axis=1))"
   ]
  },
  {
   "cell_type": "code",
   "execution_count": 55,
   "metadata": {},
   "outputs": [],
   "source": [
    "res = pd.DataFrame({\n",
    "    \"center\":tabla_5.index,\n",
    "    \"etiqueta\":prds,\n",
    "    \"proba_0\":probas[:,0],\n",
    "    \"proba_1\":probas[:,1]\n",
    "})\n",
    "\n",
    "res.loc[res['proba_0'] > res['proba_1'], 'score'] = res['proba_0']\n",
    "res.loc[res['proba_0'] < res['proba_1'], 'score'] = res['proba_1']"
   ]
  },
  {
   "cell_type": "code",
   "execution_count": 56,
   "metadata": {},
   "outputs": [],
   "source": [
    "categorias_1 = [\"programtype_all_age_camp\",\"programtype_infant_toddler\",\"programtype_preschool\", \"programtype_preschool_camp\", \"programtype_school_age_camp\"]\n",
    "programtype = pd.get_dummies(centros[categorias_1]).idxmax(1)\n",
    "categorias_2 = [\"borough_bronx\",\"borough_brooklyn\",\"borough_manhattan\", \"borough_queens\", \"borough_staten_island\"]\n",
    "borough = pd.get_dummies(centros[categorias_2]).idxmax(1)\n",
    "ambas = pd.concat([borough, programtype], axis=1,)\n",
    "ambas = ambas.rename(columns={0:'borough', 1:'programtype'})\n",
    "tabla_1 = pd.concat([centros, ambas], axis=1)\n",
    "tabla_2 = pd.merge(res, tabla_1, left_on='center', right_on='center_id')"
   ]
  },
  {
   "cell_type": "code",
   "execution_count": 57,
   "metadata": {},
   "outputs": [],
   "source": [
    "for i in list(tabla_2.index):\n",
    "    if str(tabla_2.iloc[i].borough_bronx) == \"1\":\n",
    "        tabla_2.loc[tabla_2.index == i ,\"borough\"] = \"bronx\"\n",
    "    elif str(tabla_2.iloc[i].borough_brooklyn) == \"1\":\n",
    "        tabla_2.loc[tabla_2.index == i ,\"borough\"] = \"brooklyn\"\n",
    "    elif str(tabla_2.iloc[i].borough_manhattan) == \"1\":\n",
    "        tabla_2.loc[tabla_2.index == i ,\"borough\"] = \"manhattan\"\n",
    "    elif str(tabla_2.iloc[i].borough_queens) == \"1\":\n",
    "        tabla_2.loc[tabla_2.index == i ,\"borough\"] = \"queens\"\n",
    "    elif str(tabla_2.iloc[i].borough_staten_island) == \"1\":\n",
    "        tabla_2.loc[tabla_2.index == i ,\"borough\"] = \"staten_island\""
   ]
  },
  {
   "cell_type": "code",
   "execution_count": 58,
   "metadata": {},
   "outputs": [],
   "source": [
    "tabla_2.drop(categorias_2, axis=1, inplace=True)"
   ]
  },
  {
   "cell_type": "code",
   "execution_count": 59,
   "metadata": {},
   "outputs": [],
   "source": [
    "for i in list(tabla_2.index):\n",
    "    if str(tabla_2.iloc[i].programtype_all_age_camp) == \"1\":\n",
    "        tabla_2.loc[tabla_2.index == i ,\"programtype\"] = \"all_age_camp\"\n",
    "    elif str(tabla_2.iloc[i].programtype_infant_toddler) == \"1\":\n",
    "        tabla_2.loc[tabla_2.index == i ,\"programtype\"] = \"infant_toddler\"\n",
    "    elif str(tabla_2.iloc[i].programtype_preschool) == \"1\":\n",
    "        tabla_2.loc[tabla_2.index == i ,\"programtype\"] = \"preschool\"\n",
    "    elif str(tabla_2.iloc[i].programtype_preschool_camp) == \"1\":\n",
    "        tabla_2.loc[tabla_2.index == i ,\"programtype\"] = \"preschool_camp\"\n",
    "    elif str(tabla_2.iloc[i].programtype_school_age_camp) == \"1\":\n",
    "        tabla_2.loc[tabla_2.index == i ,\"programtype\"] = \"school_age_camp\""
   ]
  },
  {
   "cell_type": "code",
   "execution_count": 60,
   "metadata": {},
   "outputs": [],
   "source": [
    "tabla_2.drop(categorias_1, axis=1, inplace=True)"
   ]
  },
  {
   "cell_type": "code",
   "execution_count": 61,
   "metadata": {},
   "outputs": [],
   "source": [
    "tabla_6 = tabla_2.loc[:, ['center', 'etiqueta', 'score', 'borough', 'programtype']]"
   ]
  },
  {
   "cell_type": "code",
   "execution_count": 62,
   "metadata": {},
   "outputs": [],
   "source": [
    "tabla_6 =  tabla_6.rename(columns = {'etiqueta':'label_value'})"
   ]
  },
  {
   "cell_type": "code",
   "execution_count": 63,
   "metadata": {},
   "outputs": [
    {
     "data": {
      "text/plain": [
       "preschool          2170\n",
       "infant_toddler      431\n",
       "all_age_camp        291\n",
       "school_age_camp      12\n",
       "preschool_camp        3\n",
       "Name: programtype, dtype: int64"
      ]
     },
     "execution_count": 63,
     "metadata": {},
     "output_type": "execute_result"
    }
   ],
   "source": [
    "tabla_6.programtype.value_counts()"
   ]
  },
  {
   "cell_type": "code",
   "execution_count": 66,
   "metadata": {},
   "outputs": [
    {
     "name": "stdout",
     "output_type": "stream",
     "text": [
      "<class 'pandas.core.frame.DataFrame'>\n",
      "Int64Index: 2907 entries, 0 to 2906\n",
      "Data columns (total 5 columns):\n",
      " #   Column       Non-Null Count  Dtype  \n",
      "---  ------       --------------  -----  \n",
      " 0   center       2907 non-null   object \n",
      " 1   label_value  2907 non-null   float64\n",
      " 2   score        2907 non-null   float64\n",
      " 3   borough      2907 non-null   object \n",
      " 4   programtype  2907 non-null   object \n",
      "dtypes: float64(2), object(3)\n",
      "memory usage: 136.3+ KB\n"
     ]
    }
   ],
   "source": [
    "tabla_6.info()"
   ]
  },
  {
   "cell_type": "code",
   "execution_count": 64,
   "metadata": {},
   "outputs": [
    {
     "name": "stdout",
     "output_type": "stream",
     "text": [
      "model_id, score_thresholds 1 {'rank_abs': [402]}\n"
     ]
    },
    {
     "name": "stderr",
     "output_type": "stream",
     "text": [
      "/usr/local/lib/python3.7/site-packages/aequitas/group.py:30: FutureWarning: The pandas.np module is deprecated and will be removed from pandas in a future version. Import numpy directly instead\n",
      "  divide = lambda x, y: x / y if y != 0 else pd.np.nan\n"
     ]
    },
    {
     "data": {
      "text/html": [
       "<div>\n",
       "<style scoped>\n",
       "    .dataframe tbody tr th:only-of-type {\n",
       "        vertical-align: middle;\n",
       "    }\n",
       "\n",
       "    .dataframe tbody tr th {\n",
       "        vertical-align: top;\n",
       "    }\n",
       "\n",
       "    .dataframe thead th {\n",
       "        text-align: right;\n",
       "    }\n",
       "</style>\n",
       "<table border=\"1\" class=\"dataframe\">\n",
       "  <thead>\n",
       "    <tr style=\"text-align: right;\">\n",
       "      <th></th>\n",
       "      <th>model_id</th>\n",
       "      <th>score_threshold</th>\n",
       "      <th>k</th>\n",
       "      <th>attribute_name</th>\n",
       "      <th>attribute_value</th>\n",
       "      <th>pp</th>\n",
       "      <th>pn</th>\n",
       "      <th>fp</th>\n",
       "      <th>fn</th>\n",
       "      <th>tn</th>\n",
       "      <th>tp</th>\n",
       "      <th>group_label_pos</th>\n",
       "      <th>group_label_neg</th>\n",
       "      <th>group_size</th>\n",
       "      <th>total_entities</th>\n",
       "    </tr>\n",
       "  </thead>\n",
       "  <tbody>\n",
       "    <tr>\n",
       "      <th>0</th>\n",
       "      <td>1</td>\n",
       "      <td>binary 0/1</td>\n",
       "      <td>402</td>\n",
       "      <td>center</td>\n",
       "      <td>dc1000</td>\n",
       "      <td>1</td>\n",
       "      <td>0</td>\n",
       "      <td>1</td>\n",
       "      <td>0</td>\n",
       "      <td>0</td>\n",
       "      <td>0</td>\n",
       "      <td>0</td>\n",
       "      <td>1</td>\n",
       "      <td>1</td>\n",
       "      <td>2907</td>\n",
       "    </tr>\n",
       "    <tr>\n",
       "      <th>1</th>\n",
       "      <td>1</td>\n",
       "      <td>binary 0/1</td>\n",
       "      <td>402</td>\n",
       "      <td>center</td>\n",
       "      <td>dc1017</td>\n",
       "      <td>0</td>\n",
       "      <td>1</td>\n",
       "      <td>0</td>\n",
       "      <td>0</td>\n",
       "      <td>1</td>\n",
       "      <td>0</td>\n",
       "      <td>0</td>\n",
       "      <td>1</td>\n",
       "      <td>1</td>\n",
       "      <td>2907</td>\n",
       "    </tr>\n",
       "    <tr>\n",
       "      <th>2</th>\n",
       "      <td>1</td>\n",
       "      <td>binary 0/1</td>\n",
       "      <td>402</td>\n",
       "      <td>center</td>\n",
       "      <td>dc1021</td>\n",
       "      <td>0</td>\n",
       "      <td>1</td>\n",
       "      <td>0</td>\n",
       "      <td>0</td>\n",
       "      <td>1</td>\n",
       "      <td>0</td>\n",
       "      <td>0</td>\n",
       "      <td>1</td>\n",
       "      <td>1</td>\n",
       "      <td>2907</td>\n",
       "    </tr>\n",
       "    <tr>\n",
       "      <th>3</th>\n",
       "      <td>1</td>\n",
       "      <td>binary 0/1</td>\n",
       "      <td>402</td>\n",
       "      <td>center</td>\n",
       "      <td>dc10244</td>\n",
       "      <td>0</td>\n",
       "      <td>1</td>\n",
       "      <td>0</td>\n",
       "      <td>0</td>\n",
       "      <td>1</td>\n",
       "      <td>0</td>\n",
       "      <td>0</td>\n",
       "      <td>1</td>\n",
       "      <td>1</td>\n",
       "      <td>2907</td>\n",
       "    </tr>\n",
       "    <tr>\n",
       "      <th>4</th>\n",
       "      <td>1</td>\n",
       "      <td>binary 0/1</td>\n",
       "      <td>402</td>\n",
       "      <td>center</td>\n",
       "      <td>dc1025</td>\n",
       "      <td>0</td>\n",
       "      <td>1</td>\n",
       "      <td>0</td>\n",
       "      <td>0</td>\n",
       "      <td>1</td>\n",
       "      <td>0</td>\n",
       "      <td>0</td>\n",
       "      <td>1</td>\n",
       "      <td>1</td>\n",
       "      <td>2907</td>\n",
       "    </tr>\n",
       "  </tbody>\n",
       "</table>\n",
       "</div>"
      ],
      "text/plain": [
       "   model_id score_threshold    k attribute_name attribute_value  pp  pn  fp  \\\n",
       "0         1      binary 0/1  402         center          dc1000   1   0   1   \n",
       "1         1      binary 0/1  402         center          dc1017   0   1   0   \n",
       "2         1      binary 0/1  402         center          dc1021   0   1   0   \n",
       "3         1      binary 0/1  402         center         dc10244   0   1   0   \n",
       "4         1      binary 0/1  402         center          dc1025   0   1   0   \n",
       "\n",
       "   fn  tn  tp  group_label_pos  group_label_neg  group_size  total_entities  \n",
       "0   0   0   0                0                1           1            2907  \n",
       "1   0   1   0                0                1           1            2907  \n",
       "2   0   1   0                0                1           1            2907  \n",
       "3   0   1   0                0                1           1            2907  \n",
       "4   0   1   0                0                1           1            2907  "
      ]
     },
     "execution_count": 64,
     "metadata": {},
     "output_type": "execute_result"
    }
   ],
   "source": [
    "g = Group()\n",
    "\n",
    "xtab, _ = g.get_crosstabs(tabla_6)\n",
    "\n",
    "absolute_metrics = g.list_absolute_metrics(xtab)\n",
    "\n",
    "df_group = xtab[[col for col in xtab.columns if col not in absolute_metrics]]\n",
    "df_group.head()"
   ]
  },
  {
   "cell_type": "code",
   "execution_count": 65,
   "metadata": {},
   "outputs": [
    {
     "name": "stdout",
     "output_type": "stream",
     "text": [
      "get_disparity_predefined_group()\n"
     ]
    },
    {
     "ename": "Exception",
     "evalue": "Bias.get_disparity_predefined_groups(): the number of predefined group values to use as reference is less than the actual number of attributes in the input dataframe.",
     "output_type": "error",
     "traceback": [
      "\u001b[0;31m---------------------------------------------------------------------------\u001b[0m",
      "\u001b[0;31mValueError\u001b[0m                                Traceback (most recent call last)",
      "\u001b[0;32m/usr/local/lib/python3.7/site-packages/aequitas/bias.py\u001b[0m in \u001b[0;36mget_disparity_predefined_groups\u001b[0;34m(self, df, original_df, ref_groups_dict, key_columns, input_group_metrics, fill_divbyzero, check_significance, alpha, mask_significance)\u001b[0m\n\u001b[1;32m    332\u001b[0m         \u001b[0;32mtry\u001b[0m\u001b[0;34m:\u001b[0m\u001b[0;34m\u001b[0m\u001b[0;34m\u001b[0m\u001b[0m\n\u001b[0;32m--> 333\u001b[0;31m             \u001b[0mself\u001b[0m\u001b[0;34m.\u001b[0m\u001b[0m_verify_ref_groups_dict_len\u001b[0m\u001b[0;34m(\u001b[0m\u001b[0mdf\u001b[0m\u001b[0;34m,\u001b[0m \u001b[0mref_groups_dict\u001b[0m\u001b[0;34m)\u001b[0m\u001b[0;34m\u001b[0m\u001b[0;34m\u001b[0m\u001b[0m\n\u001b[0m\u001b[1;32m    334\u001b[0m         \u001b[0;32mexcept\u001b[0m \u001b[0mValueError\u001b[0m\u001b[0;34m:\u001b[0m\u001b[0;34m\u001b[0m\u001b[0;34m\u001b[0m\u001b[0m\n",
      "\u001b[0;32m/usr/local/lib/python3.7/site-packages/aequitas/bias.py\u001b[0m in \u001b[0;36m_verify_ref_groups_dict_len\u001b[0;34m(self, df, ref_groups_dict)\u001b[0m\n\u001b[1;32m    281\u001b[0m         \u001b[0;32mif\u001b[0m \u001b[0mlen\u001b[0m\u001b[0;34m(\u001b[0m\u001b[0mref_groups_dict\u001b[0m\u001b[0;34m)\u001b[0m \u001b[0;34m!=\u001b[0m \u001b[0mlen\u001b[0m\u001b[0;34m(\u001b[0m\u001b[0mdf\u001b[0m\u001b[0;34m[\u001b[0m\u001b[0;34m'attribute_name'\u001b[0m\u001b[0;34m]\u001b[0m\u001b[0;34m.\u001b[0m\u001b[0munique\u001b[0m\u001b[0;34m(\u001b[0m\u001b[0;34m)\u001b[0m\u001b[0;34m)\u001b[0m\u001b[0;34m:\u001b[0m\u001b[0;34m\u001b[0m\u001b[0;34m\u001b[0m\u001b[0m\n\u001b[0;32m--> 282\u001b[0;31m             \u001b[0;32mraise\u001b[0m \u001b[0mValueError\u001b[0m\u001b[0;34m\u001b[0m\u001b[0;34m\u001b[0m\u001b[0m\n\u001b[0m\u001b[1;32m    283\u001b[0m \u001b[0;34m\u001b[0m\u001b[0m\n",
      "\u001b[0;31mValueError\u001b[0m: ",
      "\nDuring handling of the above exception, another exception occurred:\n",
      "\u001b[0;31mException\u001b[0m                                 Traceback (most recent call last)",
      "\u001b[0;32m<ipython-input-65-c63366b592e0>\u001b[0m in \u001b[0;36m<module>\u001b[0;34m\u001b[0m\n\u001b[1;32m      1\u001b[0m \u001b[0mb\u001b[0m \u001b[0;34m=\u001b[0m \u001b[0mBias\u001b[0m\u001b[0;34m(\u001b[0m\u001b[0;34m)\u001b[0m\u001b[0;34m\u001b[0m\u001b[0;34m\u001b[0m\u001b[0m\n\u001b[1;32m      2\u001b[0m \u001b[0;34m\u001b[0m\u001b[0m\n\u001b[0;32m----> 3\u001b[0;31m \u001b[0mbdf\u001b[0m \u001b[0;34m=\u001b[0m \u001b[0mb\u001b[0m\u001b[0;34m.\u001b[0m\u001b[0mget_disparity_predefined_groups\u001b[0m\u001b[0;34m(\u001b[0m\u001b[0mxtab\u001b[0m\u001b[0;34m,\u001b[0m \u001b[0moriginal_df\u001b[0m\u001b[0;34m=\u001b[0m\u001b[0mtabla_6\u001b[0m\u001b[0;34m,\u001b[0m \u001b[0mref_groups_dict\u001b[0m\u001b[0;34m=\u001b[0m\u001b[0;34m{\u001b[0m\u001b[0;34m'borough'\u001b[0m\u001b[0;34m:\u001b[0m\u001b[0;34m'brooklyn'\u001b[0m\u001b[0;34m,\u001b[0m \u001b[0;34m'programtype'\u001b[0m\u001b[0;34m:\u001b[0m\u001b[0;34m'preschool'\u001b[0m\u001b[0;34m}\u001b[0m\u001b[0;34m,\u001b[0m \u001b[0malpha\u001b[0m\u001b[0;34m=\u001b[0m\u001b[0;36m0.05\u001b[0m\u001b[0;34m,\u001b[0m \u001b[0mmask_significance\u001b[0m\u001b[0;34m=\u001b[0m\u001b[0;32mTrue\u001b[0m\u001b[0;34m)\u001b[0m\u001b[0;34m\u001b[0m\u001b[0;34m\u001b[0m\u001b[0m\n\u001b[0m\u001b[1;32m      4\u001b[0m \u001b[0;34m\u001b[0m\u001b[0m\n\u001b[1;32m      5\u001b[0m \u001b[0;31m#hbdf = b.get_disparity_predefined_groups(xtab, original_df=tabla_6,\u001b[0m\u001b[0;34m\u001b[0m\u001b[0;34m\u001b[0m\u001b[0;34m\u001b[0m\u001b[0m\n",
      "\u001b[0;32m/usr/local/lib/python3.7/site-packages/aequitas/bias.py\u001b[0m in \u001b[0;36mget_disparity_predefined_groups\u001b[0;34m(self, df, original_df, ref_groups_dict, key_columns, input_group_metrics, fill_divbyzero, check_significance, alpha, mask_significance)\u001b[0m\n\u001b[1;32m    333\u001b[0m             \u001b[0mself\u001b[0m\u001b[0;34m.\u001b[0m\u001b[0m_verify_ref_groups_dict_len\u001b[0m\u001b[0;34m(\u001b[0m\u001b[0mdf\u001b[0m\u001b[0;34m,\u001b[0m \u001b[0mref_groups_dict\u001b[0m\u001b[0;34m)\u001b[0m\u001b[0;34m\u001b[0m\u001b[0;34m\u001b[0m\u001b[0m\n\u001b[1;32m    334\u001b[0m         \u001b[0;32mexcept\u001b[0m \u001b[0mValueError\u001b[0m\u001b[0;34m:\u001b[0m\u001b[0;34m\u001b[0m\u001b[0;34m\u001b[0m\u001b[0m\n\u001b[0;32m--> 335\u001b[0;31m             raise Exception('Bias.get_disparity_predefined_groups(): the number of '\n\u001b[0m\u001b[1;32m    336\u001b[0m                           \u001b[0;34m'predefined group values to use as reference is less '\u001b[0m\u001b[0;34m\u001b[0m\u001b[0;34m\u001b[0m\u001b[0m\n\u001b[1;32m    337\u001b[0m                           \u001b[0;34m'than the actual number of attributes in the input '\u001b[0m\u001b[0;34m\u001b[0m\u001b[0;34m\u001b[0m\u001b[0m\n",
      "\u001b[0;31mException\u001b[0m: Bias.get_disparity_predefined_groups(): the number of predefined group values to use as reference is less than the actual number of attributes in the input dataframe."
     ]
    }
   ],
   "source": [
    "b = Bias()\n",
    "\n",
    "bdf = b.get_disparity_predefined_groups(xtab, original_df=tabla_6, ref_groups_dict={'borough':'brooklyn', 'programtype':'preschool'}, alpha=0.05, mask_significance=True)\n",
    "\n",
    "#hbdf = b.get_disparity_predefined_groups(xtab, original_df=tabla_6,\n",
    "                                         #ref_groups_dict={'borough':'brooklyn', 'programtype':'preschool'},\n",
    "                                         #alpha=0.05,\n",
    "                                         #mask_significance=False)\n",
    "\n",
    "\n",
    "#majority_bdf = b.get_disparity_major_group(xtab, original_df=tabla, mask_significance=True)"
   ]
  },
  {
   "cell_type": "code",
   "execution_count": null,
   "metadata": {},
   "outputs": [],
   "source": [
    "f = Fairness()\n",
    "\n",
    "fdf = f.get_group_value_fairness(bdf)\n",
    "\n",
    "fg = aqp.plot_fairness_group_all(fdf, ncols=5, metrics = \"all\")\n",
    "\n",
    "a_tm = aqp.plot_fairness_disparity_all(fdf, attributes=['borough'], metrics='all',\n",
    "                                       significance_alpha=0.05)"
   ]
  }
 ],
 "metadata": {
  "kernelspec": {
   "display_name": "Python 3",
   "language": "python",
   "name": "python3"
  },
  "language_info": {
   "codemirror_mode": {
    "name": "ipython",
    "version": 3
   },
   "file_extension": ".py",
   "mimetype": "text/x-python",
   "name": "python",
   "nbconvert_exporter": "python",
   "pygments_lexer": "ipython3",
   "version": "3.7.7"
  }
 },
 "nbformat": 4,
 "nbformat_minor": 4
}
